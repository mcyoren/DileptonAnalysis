{
 "cells": [
  {
   "cell_type": "code",
   "execution_count": 1,
   "id": "1c10f6ad",
   "metadata": {
    "ExecuteTime": {
     "end_time": "2023-06-08T12:27:26.307475757Z",
     "start_time": "2023-06-08T12:27:24.404822642Z"
    },
    "scrolled": true
   },
   "outputs": [
    {
     "name": "stdout",
     "output_type": "stream",
     "text": [
      "Welcome to JupyROOT 6.30/06\n"
     ]
    }
   ],
   "source": [
    "#%run input/Format.ipynb\n",
    "import ROOT as root\n",
    "from array import array\n",
    "root.gErrorIgnoreLevel = root.kFatal\n",
    "import pandas as pd\n",
    "%jsroot on"
   ]
  },
  {
   "cell_type": "code",
   "execution_count": 2,
   "id": "9bbc03e7",
   "metadata": {},
   "outputs": [
    {
     "data": {
      "text/plain": [
       "16"
      ]
     },
     "execution_count": 2,
     "metadata": {},
     "output_type": "execute_result"
    }
   ],
   "source": [
    "import multiprocessing as mp\n",
    "\n",
    "mp.cpu_count()"
   ]
  },
  {
   "cell_type": "code",
   "execution_count": 3,
   "id": "5ad245a0",
   "metadata": {},
   "outputs": [],
   "source": [
    "iOption0 = 6 # piminus, electron"
   ]
  },
  {
   "cell_type": "code",
   "execution_count": null,
   "id": "5bbbaabb",
   "metadata": {
    "ExecuteTime": {
     "end_time": "2023-06-08T12:27:26.414487148Z",
     "start_time": "2023-06-08T12:27:26.309822658Z"
    },
    "scrolled": true
   },
   "outputs": [],
   "source": [
    "colors=[1,2,4,root.kGreen+2,root.kMagenta,root.kOrange+4,root.kGray,root.kCyan]\n",
    "central_bins = [0,95,0,20,20,40,40,60,60,100]\n",
    "N_centr = int(len(central_bins)/2)\n",
    "pt_boarders = [0.2,0.3,0.4,0.5,0.6,0.7,0.9,1.1,1.4,1.9,2.5,3.5,5.0]\n",
    "N_pt = len(pt_boarders)-1\n",
    "file_path=\"/home/yoren/bnl/PHENIX/ee/AuAu/\"\n",
    "file_names=[\"my-50M_electron_embed_single_new_04-10_v0.root\",\"my-50M_piminus_embed_single_new_04-10_v0.root\",\"my-50M_phi_ee_embed_helios_00-10_v0.root\",\\\n",
    "            \"my-10M_bbbar_pythia_v0.root\",\"my-50M_ccbar_pythia_v0.root\",\\\n",
    "            \"my-100M_pi0_gg_embed_helios_new_04-6_v2.root\",\"my-100M_pi0_gg_embed_helios_new_04-6_v0.root\"\\\n",
    "            ,\"my-50M_pi0_gee_embed_helios_new_04-10_v0.root\",\\\n",
    "            \"my-10M_bbbar_pythia_v7.root\",\"my-100M_piminus_single_hagedorn_04-5_v0.root\"]\n",
    "code_path=\"../AnaTrain/Run14AuAuLeptonComby/\"\n",
    "file_name=file_names[iOption0]\n",
    "outfilenames= ['electron_new0','piminus_new0','phi_new0','bbbar_new0','ccbar_new0','photon_new2','photon_new1','dalitz_new0','pionminus']#output\n",
    "outfilepath = \"/home/yoren/bnl/PHENIX/ee/ML/\"\n",
    "N_start, N_end = 0e6, 25e6\n",
    "N_threads = 1\n",
    "filename=outfilenames[iOption0]\n",
    "part_ids=[9,3,3,3,3,3,3,3]\n",
    "part_id = part_ids[iOption0]\n",
    "part_name = [\"e^{+}\",\"e^{-}\"]"
   ]
  },
  {
   "cell_type": "code",
   "execution_count": 5,
   "id": "34254909",
   "metadata": {},
   "outputs": [
    {
     "data": {
      "text/plain": [
       "0"
      ]
     },
     "execution_count": 5,
     "metadata": {},
     "output_type": "execute_result"
    }
   ],
   "source": [
    "root.gSystem.Load(code_path+\"MyEvent_C.so\")"
   ]
  },
  {
   "cell_type": "code",
   "execution_count": 6,
   "id": "9edb00b5",
   "metadata": {},
   "outputs": [
    {
     "name": "stdout",
     "output_type": "stream",
     "text": [
      "File opened at ../AnaTrain/Run14AuAuLeptonComby/field_map.root\n"
     ]
    }
   ],
   "source": [
    "root.gROOT.ProcessLine(\n",
    "f\"TFile *input = new TFile(\\\"{file_path+file_name}\\\", \\\"READ\\\");\\\n",
    "TTree *T = (TTree *)input->Get(\\\"tree\\\");\\\n",
    "MyDileptonAnalysis::MyEvent *myevent = 0;\\\n",
    "TBranch *br = T->GetBranch(\\\"MyEvent\\\");\\\n",
    "br->SetAddress(&myevent);\\\n",
    "MyDileptonAnalysis::MyEventContainer *event_container = new MyDileptonAnalysis::MyEventContainer();\\\n",
    "event_container->InitEvent();\\\n",
    "event_container->GetHistsFromFile(\\\"{code_path}field_map.root\\\");\\\n",
    "\"\n",
    "); \n",
    "from ROOT import myevent, br, event_container"
   ]
  },
  {
   "cell_type": "markdown",
   "id": "b6da4bdd",
   "metadata": {},
   "source": [
    "mcid: 2 - positron, 3 - electron, 8 - pion+, 9 - pion minus"
   ]
  },
  {
   "cell_type": "code",
   "execution_count": 7,
   "id": "3a73bd65",
   "metadata": {},
   "outputs": [],
   "source": [
    "geant3dict = {\n",
    "  2: \"positron\",\n",
    "  3: \"electron\",\n",
    "  5: \"+muon\",\n",
    "  6: \"-muon\",\n",
    "  8: \"+pion\",\n",
    "  9: \"-pion\",\n",
    "  11: \"+kaon\",\n",
    "  12: \"-kaon\",\n",
    "  14: \"proton\",\n",
    "  15: \"antiproton\"\n",
    "}"
   ]
  },
  {
   "cell_type": "code",
   "execution_count": 8,
   "id": "9ac9d3b2",
   "metadata": {},
   "outputs": [
    {
     "name": "stdout",
     "output_type": "stream",
     "text": [
      "8156638\n",
      "Nevent: 35, centrality: 67.0, N VTX hit: 5, Ntracks: 2, NBDTtracks: 2\n",
      "N hits: 1 , pt: 0.314 , id: electron\n",
      "0 -1.487 , -1.208 , 2.213 , -10.0 ; 1.0 , 1.0 , 1.0 , 0.0\n",
      "N hits: 1 , pt: 1.836 , id: positron\n",
      "0 0.207 , 0.132 , -0.473 , -10.0 ; 1.0 , 1.0 , 1.0 , 0.0\n",
      "2.135359048843384\n",
      "1.196331262588501\n",
      "Nevent: 48, centrality: 48.0, N VTX hit: 18, Ntracks: 2, NBDTtracks: 1\n",
      "N hits: 10 , pt: 0.188 , id: positron\n",
      "0 -4.744 , -1.011 , -0.584 , -10.0 ; 1.0 , 1.0 , 1.0 , 0.0\n",
      "1 -2.641 , -3.013 , -0.584 , -10.0 ; 1.0 , 1.0 , 1.0 , 0.0\n",
      "2 -4.744 , -1.011 , -0.914 , -0.433 ; 1.0 , 1.0 , 1.0 , 1.0\n",
      "3 -2.641 , -3.013 , -0.914 , -0.433 ; 1.0 , 1.0 , 1.0 , 1.0\n",
      "4 -4.744 , -1.011 , 1.807 , -1.09 ; 1.0 , 1.0 , 1.0 , 0.0\n",
      "5 -2.641 , -3.013 , 1.807 , -1.09 ; 1.0 , 1.0 , 1.0 , 0.0\n",
      "6 -4.744 , -1.319 , -10.0 , -0.433 ; 1.0 , 1.0 , 1.0 , 0.0\n",
      "7 -2.641 , -2.639 , -10.0 , -0.433 ; 1.0 , 1.0 , 1.0 , 0.0\n",
      "8 -4.744 , 0.491 , -10.0 , -1.09 ; 1.0 , 1.0 , 0.0 , 0.0\n",
      "9 -2.641 , -0.829 , -10.0 , -1.09 ; 1.0 , 1.0 , 0.0 , 0.0\n",
      "2.2887773513793945\n",
      "2.035350799560547\n",
      "Nevent: 219, centrality: 41.0, N VTX hit: 19, Ntracks: 1, NBDTtracks: 1\n",
      "N hits: 1 , pt: 0.323 , id: positron\n",
      "0 -3.989 , -4.692 , 1.124 , -10.0 ; 1.0 , 1.0 , 1.0 , 0.0\n",
      "0.4314817190170288\n",
      "0.08855213224887848\n",
      "Nevent: 242, centrality: 55.0, N VTX hit: 9, Ntracks: 2, NBDTtracks: 1\n",
      "N hits: 2 , pt: 0.307 , id: positron\n",
      "0 -3.282 , -1.153 , -0.752 , -10.0 ; 1.0 , 1.0 , 1.0 , 0.0\n",
      "1 -1.481 , -2.828 , -0.752 , -10.0 ; 1.0 , 1.0 , 1.0 , 0.0\n",
      "1.767214059829712\n",
      "0.23827216029167175\n",
      "Nevent: 274, centrality: 72.0, N VTX hit: 5, Ntracks: 2, NBDTtracks: 2\n",
      "N hits: 2 , pt: 0.471 , id: positron\n",
      "0 -0.686 , -0.2 , -0.003 , -10.0 ; 1.0 , 1.0 , 1.0 , 0.0\n",
      "1 -3.933 , 2.471 , -0.003 , -10.0 ; 1.0 , 1.0 , 1.0 , 0.0\n",
      "N hits: 1 , pt: 1.876 , id: electron\n",
      "0 0.318 , 0.007 , 4.802 , -10.0 ; 1.0 , 1.0 , 1.0 , 0.0\n",
      "2.3948280811309814\n",
      "0.8428260087966919\n",
      "Nevent: 284, centrality: 7.0, N VTX hit: 17, Ntracks: 1, NBDTtracks: 1\n",
      "N hits: 1 , pt: 3.657 , id: electron\n",
      "0 0.206 , 0.176 , -10.0 , 0.654 ; 1.0 , 1.0 , 1.0 , 0.0\n",
      "0.27411961555480957\n",
      "4.316290855407715\n",
      "Nevent: 286, centrality: 79.0, N VTX hit: 7, Ntracks: 1, NBDTtracks: 1\n",
      "N hits: 2 , pt: 1.388 , id: positron\n",
      "0 -2.939 , 2.183 , -10.0 , 0.272 ; 1.0 , 1.0 , 1.0 , 0.0\n",
      "1 0.349 , -0.871 , -10.0 , 0.272 ; 1.0 , 1.0 , 1.0 , 0.0\n",
      "1.1301498413085938\n",
      "3.0986404418945312\n",
      "Nevent: 354, centrality: 66.0, N VTX hit: 9, Ntracks: 1, NBDTtracks: 1\n",
      "N hits: 3 , pt: 2.01 , id: electron\n",
      "0 -0.497 , -0.052 , 3.19 , -10.0 ; 1.0 , 1.0 , 1.0 , 0.0\n",
      "1 -0.497 , -0.052 , -0.174 , -1.339 ; 1.0 , 1.0 , 1.0 , 1.0\n",
      "2 -0.497 , -0.146 , -10.0 , -1.339 ; 1.0 , 1.0 , 1.0 , 0.0\n",
      "2.2413792610168457\n",
      "0.9459050893783569\n",
      "Nevent: 394, centrality: 31.0, N VTX hit: 23, Ntracks: 3, NBDTtracks: 1\n",
      "N hits: 7 , pt: 0.258 , id: electron\n",
      "0 0.775 , -0.075 , -0.893 , -10.0 ; 0.0 , 0.0 , 0.0 , 0.0\n",
      "1 0.775 , -4.814 , 0.163 , -10.0 ; 0.0 , 0.0 , 0.0 , 0.0\n",
      "2 0.775 , -0.075 , 1.506 , -1.153 ; 0.0 , 0.0 , 0.0 , 0.0\n",
      "3 0.775 , -4.814 , -4.3 , 0.915 ; 0.0 , 0.0 , 0.0 , 0.0\n",
      "4 0.775 , -4.814 , 0.594 , 0.106 ; 0.0 , 0.0 , 0.0 , 0.0\n",
      "5 0.775 , 0.905 , -10.0 , -1.153 ; 0.0 , 0.0 , 0.0 , 0.0\n",
      "6 0.775 , -3.669 , -10.0 , 0.106 ; 0.0 , 0.0 , 0.0 , 0.0\n",
      "1.5853215456008911\n",
      "1.0956708192825317\n"
     ]
    }
   ],
   "source": [
    "N_real_ev = br.GetEntries()\n",
    "print(N_real_ev)\n",
    "good_event_counter = 0\n",
    "soso_event_counter = 0 \n",
    "for ievent in range(N_real_ev):\n",
    "    if good_event_counter>10: break\n",
    "    myevent.ClearEvent()\n",
    "    br.GetEntry(ievent)\n",
    "    event_container.SetEvent(myevent)\n",
    "    if not myevent.GetNtrack(): continue\n",
    "            \n",
    "    n_hits = myevent.GetNVTXhit()\n",
    "    jhit=0\n",
    "    for ihit in range(n_hits):\n",
    "        if myevent.GetVTXHitEntry(jhit).GetSensor() == 1 :\n",
    "            myevent.RemoveVTXHitEntry(jhit)\n",
    "        else: jhit+=1\n",
    "    \n",
    "    event_container.correct_beam_offset()\n",
    "    event_container.Associate_Hits_to_Leptons(5,5,5)\n",
    "    for itrack in range(myevent.GetNtrack()):\n",
    "        if myevent.GetEntry(itrack).GetPtPrime()>0.4 and myevent.GetEntry(itrack).GetTrkQuality()>62 and myevent.GetEntry(itrack).GetMcId()>1 and myevent.GetEntry(itrack).GetMcId()<10:\n",
    "            soso_event_counter+=1\n",
    "    do_continue = False\n",
    "    if event_container.GetNBDThit()>0:\n",
    "        do_continue = True\n",
    "    if not do_continue:\n",
    "        continue\n",
    "    good_event_counter+=event_container.GetNBDThit()\n",
    "    if True : print(f\"Nevent: {ievent}, centrality: {myevent.GetCentrality()}, N VTX hit: {myevent.GetNVTXhit()}, Ntracks: {myevent.GetNtrack()}, NBDTtracks: {event_container.GetNBDThit()}\") \n",
    "\n",
    "    for ipart in range(event_container.GetNBDThit()):\n",
    "        print(\"N hits:\",  event_container.GetBDTHitEntry(ipart).GetNBDThit(), \", pt:\", round(event_container.GetBDTHitEntry(ipart).GetPt(),3),\\\n",
    "              \", id:\",  geant3dict[myevent.GetEntry(ipart).GetMcId()])\n",
    "        for ibdthit in range(event_container.GetBDTHitEntry(ipart).GetNBDThit()):\n",
    "            bdthit = event_container.GetBDTHitEntry(ipart).GetBDTHitEntry(ibdthit)\n",
    "            print(ibdthit, round(bdthit.Getsdphi(0),3),\",\",round(bdthit.Getsdphi(1),3),\",\",round(bdthit.Getsdphi(2),3),\",\",round(bdthit.Getsdphi(3),3),\";\",\\\n",
    "                  round(bdthit.GetIsTrue(0),3),\",\",round(bdthit.GetIsTrue(1),3),\",\",round(bdthit.GetIsTrue(2),3),\",\",round(bdthit.GetIsTrue(3),3))\n",
    "    for ipart in range(myevent.GetNgentrack()):\n",
    "        print(myevent.GetGenTrack(ipart).GetPt())"
   ]
  },
  {
   "cell_type": "code",
   "execution_count": 9,
   "id": "256200c8",
   "metadata": {},
   "outputs": [
    {
     "name": "stdout",
     "output_type": "stream",
     "text": [
      "11 206 395\n"
     ]
    }
   ],
   "source": [
    "print(good_event_counter,soso_event_counter, ievent)"
   ]
  },
  {
   "cell_type": "code",
   "execution_count": 10,
   "id": "1783a17d",
   "metadata": {},
   "outputs": [],
   "source": [
    "def write_TTree_to_CVS(N_start_loc, N_end_loc, iter = 0):\n",
    "    data_array = []\n",
    "    good_event_counter = 0\n",
    "    soso_event_counter = 0 \n",
    "    for ievent in range(int(N_start_loc), min(int(N_end_loc),N_real_ev)):\n",
    "        if (ievent - N_start_loc) % 1e5 == 0: print(\"N of events:\", ievent - N_start_loc, iter)\n",
    "        if good_event_counter>100000000: break\n",
    "        myevent.ClearEvent()\n",
    "        br.GetEntry(ievent)\n",
    "        event_container.SetEvent(myevent)\n",
    "        if not myevent.GetNtrack(): continue\n",
    "        if myevent.GetNtrack() > myevent.GetNgentrack(): continue\n",
    "\n",
    "        n_hits = myevent.GetNVTXhit()\n",
    "        jhit=0\n",
    "        for ihit in range(n_hits):\n",
    "            if myevent.GetVTXHitEntry(jhit).GetSensor() == 1 :\n",
    "                myevent.RemoveVTXHitEntry(jhit)\n",
    "            else: jhit+=1\n",
    "\n",
    "        event_container.correct_beam_offset()\n",
    "        event_container.Associate_Hits_to_Leptons(5,5,5)\n",
    "        if event_container.GetNBDThit() > myevent.GetNgentrack(): continue\n",
    "        soso_event_counter+=1\n",
    "        do_continue = False\n",
    "        for ipart in range(myevent.GetNtrack()):\n",
    "            if event_container.GetNBDThit()>0:\n",
    "                do_continue = True\n",
    "        if not do_continue:\n",
    "            continue\n",
    "        good_event_counter+=1\n",
    "        sdphi_0,sdphi_1 =  myevent.GetEntry(0).GetMinsDphi(0), myevent.GetEntry(0).GetMinsDphi(1)\n",
    "        for ipart in range(event_container.GetNBDThit()):\n",
    "            BDTpart  = event_container.GetBDTHitEntry(ipart)\n",
    "            gentrack = myevent.GetGenTrack(0)\n",
    "            for ibdthit in range(BDTpart.GetNBDThit()):\n",
    "                bdthit = event_container.GetBDTHitEntry(ipart).GetBDTHitEntry(ibdthit)\n",
    "                if abs(sdphi_0- bdthit.Getsdphi(0))>0.01 or abs(sdphi_1- bdthit.Getsdphi(1))>0.01: \n",
    "                    continue\n",
    "                data_array.append([BDTpart.GetNBDThit(), BDTpart.GetPt(), BDTpart.GetPhi0(), BDTpart.GetThe0(), BDTpart.GetPhiDC(), BDTpart.GetZDC(), \\\n",
    "                                   BDTpart.GetAlpha(), BDTpart.GetEcore(), BDTpart.GetCentrality(), BDTpart.GetCharge(), BDTpart.GetArm(),\\\n",
    "                                   bdthit.GetReconPt(), bdthit.GetReconPhi0(), bdthit.GetReconThe0(),\\\n",
    "                                   gentrack.GetPx(), gentrack.GetPy(), gentrack.GetPz(), gentrack.GetVx()/10**15-myevent.GetPreciseX(), gentrack.GetVy()/10**15-myevent.GetPreciseY(), gentrack.GetVz()/10**15-myevent.GetPreciseZ(),\\\n",
    "                                   bdthit.Getsdphi(0), bdthit.Getsdthe(0), bdthit.GetIsTrue(0), bdthit.GetSecondHitPhiR(0), bdthit.GetSecondHitPhiL(0), bdthit.GetSecondHitTheR(0), bdthit.GetSecondHitTheL(0),\\\n",
    "                                   bdthit.Getsdphi(1), bdthit.Getsdthe(1), bdthit.GetIsTrue(1), bdthit.GetSecondHitPhiR(1), bdthit.GetSecondHitPhiL(1), bdthit.GetSecondHitTheR(1), bdthit.GetSecondHitTheL(1),\\\n",
    "                                   bdthit.Getsdphi(2), bdthit.Getsdthe(2), bdthit.GetIsTrue(2), bdthit.GetSecondHitPhiR(2), bdthit.GetSecondHitPhiL(2), bdthit.GetSecondHitTheR(2), bdthit.GetSecondHitTheL(2),\\\n",
    "                                   bdthit.Getsdphi(3), bdthit.Getsdthe(3), bdthit.GetIsTrue(3), bdthit.GetSecondHitPhiR(3), bdthit.GetSecondHitPhiL(3), bdthit.GetSecondHitTheR(3), bdthit.GetSecondHitTheL(3),\\\n",
    "                                    ])\n",
    "                #print(BDTpart.GetPt()-(gentrack.GetPx()**2+gentrack.GetPy()**2)**0.5)\n",
    "\n",
    "    data = pd.DataFrame(data_array, columns=('NBDThit', 'Pt', 'Phi0', 'The0', 'PhiDC', 'ZDC', 'Alpha', 'Ecore', 'Centrality', 'Charge', 'Arm',\\\n",
    "                                             'reconpt','reconphi0','reconthe0','px','py','pz','vx','vy','vz',\\\n",
    "                                             'sdphi0','sdthe0','IsTrue0','SecondHitPhiR0','SecondHitPhiL0','SecondHitTheR0','SecondHitTheL0',\\\n",
    "                                             'sdphi1','sdthe1','IsTrue1','SecondHitPhiR1','SecondHitPhiL1','SecondHitTheR1','SecondHitTheL1',\\\n",
    "                                             'sdphi2','sdthe2','IsTrue2','SecondHitPhiR2','SecondHitPhiL2','SecondHitTheR2','SecondHitTheL2',\\\n",
    "                                             'sdphi3','sdthe3','IsTrue3','SecondHitPhiR3','SecondHitPhiL3','SecondHitTheR3','SecondHitTheL3'))\n",
    "    \n",
    "    float_columns=('Pt', 'Phi0', 'The0', 'PhiDC', 'ZDC', 'Alpha', 'Ecore',\\\n",
    "                   'reconpt','reconphi0','reconthe0','px','py','pz','vx','vy','vz',\\\n",
    "                   'sdphi0','sdthe0','SecondHitPhiR0','SecondHitPhiL0','SecondHitTheR0','SecondHitTheL0',\\\n",
    "                   'sdphi1','sdthe1','SecondHitPhiR1','SecondHitPhiL1','SecondHitTheR1','SecondHitTheL1',\\\n",
    "                   'sdphi2','sdthe2','SecondHitPhiR2','SecondHitPhiL2','SecondHitTheR2','SecondHitTheL2',\\\n",
    "                   'sdphi3','sdthe3','SecondHitPhiR3','SecondHitPhiL3','SecondHitTheR3','SecondHitTheL3')\n",
    "    int_columns=('NBDThit','Centrality', 'Charge', 'Arm','IsTrue0','IsTrue1','IsTrue2','IsTrue3')\n",
    "    \n",
    "    for float_column in float_columns:\n",
    "        data[float_column] = data[float_column].astype('float32')\n",
    "    for int_column in int_columns:\n",
    "        data[int_column] = data[int_column].astype('int32')\n",
    "    \n",
    "    print(data.size, data.shape, good_event_counter, soso_event_counter, ievent+1, ievent - N_start_loc+1, iter)\n",
    "    filepath = outfilepath+filename+str(iter)\n",
    "    compression_options = dict(method='zip', archive_name=f'{filename}{iter}.csv')\n",
    "\n",
    "    data.to_csv(f'{filepath}.zip', compression=compression_options, index=False)\n",
    "\n",
    "    return [[data.size, data.shape, good_event_counter,soso_event_counter, ievent+1, ievent - N_start_loc+1, iter],data.head(),f'{filepath}.zip']"
   ]
  },
  {
   "cell_type": "code",
   "execution_count": 11,
   "id": "fe1a7672",
   "metadata": {},
   "outputs": [
    {
     "name": "stdout",
     "output_type": "stream",
     "text": [
      "N of events: 0 0\n",
      "166560 (3470, 48) 2529 92875 100000 100000 0\n",
      "2 100 -1\n",
      "2 100 1\n",
      "3 100 -1\n",
      "2 100 1\n",
      "2 100 -1\n"
     ]
    }
   ],
   "source": [
    "out = write_TTree_to_CVS(0,100000)"
   ]
  },
  {
   "cell_type": "code",
   "execution_count": 12,
   "id": "50c95dc7",
   "metadata": {},
   "outputs": [
    {
     "name": "stdout",
     "output_type": "stream",
     "text": [
      "[166560, (3470, 48), 2529, 92875, 100000, 100000, 0]\n"
     ]
    },
    {
     "data": {
      "text/html": [
       "<div>\n",
       "<style scoped>\n",
       "    .dataframe tbody tr th:only-of-type {\n",
       "        vertical-align: middle;\n",
       "    }\n",
       "\n",
       "    .dataframe tbody tr th {\n",
       "        vertical-align: top;\n",
       "    }\n",
       "\n",
       "    .dataframe thead th {\n",
       "        text-align: right;\n",
       "    }\n",
       "</style>\n",
       "<table border=\"1\" class=\"dataframe\">\n",
       "  <thead>\n",
       "    <tr style=\"text-align: right;\">\n",
       "      <th></th>\n",
       "      <th>NBDThit</th>\n",
       "      <th>Pt</th>\n",
       "      <th>Phi0</th>\n",
       "      <th>The0</th>\n",
       "      <th>PhiDC</th>\n",
       "      <th>ZDC</th>\n",
       "      <th>Alpha</th>\n",
       "      <th>Ecore</th>\n",
       "      <th>Centrality</th>\n",
       "      <th>Charge</th>\n",
       "      <th>...</th>\n",
       "      <th>SecondHitPhiL2</th>\n",
       "      <th>SecondHitTheR2</th>\n",
       "      <th>SecondHitTheL2</th>\n",
       "      <th>sdphi3</th>\n",
       "      <th>sdthe3</th>\n",
       "      <th>IsTrue3</th>\n",
       "      <th>SecondHitPhiR3</th>\n",
       "      <th>SecondHitPhiL3</th>\n",
       "      <th>SecondHitTheR3</th>\n",
       "      <th>SecondHitTheL3</th>\n",
       "    </tr>\n",
       "  </thead>\n",
       "  <tbody>\n",
       "    <tr>\n",
       "      <th>0</th>\n",
       "      <td>1</td>\n",
       "      <td>0.314382</td>\n",
       "      <td>3.005874</td>\n",
       "      <td>1.830078</td>\n",
       "      <td>2.300781</td>\n",
       "      <td>-52.176411</td>\n",
       "      <td>0.345215</td>\n",
       "      <td>-9999.000000</td>\n",
       "      <td>67</td>\n",
       "      <td>-1</td>\n",
       "      <td>...</td>\n",
       "      <td>2.107851</td>\n",
       "      <td>0.0</td>\n",
       "      <td>-0.463134</td>\n",
       "      <td>-10.000000</td>\n",
       "      <td>-10.000000</td>\n",
       "      <td>0</td>\n",
       "      <td>-99.000000</td>\n",
       "      <td>-99.000000</td>\n",
       "      <td>-99.00000</td>\n",
       "      <td>-99.000000</td>\n",
       "    </tr>\n",
       "    <tr>\n",
       "      <th>1</th>\n",
       "      <td>1</td>\n",
       "      <td>0.322665</td>\n",
       "      <td>2.764482</td>\n",
       "      <td>1.680664</td>\n",
       "      <td>3.416016</td>\n",
       "      <td>-22.434755</td>\n",
       "      <td>-0.320801</td>\n",
       "      <td>0.307036</td>\n",
       "      <td>41</td>\n",
       "      <td>1</td>\n",
       "      <td>...</td>\n",
       "      <td>820.091919</td>\n",
       "      <td>0.0</td>\n",
       "      <td>52.347324</td>\n",
       "      <td>-10.000000</td>\n",
       "      <td>-10.000000</td>\n",
       "      <td>0</td>\n",
       "      <td>-99.000000</td>\n",
       "      <td>98.995071</td>\n",
       "      <td>-99.00000</td>\n",
       "      <td>4.620638</td>\n",
       "    </tr>\n",
       "    <tr>\n",
       "      <th>2</th>\n",
       "      <td>2</td>\n",
       "      <td>0.306742</td>\n",
       "      <td>-1.164109</td>\n",
       "      <td>1.905273</td>\n",
       "      <td>-0.452148</td>\n",
       "      <td>-72.974777</td>\n",
       "      <td>-0.360107</td>\n",
       "      <td>0.250073</td>\n",
       "      <td>55</td>\n",
       "      <td>1</td>\n",
       "      <td>...</td>\n",
       "      <td>-99.000000</td>\n",
       "      <td>0.0</td>\n",
       "      <td>-99.000000</td>\n",
       "      <td>-10.000000</td>\n",
       "      <td>-10.000000</td>\n",
       "      <td>0</td>\n",
       "      <td>-99.000000</td>\n",
       "      <td>-99.000000</td>\n",
       "      <td>-99.00000</td>\n",
       "      <td>-99.000000</td>\n",
       "    </tr>\n",
       "    <tr>\n",
       "      <th>3</th>\n",
       "      <td>2</td>\n",
       "      <td>0.471366</td>\n",
       "      <td>2.928367</td>\n",
       "      <td>1.849609</td>\n",
       "      <td>3.373047</td>\n",
       "      <td>-62.307701</td>\n",
       "      <td>-0.229126</td>\n",
       "      <td>0.572168</td>\n",
       "      <td>72</td>\n",
       "      <td>1</td>\n",
       "      <td>...</td>\n",
       "      <td>2.627363</td>\n",
       "      <td>0.0</td>\n",
       "      <td>-1.424728</td>\n",
       "      <td>-10.000000</td>\n",
       "      <td>-10.000000</td>\n",
       "      <td>0</td>\n",
       "      <td>-99.000000</td>\n",
       "      <td>-99.000000</td>\n",
       "      <td>-99.00000</td>\n",
       "      <td>-99.000000</td>\n",
       "    </tr>\n",
       "    <tr>\n",
       "      <th>4</th>\n",
       "      <td>1</td>\n",
       "      <td>3.657309</td>\n",
       "      <td>0.843812</td>\n",
       "      <td>1.620117</td>\n",
       "      <td>0.788086</td>\n",
       "      <td>-10.976875</td>\n",
       "      <td>0.026657</td>\n",
       "      <td>3.638179</td>\n",
       "      <td>7</td>\n",
       "      <td>-1</td>\n",
       "      <td>...</td>\n",
       "      <td>5.124060</td>\n",
       "      <td>-99.0</td>\n",
       "      <td>13.035460</td>\n",
       "      <td>0.654251</td>\n",
       "      <td>1.417578</td>\n",
       "      <td>0</td>\n",
       "      <td>1.441274</td>\n",
       "      <td>71.735603</td>\n",
       "      <td>-3.65188</td>\n",
       "      <td>-1.266910</td>\n",
       "    </tr>\n",
       "  </tbody>\n",
       "</table>\n",
       "<p>5 rows × 48 columns</p>\n",
       "</div>"
      ],
      "text/plain": [
       "   NBDThit        Pt      Phi0      The0     PhiDC        ZDC     Alpha  \\\n",
       "0        1  0.314382  3.005874  1.830078  2.300781 -52.176411  0.345215   \n",
       "1        1  0.322665  2.764482  1.680664  3.416016 -22.434755 -0.320801   \n",
       "2        2  0.306742 -1.164109  1.905273 -0.452148 -72.974777 -0.360107   \n",
       "3        2  0.471366  2.928367  1.849609  3.373047 -62.307701 -0.229126   \n",
       "4        1  3.657309  0.843812  1.620117  0.788086 -10.976875  0.026657   \n",
       "\n",
       "         Ecore  Centrality  Charge  ...  SecondHitPhiL2  SecondHitTheR2  \\\n",
       "0 -9999.000000          67      -1  ...        2.107851             0.0   \n",
       "1     0.307036          41       1  ...      820.091919             0.0   \n",
       "2     0.250073          55       1  ...      -99.000000             0.0   \n",
       "3     0.572168          72       1  ...        2.627363             0.0   \n",
       "4     3.638179           7      -1  ...        5.124060           -99.0   \n",
       "\n",
       "   SecondHitTheL2     sdphi3     sdthe3  IsTrue3  SecondHitPhiR3  \\\n",
       "0       -0.463134 -10.000000 -10.000000        0      -99.000000   \n",
       "1       52.347324 -10.000000 -10.000000        0      -99.000000   \n",
       "2      -99.000000 -10.000000 -10.000000        0      -99.000000   \n",
       "3       -1.424728 -10.000000 -10.000000        0      -99.000000   \n",
       "4       13.035460   0.654251   1.417578        0        1.441274   \n",
       "\n",
       "   SecondHitPhiL3  SecondHitTheR3  SecondHitTheL3  \n",
       "0      -99.000000       -99.00000      -99.000000  \n",
       "1       98.995071       -99.00000        4.620638  \n",
       "2      -99.000000       -99.00000      -99.000000  \n",
       "3      -99.000000       -99.00000      -99.000000  \n",
       "4       71.735603        -3.65188       -1.266910  \n",
       "\n",
       "[5 rows x 48 columns]"
      ]
     },
     "execution_count": 12,
     "metadata": {},
     "output_type": "execute_result"
    }
   ],
   "source": [
    "print(out[0])\n",
    "out[1]"
   ]
  },
  {
   "cell_type": "code",
   "execution_count": 13,
   "id": "cb992876",
   "metadata": {},
   "outputs": [],
   "source": [
    "def write_TTree_to_CVS_MP(iter):\n",
    "    delta  = int((N_end - N_start)/N_threads)\n",
    "    N_start_loc, N_end_loc = N_start + delta*iter, N_start + delta*(iter+1)\n",
    "    output =  write_TTree_to_CVS(N_start_loc,N_end_loc,iter)\n",
    "    return output\n"
   ]
  },
  {
   "cell_type": "code",
   "execution_count": null,
   "id": "7bbcb436",
   "metadata": {},
   "outputs": [
    {
     "name": "stdout",
     "output_type": "stream",
     "text": [
      "N of events: 0.0 0\n",
      "N of events: 100000.0 0\n",
      "N of events: 200000.0 0\n",
      "N of events: 300000.0 0\n",
      "N of events: 400000.0 0\n",
      "N of events: 500000.0 0\n",
      "N of events: 600000.0 0\n",
      "N of events: 700000.0 0\n",
      "N of events: 800000.0 0\n",
      "N of events: 900000.0 0\n",
      "N of events: 1000000.0 0\n",
      "N of events: 1100000.0 0\n",
      "N of events: 1200000.0 0\n",
      "N of events: 1300000.0 0\n",
      "N of events: 1400000.0 0\n",
      "N of events: 1500000.0 0\n",
      "N of events: 1600000.0 0\n",
      "N of events: 1700000.0 0\n",
      "N of events: 1800000.0 0\n",
      "N of events: 1900000.0 0\n",
      "N of events: 2000000.0 0\n",
      "N of events: 2100000.0 0\n",
      "N of events: 2200000.0 0\n",
      "N of events: 2300000.0 0\n",
      "N of events: 2400000.0 0\n",
      "N of events: 2500000.0 0\n",
      "N of events: 2600000.0 0\n",
      "N of events: 2700000.0 0\n",
      "N of events: 2800000.0 0\n",
      "N of events: 2900000.0 0\n",
      "N of events: 3000000.0 0\n",
      "N of events: 3100000.0 0\n",
      "N of events: 3200000.0 0\n",
      "N of events: 3300000.0 0\n",
      "N of events: 3400000.0 0\n",
      "N of events: 3500000.0 0\n",
      "N of events: 3600000.0 0\n",
      "N of events: 3700000.0 0\n",
      "N of events: 3800000.0 0\n",
      "N of events: 3900000.0 0\n",
      "N of events: 4000000.0 0\n",
      "N of events: 4100000.0 0\n",
      "N of events: 4200000.0 0\n",
      "N of events: 4300000.0 0\n",
      "N of events: 4400000.0 0\n",
      "N of events: 4500000.0 0\n",
      "N of events: 4600000.0 0\n",
      "N of events: 4700000.0 0\n",
      "N of events: 4800000.0 0\n",
      "N of events: 4900000.0 0\n",
      "N of events: 5000000.0 0\n"
     ]
    }
   ],
   "source": [
    "Ntr = N_threads\n",
    "\n",
    "pool = mp.Pool(Ntr)\n",
    "with pool:\n",
    "    output_array = pool.map(write_TTree_to_CVS_MP,  [i for i in range(Ntr)])\n",
    "pool.close()"
   ]
  },
  {
   "cell_type": "code",
   "execution_count": null,
   "id": "b3ce8c00",
   "metadata": {},
   "outputs": [],
   "source": [
    "zips = []\n",
    "for zipname in output_array:\n",
    "    zips.append(zipname[2])"
   ]
  },
  {
   "cell_type": "code",
   "execution_count": null,
   "id": "a3e41fc3",
   "metadata": {},
   "outputs": [
    {
     "name": "stdout",
     "output_type": "stream",
     "text": [
      "['/home/yoren/bnl/PHENIX/ee/ML/dalitz_new00.zip']\n"
     ]
    }
   ],
   "source": [
    "print(zips)"
   ]
  },
  {
   "cell_type": "code",
   "execution_count": null,
   "id": "069298ef",
   "metadata": {},
   "outputs": [],
   "source": [
    "import zipfile as z\n",
    "import os"
   ]
  },
  {
   "cell_type": "code",
   "execution_count": null,
   "id": "7e10b5a1",
   "metadata": {},
   "outputs": [],
   "source": [
    "with z.ZipFile(zips[0], 'a') as z1:\n",
    "    for fname in zips[1:]:\n",
    "        zf = z.ZipFile(fname, 'r')\n",
    "        for n in zf.namelist():\n",
    "            z1.writestr(n, zf.open(n).read())\n",
    "for izip in range(1,len(zips)):    \n",
    "    os.remove(zips[izip])\n"
   ]
  },
  {
   "cell_type": "code",
   "execution_count": null,
   "id": "8150147a",
   "metadata": {},
   "outputs": [],
   "source": [
    "if False:\n",
    "    data1 = pd.read_csv(\"/home/yoren/bnl/PHENIX/ee/ML/\"+'ccbar0.csv')"
   ]
  }
 ],
 "metadata": {
  "kernelspec": {
   "display_name": "Python 3",
   "language": "python",
   "name": "python3"
  },
  "language_info": {
   "codemirror_mode": {
    "name": "ipython",
    "version": 3
   },
   "file_extension": ".py",
   "mimetype": "text/x-python",
   "name": "python",
   "nbconvert_exporter": "python",
   "pygments_lexer": "ipython3",
   "version": "3.10.12"
  }
 },
 "nbformat": 4,
 "nbformat_minor": 5
}
