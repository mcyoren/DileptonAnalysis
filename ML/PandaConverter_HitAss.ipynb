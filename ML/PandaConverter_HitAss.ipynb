{
 "cells": [
  {
   "cell_type": "code",
   "execution_count": 1,
   "id": "1c10f6ad",
   "metadata": {
    "ExecuteTime": {
     "end_time": "2023-06-08T12:27:26.307475757Z",
     "start_time": "2023-06-08T12:27:24.404822642Z"
    },
    "scrolled": true
   },
   "outputs": [
    {
     "name": "stdout",
     "output_type": "stream",
     "text": [
      "Welcome to JupyROOT 6.26/06\n"
     ]
    }
   ],
   "source": [
    "#%run input/Format.ipynb\n",
    "import ROOT as root\n",
    "from array import array\n",
    "root.gErrorIgnoreLevel = root.kFatal\n",
    "import pandas as pd\n",
    "%jsroot on"
   ]
  },
  {
   "cell_type": "code",
   "execution_count": 2,
   "id": "5ad245a0",
   "metadata": {},
   "outputs": [],
   "source": [
    "iOption0 = 1 # piminus, electron"
   ]
  },
  {
   "cell_type": "code",
   "execution_count": 3,
   "id": "5bbbaabb",
   "metadata": {
    "ExecuteTime": {
     "end_time": "2023-06-08T12:27:26.414487148Z",
     "start_time": "2023-06-08T12:27:26.309822658Z"
    },
    "scrolled": true
   },
   "outputs": [],
   "source": [
    "colors=[1,2,4,root.kGreen+2,root.kMagenta,root.kOrange+4,root.kGray,root.kCyan]\n",
    "central_bins = [0,95,0,20,20,40,40,60,60,100]\n",
    "N_centr = int(len(central_bins)/2)\n",
    "pt_boarders = [0.2,0.3,0.4,0.5,0.6,0.7,0.9,1.1,1.4,1.9,2.5,3.5,5.0]\n",
    "N_pt = len(pt_boarders)-1\n",
    "file_path=\"/home/yoren/bnl/PHENIX/ee/AuAu/\"\n",
    "file_names=[\"my-100M_piminus_single_hagedorn_04-5_v0.root\",\"my-10M_electron_embed_helios_v3.root\"]\n",
    "file_name=file_names[iOption0]\n",
    "outfilenames= ['pionminus','electron','positron']#output\n",
    "filename=outfilenames[iOption0]\n",
    "part_ids=[9,3,2]\n",
    "part_id = part_ids[iOption0]\n",
    "part_name = [\"e^{+}\",\"e^{-}\"]"
   ]
  },
  {
   "cell_type": "code",
   "execution_count": 4,
   "id": "34254909",
   "metadata": {},
   "outputs": [
    {
     "data": {
      "text/plain": [
       "0"
      ]
     },
     "execution_count": 4,
     "metadata": {},
     "output_type": "execute_result"
    }
   ],
   "source": [
    "root.gSystem.Load(\"../AnaTrain/Run14AuAuLeptonComby/MyEvent_C.so\")"
   ]
  },
  {
   "cell_type": "code",
   "execution_count": 5,
   "id": "9edb00b5",
   "metadata": {},
   "outputs": [
    {
     "name": "stdout",
     "output_type": "stream",
     "text": [
      "File opened at /sphenix/user/mitrankov/Run14AuAuLeptonComby/field_map.root\n"
     ]
    }
   ],
   "source": [
    "root.gROOT.ProcessLine(\n",
    "f\"TFile *input = new TFile(\\\"{file_path+file_name}\\\", \\\"READ\\\");\\\n",
    "TTree *T = (TTree *)input->Get(\\\"tree\\\");\\\n",
    "MyDileptonAnalysis::MyEvent *myevent = 0;\\\n",
    "TBranch *br = T->GetBranch(\\\"MyEvent\\\");\\\n",
    "br->SetAddress(&myevent);\\\n",
    "MyDileptonAnalysis::MyEventContainer *event_container = new MyDileptonAnalysis::MyEventContainer();\\\n",
    "event_container->InitEvent();\\\n",
    "event_container->GetHistsFromFile(\\\"/sphenix/user/mitrankov/Run14AuAuLeptonComby/field_map.root\\\");\\\n",
    "\"\n",
    "); \n",
    "from ROOT import myevent, br, event_container"
   ]
  },
  {
   "cell_type": "markdown",
   "id": "b6da4bdd",
   "metadata": {},
   "source": [
    "mcid: 2 - positron, 3 - electron, 8 - pion+, 9 - pion minus"
   ]
  },
  {
   "cell_type": "code",
   "execution_count": 6,
   "id": "3a73bd65",
   "metadata": {},
   "outputs": [],
   "source": [
    "geant3dict = {\n",
    "  2: \"positron\",\n",
    "  3: \"electron\",\n",
    "  5: \"+muon\",\n",
    "  6: \"-muon\",\n",
    "  8: \"+pion\",\n",
    "  9: \"-pion\",\n",
    "  11: \"+kaon\",\n",
    "  12: \"-kaon\",\n",
    "  14: \"proton\",\n",
    "  15: \"antiproton\"\n",
    "}"
   ]
  },
  {
   "cell_type": "code",
   "execution_count": 7,
   "id": "9ac9d3b2",
   "metadata": {},
   "outputs": [
    {
     "name": "stdout",
     "output_type": "stream",
     "text": [
      "99865433\n",
      "Nevent: 14, centrality: 64.0, x: 0.33982399106025696, Ntracks: 1\n",
      "pt:  0.59 , e/p:  0.947 , n0:  3 , disp:  5.29 , chi2/npe0:  1.95 , prob:  0.86 , id:  positron\n",
      "0.8460949063301086\n",
      "Nevent: 27, centrality: 1.0, x: 0.34185999631881714, Ntracks: 1\n",
      "pt:  0.4 , e/p:  0.876 , n0:  6 , disp:  1.63 , chi2/npe0:  2.47 , prob:  0.21 , id:  positron\n",
      "0.40519678592681885\n",
      "Nevent: 28, centrality: 30.0, x: 0.33111199736595154, Ntracks: 1\n",
      "pt:  1.98 , e/p:  1.059 , n0:  6 , disp:  0.94 , chi2/npe0:  5.79 , prob:  0.827 , id:  positron\n",
      "1.9908539056777954\n",
      "Nevent: 29, centrality: 17.0, x: 0.34525901079177856, Ntracks: 1\n",
      "pt:  0.733 , e/p:  0.897 , n0:  6 , disp:  0.45 , chi2/npe0:  1.26 , prob:  0.012 , id:  positron\n",
      "0.7465026378631592\n",
      "Nevent: 38, centrality: 30.0, x: 0.331961989402771, Ntracks: 1\n",
      "pt:  0.313 , e/p:  1.039 , n0:  5 , disp:  0.93 , chi2/npe0:  1.48 , prob:  0.992 , id:  positron\n",
      "1.3309226036071777\n",
      "Nevent: 43, centrality: 22.0, x: 0.3311469852924347, Ntracks: 1\n",
      "pt:  0.438 , e/p:  1.009 , n0:  3 , disp:  1.01 , chi2/npe0:  7.14 , prob:  0.876 , id:  positron\n",
      "0.4469074606895447\n",
      "Nevent: 44, centrality: 62.0, x: 0.3377070128917694, Ntracks: 1\n",
      "pt:  0.509 , e/p:  1.014 , n0:  3 , disp:  2.49 , chi2/npe0:  7.89 , prob:  0.871 , id:  positron\n",
      "0.5294421315193176\n",
      "Nevent: 56, centrality: 76.0, x: 0.30887699127197266, Ntracks: 1\n",
      "pt:  0.492 , e/p:  0.935 , n0:  5 , disp:  1.23 , chi2/npe0:  1.5 , prob:  0.982 , id:  positron\n",
      "0.4950854480266571\n",
      "Nevent: 61, centrality: 35.0, x: 0.33282700181007385, Ntracks: 1\n",
      "pt:  0.53 , e/p:  1.169 , n0:  8 , disp:  3.53 , chi2/npe0:  6.64 , prob:  0.0 , id:  positron\n",
      "0.5232337713241577\n",
      "Nevent: 69, centrality: 9.0, x: 0.34363600611686707, Ntracks: 1\n",
      "pt:  0.855 , e/p:  1.045 , n0:  5 , disp:  1.55 , chi2/npe0:  1.68 , prob:  0.475 , id:  positron\n",
      "1.1578428745269775\n",
      "Nevent: 77, centrality: 54.0, x: 0.34212300181388855, Ntracks: 1\n",
      "pt:  1.178 , e/p:  1.119 , n0:  3 , disp:  2.33 , chi2/npe0:  20.79 , prob:  0.004 , id:  positron\n",
      "1.170487642288208\n",
      "Nevent: 79, centrality: 92.0, x: 0.33152198791503906, Ntracks: 1\n",
      "pt:  1.152 , e/p:  0.973 , n0:  4 , disp:  0.27 , chi2/npe0:  6.35 , prob:  0.204 , id:  positron\n",
      "1.3615610599517822\n",
      "Nevent: 81, centrality: 1.0, x: 0.33152198791503906, Ntracks: 1\n",
      "pt:  0.921 , e/p:  0.938 , n0:  5 , disp:  5.04 , chi2/npe0:  4.4 , prob:  0.978 , id:  positron\n",
      "0.9141392111778259\n",
      "Nevent: 83, centrality: 32.0, x: 0.3421100080013275, Ntracks: 1\n",
      "pt:  1.685 , e/p:  0.888 , n0:  5 , disp:  2.52 , chi2/npe0:  1.04 , prob:  0.944 , id:  positron\n",
      "1.7570230960845947\n",
      "Nevent: 85, centrality: 86.0, x: 0.3375929892063141, Ntracks: 1\n",
      "pt:  0.452 , e/p:  0.906 , n0:  3 , disp:  2.56 , chi2/npe0:  5.64 , prob:  0.559 , id:  positron\n",
      "0.5947927832603455\n",
      "Nevent: 101, centrality: 47.0, x: 0.3361339867115021, Ntracks: 1\n",
      "pt:  0.472 , e/p:  1.053 , n0:  5 , disp:  3.6 , chi2/npe0:  1.94 , prob:  0.841 , id:  positron\n",
      "0.47009074687957764\n",
      "Nevent: 106, centrality: 87.0, x: 0.33152198791503906, Ntracks: 1\n",
      "pt:  0.5 , e/p:  0.92 , n0:  3 , disp:  4.19 , chi2/npe0:  5.15 , prob:  0.793 , id:  positron\n",
      "0.7594237327575684\n",
      "Nevent: 113, centrality: 30.0, x: 0.34363099932670593, Ntracks: 1\n",
      "pt:  0.498 , e/p:  0.887 , n0:  4 , disp:  4.24 , chi2/npe0:  11.33 , prob:  0.005 , id:  positron\n",
      "0.5226097106933594\n",
      "Nevent: 119, centrality: 44.0, x: 0.3368949890136719, Ntracks: 1\n",
      "pt:  0.661 , e/p:  0.915 , n0:  3 , disp:  4.6 , chi2/npe0:  21.52 , prob:  0.768 , id:  positron\n",
      "0.6553318500518799\n",
      "Nevent: 127, centrality: 56.0, x: 0.3424130082130432, Ntracks: 1\n",
      "pt:  2.219 , e/p:  1.071 , n0:  4 , disp:  6.1 , chi2/npe0:  1.23 , prob:  0.928 , id:  positron\n",
      "2.2575290203094482\n",
      "Nevent: 130, centrality: 38.0, x: 0.33743399381637573, Ntracks: 1\n",
      "pt:  0.545 , e/p:  0.931 , n0:  3 , disp:  1.81 , chi2/npe0:  0.99 , prob:  0.833 , id:  positron\n",
      "0.5447129011154175\n",
      "Nevent: 135, centrality: 19.0, x: 0.3406029939651489, Ntracks: 1\n",
      "pt:  0.364 , e/p:  0.952 , n0:  5 , disp:  2.04 , chi2/npe0:  10.99 , prob:  0.884 , id:  positron\n",
      "0.5580418109893799\n",
      "Nevent: 136, centrality: 76.0, x: 0.38485100865364075, Ntracks: 1\n",
      "pt:  0.463 , e/p:  0.943 , n0:  5 , disp:  2.22 , chi2/npe0:  2.04 , prob:  0.994 , id:  positron\n",
      "0.46448415517807007\n",
      "Nevent: 140, centrality: 10.0, x: 0.34536799788475037, Ntracks: 1\n",
      "pt:  0.914 , e/p:  0.858 , n0:  5 , disp:  3.18 , chi2/npe0:  2.32 , prob:  0.048 , id:  positron\n",
      "0.9056729674339294\n",
      "Nevent: 156, centrality: 35.0, x: 0.3331820070743561, Ntracks: 1\n",
      "pt:  0.412 , e/p:  0.87 , n0:  2 , disp:  2.31 , chi2/npe0:  31.09 , prob:  0.124 , id:  positron\n",
      "0.5351887345314026\n",
      "Nevent: 181, centrality: 57.0, x: 0.3361549973487854, Ntracks: 1\n",
      "pt:  0.512 , e/p:  0.93 , n0:  4 , disp:  3.95 , chi2/npe0:  5.61 , prob:  0.955 , id:  positron\n",
      "0.5183476209640503\n",
      "Nevent: 182, centrality: 73.0, x: 0.3445279896259308, Ntracks: 1\n",
      "pt:  0.496 , e/p:  0.987 , n0:  6 , disp:  2.34 , chi2/npe0:  1.42 , prob:  0.51 , id:  positron\n",
      "0.7481844425201416\n",
      "Nevent: 183, centrality: 39.0, x: 0.34239301085472107, Ntracks: 1\n",
      "pt:  0.745 , e/p:  1.05 , n0:  2 , disp:  3.11 , chi2/npe0:  7.47 , prob:  0.768 , id:  positron\n",
      "0.8535031080245972\n",
      "Nevent: 185, centrality: 26.0, x: 0.32975900173187256, Ntracks: 1\n",
      "pt:  0.576 , e/p:  1.023 , n0:  4 , disp:  3.67 , chi2/npe0:  3.8 , prob:  0.723 , id:  positron\n",
      "0.6532045006752014\n",
      "Nevent: 206, centrality: 54.0, x: 0.346235990524292, Ntracks: 1\n",
      "pt:  0.565 , e/p:  0.897 , n0:  3 , disp:  1.75 , chi2/npe0:  13.25 , prob:  0.931 , id:  positron\n",
      "0.6164034605026245\n",
      "Nevent: 216, centrality: 53.0, x: 0.33961400389671326, Ntracks: 1\n",
      "pt:  0.712 , e/p:  1.042 , n0:  6 , disp:  1.75 , chi2/npe0:  2.36 , prob:  0.804 , id:  positron\n",
      "0.7207967638969421\n",
      "Nevent: 226, centrality: 64.0, x: 0.33553099632263184, Ntracks: 1\n",
      "pt:  1.13 , e/p:  1.11 , n0:  3 , disp:  0.97 , chi2/npe0:  4.58 , prob:  0.992 , id:  positron\n",
      "1.1597673892974854\n",
      "Nevent: 235, centrality: 65.0, x: 0.3489629924297333, Ntracks: 1\n",
      "pt:  0.762 , e/p:  0.971 , n0:  5 , disp:  2.17 , chi2/npe0:  1.32 , prob:  0.457 , id:  positron\n",
      "0.7621455788612366\n",
      "Nevent: 246, centrality: 56.0, x: 0.34200799465179443, Ntracks: 1\n",
      "pt:  0.461 , e/p:  0.953 , n0:  4 , disp:  2.84 , chi2/npe0:  7.5 , prob:  0.944 , id:  positron\n",
      "0.5430508852005005\n",
      "Nevent: 257, centrality: 34.0, x: 0.32918599247932434, Ntracks: 1\n",
      "pt:  1.311 , e/p:  1.002 , n0:  4 , disp:  6.06 , chi2/npe0:  3.32 , prob:  0.65 , id:  positron\n",
      "1.3006757497787476\n",
      "Nevent: 262, centrality: 39.0, x: 0.34358999133110046, Ntracks: 1\n",
      "pt:  0.466 , e/p:  0.863 , n0:  3 , disp:  2.89 , chi2/npe0:  3.08 , prob:  0.986 , id:  positron\n",
      "0.5093659162521362\n",
      "Nevent: 263, centrality: 66.0, x: 0.34599700570106506, Ntracks: 1\n",
      "pt:  0.499 , e/p:  1.086 , n0:  3 , disp:  1.67 , chi2/npe0:  5.75 , prob:  0.987 , id:  positron\n",
      "0.5646626949310303\n",
      "Nevent: 272, centrality: 15.0, x: 0.33837801218032837, Ntracks: 1\n",
      "pt:  1.212 , e/p:  1.224 , n0:  2 , disp:  3.29 , chi2/npe0:  26.26 , prob:  0.954 , id:  positron\n",
      "1.210799217224121\n",
      "Nevent: 283, centrality: 18.0, x: 0.33639800548553467, Ntracks: 1\n",
      "pt:  0.453 , e/p:  0.971 , n0:  3 , disp:  2.19 , chi2/npe0:  2.06 , prob:  0.044 , id:  positron\n",
      "0.4504738450050354\n",
      "Nevent: 286, centrality: 13.0, x: 0.33152198791503906, Ntracks: 1\n",
      "pt:  0.394 , e/p:  1.248 , n0:  5 , disp:  0.77 , chi2/npe0:  1.57 , prob:  0.0 , id:  positron\n",
      "0.4114166796207428\n",
      "Nevent: 295, centrality: 87.0, x: 0.31630900502204895, Ntracks: 1\n",
      "pt:  1.132 , e/p:  0.997 , n0:  3 , disp:  2.71 , chi2/npe0:  8.42 , prob:  0.952 , id:  positron\n",
      "1.166151523590088\n",
      "Nevent: 302, centrality: 36.0, x: 0.33988699316978455, Ntracks: 1\n",
      "pt:  0.445 , e/p:  0.981 , n0:  4 , disp:  3.16 , chi2/npe0:  6.33 , prob:  0.169 , id:  positron\n",
      "0.44314083456993103\n",
      "Nevent: 306, centrality: 10.0, x: 0.33515700697898865, Ntracks: 1\n",
      "pt:  0.436 , e/p:  1.033 , n0:  2 , disp:  2.05 , chi2/npe0:  28.78 , prob:  0.25 , id:  positron\n",
      "0.4630086421966553\n",
      "Nevent: 309, centrality: 1.0, x: 0.34188398718833923, Ntracks: 1\n",
      "pt:  0.419 , e/p:  0.952 , n0:  5 , disp:  1.84 , chi2/npe0:  2.03 , prob:  0.627 , id:  positron\n",
      "0.42755842208862305\n",
      "Nevent: 318, centrality: 91.0, x: 0.33152198791503906, Ntracks: 1\n",
      "pt:  0.507 , e/p:  0.968 , n0:  4 , disp:  3.79 , chi2/npe0:  9.56 , prob:  0.996 , id:  positron\n",
      "0.545019805431366\n",
      "Nevent: 321, centrality: 45.0, x: 0.34494900703430176, Ntracks: 1\n",
      "pt:  1.196 , e/p:  0.978 , n0:  4 , disp:  4.17 , chi2/npe0:  4.73 , prob:  0.772 , id:  positron\n",
      "1.1810660362243652\n",
      "Nevent: 323, centrality: 81.0, x: 0.3445720076560974, Ntracks: 1\n",
      "pt:  0.96 , e/p:  0.935 , n0:  2 , disp:  5.64 , chi2/npe0:  35.48 , prob:  0.963 , id:  positron\n",
      "0.9599667191505432\n",
      "Nevent: 327, centrality: 73.0, x: 0.3619289994239807, Ntracks: 1\n",
      "pt:  0.572 , e/p:  0.835 , n0:  6 , disp:  2.35 , chi2/npe0:  2.87 , prob:  0.895 , id:  positron\n",
      "0.6382675766944885\n",
      "Nevent: 329, centrality: 39.0, x: 0.34431201219558716, Ntracks: 1\n",
      "pt:  0.583 , e/p:  1.089 , n0:  5 , disp:  1.63 , chi2/npe0:  4.64 , prob:  0.0 , id:  positron\n",
      "0.5916031002998352\n",
      "Nevent: 334, centrality: 57.0, x: 0.3390730023384094, Ntracks: 1\n",
      "pt:  1.03 , e/p:  0.827 , n0:  3 , disp:  2.63 , chi2/npe0:  13.76 , prob:  0.516 , id:  positron\n",
      "1.0597152709960938\n",
      "Nevent: 339, centrality: 47.0, x: 0.3249959945678711, Ntracks: 1\n",
      "pt:  0.801 , e/p:  0.829 , n0:  8 , disp:  1.59 , chi2/npe0:  7.52 , prob:  0.435 , id:  positron\n",
      "0.8055117726325989\n",
      "Nevent: 341, centrality: 1.0, x: 0.32819700241088867, Ntracks: 1\n",
      "pt:  0.72 , e/p:  1.106 , n0:  3 , disp:  5.88 , chi2/npe0:  25.68 , prob:  0.003 , id:  positron\n",
      "0.7255318760871887\n",
      "Nevent: 342, centrality: 82.0, x: 0.3055900037288666, Ntracks: 1\n",
      "pt:  0.543 , e/p:  0.882 , n0:  3 , disp:  4.25 , chi2/npe0:  10.56 , prob:  0.977 , id:  positron\n",
      "0.5732989311218262\n",
      "Nevent: 369, centrality: 32.0, x: 0.3270609974861145, Ntracks: 1\n",
      "pt:  0.916 , e/p:  0.82 , n0:  4 , disp:  2.69 , chi2/npe0:  15.42 , prob:  0.654 , id:  positron\n",
      "0.9103735685348511\n",
      "Nevent: 375, centrality: 28.0, x: 0.3386389911174774, Ntracks: 1\n",
      "pt:  0.774 , e/p:  1.054 , n0:  2 , disp:  4.26 , chi2/npe0:  78.81 , prob:  0.209 , id:  positron\n",
      "0.7832716703414917\n",
      "Nevent: 384, centrality: 12.0, x: 0.33538898825645447, Ntracks: 1\n",
      "pt:  0.618 , e/p:  1.036 , n0:  2 , disp:  4.09 , chi2/npe0:  30.72 , prob:  0.607 , id:  positron\n",
      "0.7936112880706787\n",
      "Nevent: 391, centrality: 66.0, x: 0.3295370042324066, Ntracks: 1\n",
      "pt:  0.521 , e/p:  1.082 , n0:  3 , disp:  3.67 , chi2/npe0:  9.27 , prob:  0.572 , id:  positron\n",
      "0.524314820766449\n",
      "Nevent: 402, centrality: 33.0, x: 0.32902899384498596, Ntracks: 1\n",
      "pt:  0.605 , e/p:  1.024 , n0:  5 , disp:  3.07 , chi2/npe0:  6.31 , prob:  0.98 , id:  positron\n",
      "0.6037473678588867\n",
      "Nevent: 411, centrality: 41.0, x: 0.34521201252937317, Ntracks: 1\n",
      "pt:  0.453 , e/p:  0.902 , n0:  4 , disp:  4.74 , chi2/npe0:  5.22 , prob:  0.999 , id:  positron\n",
      "0.4943773150444031\n",
      "Nevent: 420, centrality: 84.0, x: 0.33152198791503906, Ntracks: 1\n",
      "pt:  0.473 , e/p:  0.887 , n0:  3 , disp:  4.44 , chi2/npe0:  13.52 , prob:  0.929 , id:  positron\n",
      "0.4693024456501007\n",
      "Nevent: 425, centrality: 67.0, x: 0.3464129865169525, Ntracks: 1\n",
      "pt:  7.026 , e/p:  0.892 , n0:  3 , disp:  2.72 , chi2/npe0:  3.93 , prob:  0.301 , id:  positron\n",
      "6.839519500732422\n"
     ]
    }
   ],
   "source": [
    "N_real_ev = br.GetEntries()\n",
    "print(N_real_ev)\n",
    "good_event_counter = 0\n",
    "for ievent in range(N_real_ev):\n",
    "    if good_event_counter>60: break\n",
    "    myevent.ClearEvent()\n",
    "    br.GetEntry(ievent)\n",
    "    event_container.SetEvent(myevent)\n",
    "    if not myevent.GetNtrack(): continue\n",
    "    do_continue = False\n",
    "    for ipart in range(myevent.GetNtrack()):\n",
    "        if myevent.GetEntry(ipart).GetEcore()/myevent.GetEntry(ipart).GetPtot()>0.8 and myevent.GetEntry(ipart).GetN0()>0:\n",
    "            do_continue = True\n",
    "    if not do_continue:\n",
    "        continue\n",
    "    good_event_counter+=1\n",
    "    print(f\"Nevent: {ievent}, centrality: {myevent.GetCentrality()}, x: {myevent.GetPreciseX()}, Ntracks: {myevent.GetNtrack()}\") \n",
    "    event_container.correct_beam_offset()\n",
    "    for ipart in range(myevent.GetNtrack()):\n",
    "        print(\"pt: \", round(myevent.GetEntry(ipart).GetPtPrime(),3),\", e/p: \",\\\n",
    "              round(myevent.GetEntry(ipart).GetEcore()/myevent.GetEntry(ipart).GetPtot(),3), \", n0: \",\\\n",
    "              myevent.GetEntry(ipart).GetN0(),\", disp: \", round(myevent.GetEntry(ipart).GetDisp(),2), \", chi2/npe0: \",\\\n",
    "              round(myevent.GetEntry(ipart).GetChi2()/(myevent.GetEntry(ipart).GetNpe0()+1e-4),2), \", prob: \",\\\n",
    "              round(myevent.GetEntry(ipart).GetProb(),3), \", id: \",  geant3dict[myevent.GetEntry(ipart).GetMcId()])\n",
    "    for ipart in range(myevent.GetNgentrack()):\n",
    "        print(myevent.GetGenTrack(ipart).GetPt())"
   ]
  },
  {
   "cell_type": "code",
   "execution_count": null,
   "id": "1783a17d",
   "metadata": {},
   "outputs": [
    {
     "name": "stdout",
     "output_type": "stream",
     "text": [
      "99865433\n"
     ]
    }
   ],
   "source": [
    "data_array = []\n",
    "N_real_ev = br.GetEntries()\n",
    "print(N_real_ev)\n",
    "good_event_counter = 0\n",
    "for ievent in range(N_real_ev):\n",
    "    if good_event_counter>60000000: break\n",
    "    myevent.ClearEvent()\n",
    "    br.GetEntry(ievent)\n",
    "    event_container.SetEvent(myevent)\n",
    "    if not myevent.GetNtrack(): continue\n",
    "    do_continue = False\n",
    "    for ipart in range(myevent.GetNtrack()):\n",
    "        if myevent.GetEntry(ipart).GetMcId()==part_id and (myevent.GetEntry(ipart).GetEcore()/myevent.GetEntry(ipart).GetPtot()>0.6 or myevent.GetEntry(ipart).GetN0()>=0):\n",
    "            do_continue = True\n",
    "    if not do_continue:\n",
    "        continue\n",
    "    good_event_counter+=1\n",
    "    event_container.correct_beam_offset()\n",
    "    for ipart in range(myevent.GetNtrack()):\n",
    "        if myevent.GetEntry(ipart).GetMcId()==part_id and (myevent.GetEntry(ipart).GetEcore()/myevent.GetEntry(ipart).GetPtot()>0.6 or myevent.GetEntry(ipart).GetN0()>=0):\n",
    "            data_array.append([int(myevent.GetCentrality()),myevent.GetPreciseZ(),myevent.GetEntry(ipart).GetPtPrime(),\\\n",
    "                           myevent.GetEntry(ipart).GetEcore()/myevent.GetEntry(ipart).GetPtot(),myevent.GetEntry(ipart).GetN0(),\\\n",
    "                           myevent.GetEntry(ipart).GetDisp(),myevent.GetEntry(ipart).GetChi2(),myevent.GetEntry(ipart).GetNpe0(),\\\n",
    "                           myevent.GetEntry(ipart).GetProb(),myevent.GetEntry(ipart).GetPhi0Prime()   ])\n",
    "\n",
    "\n",
    "data = pd.DataFrame(data_array, columns=('centrality','zvertex','pt', 'e/p', 'n0', 'disp', 'chi2', 'npe0', 'prob', 'phi0'))"
   ]
  },
  {
   "cell_type": "code",
   "execution_count": null,
   "id": "fe1a7672",
   "metadata": {},
   "outputs": [],
   "source": [
    "data.head()"
   ]
  },
  {
   "cell_type": "code",
   "execution_count": null,
   "id": "5e41bbab",
   "metadata": {},
   "outputs": [],
   "source": [
    "print(data.size, data.shape, good_event_counter)"
   ]
  },
  {
   "cell_type": "code",
   "execution_count": null,
   "id": "c0419966",
   "metadata": {},
   "outputs": [],
   "source": [
    "filepath = '/sphenix/user/mitrankov/'+filename\n",
    "compression_options = dict(method='zip', archive_name=f'{filename}.csv')"
   ]
  },
  {
   "cell_type": "code",
   "execution_count": null,
   "id": "b9c4469d",
   "metadata": {},
   "outputs": [],
   "source": [
    "data.to_csv(f'{filepath}.zip', compression=compression_options, index=False)"
   ]
  },
  {
   "cell_type": "code",
   "execution_count": null,
   "id": "2f994e26-9994-4655-9c08-b4418f603262",
   "metadata": {},
   "outputs": [],
   "source": [
    "from sklearn.ensemble import GradientBoostingClassifier\n",
    "import numpy as np\n",
    "from sklearn.model_selection import GridSearchCV\n",
    "parameters = {\n",
    "    \"loss\":[\"log_loss\"],\n",
    "    \"learning_rate\": [0.01, 0.2],\n",
    "    \"min_samples_split\": [0.01, 0.2],\n",
    "    \"max_depth\":[3,8],\n",
    "    \"max_features\":[\"log2\",\"sqrt\"],\n",
    "    \"criterion\": ['squared_error'],\n",
    "    \"n_estimators\":[2]\n",
    "    }\n",
    "clf3 = GridSearchCV(GradientBoostingClassifier(), parameters, cv=2, n_jobs=4)\n",
    "\n",
    "X_train = np.array([[0, 0], [1, 1], [0, 1], [1, 0], [0, 1], [1, 0]])\n",
    "y_train = np.array([0, 1, 0, 0, 0, 1])\n",
    "\n",
    "# Fit the model\n",
    "clf3.fit(X_train, y_train)\n",
    "\n",
    "# Get decision function from clf3\n",
    "clf_decision = clf3.decision_function(X_train)\n",
    "\n",
    "# Initialize log odds predictions\n",
    "log_odds_predictions = np.zeros(X_train.shape[0])\n",
    "\n",
    "# Get the best estimator\n",
    "best_estimator = clf3.best_estimator_\n",
    "\n",
    "# Iterate over trees in the best estimator\n",
    "for tree in best_estimator.estimators_:\n",
    "    # Get leaf indices for training data\n",
    "    leaf_indices = tree[0].apply(X_train)\n",
    "    # Get values at each leaf (log odds)\n",
    "    leaf_values = tree[0].tree_.value[:, 0, 0]  # Accessing the log odds correctly\n",
    "    # Accumulate log odds for each instance\n",
    "    log_odds_predictions += leaf_values[leaf_indices] * best_estimator.learning_rate\n",
    "\n",
    "# Final log odds with the learning rate applied\n",
    "mydecision = log_odds_predictions\n",
    "\n",
    "# Output the differences\n",
    "print(\"My Decision (Log Odds):\", mydecision)\n",
    "print(\"Decision Function Output:\", clf_decision)\n",
    "\n",
    "# Calculate the differences\n",
    "difference = np.abs(mydecision - clf_decision)\n",
    "print(\"Differences:\", difference)\n"
   ]
  }
 ],
 "metadata": {
  "kernelspec": {
   "display_name": "Python (sPHENIX)",
   "language": "python",
   "name": "sphenix-env"
  },
  "language_info": {
   "codemirror_mode": {
    "name": "ipython",
    "version": 3
   },
   "file_extension": ".py",
   "mimetype": "text/x-python",
   "name": "python",
   "nbconvert_exporter": "python",
   "pygments_lexer": "ipython3",
   "version": "3.10.8"
  }
 },
 "nbformat": 4,
 "nbformat_minor": 5
}
