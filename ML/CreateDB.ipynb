{
 "cells": [
  {
   "cell_type": "markdown",
   "metadata": {},
   "source": [
    "# Feature Analysis"
   ]
  },
  {
   "cell_type": "code",
   "execution_count": 1,
   "metadata": {
    "execution": {
     "iopub.execute_input": "2023-11-23T19:16:33.955448Z",
     "iopub.status.busy": "2023-11-23T19:16:33.955048Z",
     "iopub.status.idle": "2023-11-23T19:16:34.418885Z",
     "shell.execute_reply": "2023-11-23T19:16:34.417944Z",
     "shell.execute_reply.started": "2023-11-23T19:16:33.955416Z"
    },
    "id": "uVg6FlWlmSx_"
   },
   "outputs": [],
   "source": [
    "import pandas as pd\n",
    "import math"
   ]
  },
  {
   "cell_type": "code",
   "execution_count": 2,
   "metadata": {},
   "outputs": [],
   "source": [
    "filenames1 = ['pionminus','pionminus1','pionminus2','pionminus3','pionminus4','pionminus5','pionminus100_v1','pionminus100_v2','pionminus100_v3']\n",
    "filename2 = 'electron'\n",
    "filepath = \"/home/yoren/bnl/PHENIX/ee/ML/\"\n",
    "iOption = 1"
   ]
  },
  {
   "cell_type": "code",
   "execution_count": 3,
   "metadata": {
    "execution": {
     "iopub.execute_input": "2023-11-23T19:16:34.421642Z",
     "iopub.status.busy": "2023-11-23T19:16:34.420565Z",
     "iopub.status.idle": "2023-11-23T19:17:48.955309Z",
     "shell.execute_reply": "2023-11-23T19:17:48.954386Z",
     "shell.execute_reply.started": "2023-11-23T19:16:34.421605Z"
    }
   },
   "outputs": [],
   "source": [
    "data1 = pd.read_csv(filepath+f'{filenames1[0]}.csv')\n",
    "data1.loc[data1['phi0'] > -99, 'phi0'] = 0\n",
    "for ifile in range(1,len(filenames1)):\n",
    "    idata = pd.read_csv(filepath+f'{filenames1[ifile]}.csv')\n",
    "    idata.loc[idata['phi0'] > -99, 'phi0'] = 0\n",
    "    data1 = pd.concat([data1,idata], sort=False)\n",
    "#data1 = pd.concat([data1,data1], sort=False)\n",
    "#data1 = pd.concat([data1,data1], sort=False)\n",
    "#data1 = pd.concat([data1,data1], sort=False)\n",
    "#data1 = pd.concat([data1,data1], sort=False)\n",
    "    \n",
    "data2 = pd.read_csv(filepath+f'{filename2}.csv')\n",
    "data2.loc[data2['phi0'] > -99, 'phi0'] = 1\n",
    "#data2 = data2[:100000]"
   ]
  },
  {
   "cell_type": "code",
   "execution_count": 4,
   "metadata": {},
   "outputs": [
    {
     "name": "stdout",
     "output_type": "stream",
     "text": [
      "(2258759, 10) (8627028, 10)\n"
     ]
    }
   ],
   "source": [
    "print( data1.shape, data2.shape)"
   ]
  },
  {
   "cell_type": "code",
   "execution_count": 5,
   "metadata": {},
   "outputs": [
    {
     "data": {
      "text/html": [
       "<div>\n",
       "<style scoped>\n",
       "    .dataframe tbody tr th:only-of-type {\n",
       "        vertical-align: middle;\n",
       "    }\n",
       "\n",
       "    .dataframe tbody tr th {\n",
       "        vertical-align: top;\n",
       "    }\n",
       "\n",
       "    .dataframe thead th {\n",
       "        text-align: right;\n",
       "    }\n",
       "</style>\n",
       "<table border=\"1\" class=\"dataframe\">\n",
       "  <thead>\n",
       "    <tr style=\"text-align: right;\">\n",
       "      <th></th>\n",
       "      <th>centrality</th>\n",
       "      <th>zvertex</th>\n",
       "      <th>pt</th>\n",
       "      <th>e/p</th>\n",
       "      <th>n0</th>\n",
       "      <th>disp</th>\n",
       "      <th>chi2</th>\n",
       "      <th>npe0</th>\n",
       "      <th>prob</th>\n",
       "      <th>phi0</th>\n",
       "    </tr>\n",
       "  </thead>\n",
       "  <tbody>\n",
       "    <tr>\n",
       "      <th>5437832</th>\n",
       "      <td>63</td>\n",
       "      <td>6.003906</td>\n",
       "      <td>0.924805</td>\n",
       "      <td>0.992676</td>\n",
       "      <td>3</td>\n",
       "      <td>0.270752</td>\n",
       "      <td>38.968750</td>\n",
       "      <td>8</td>\n",
       "      <td>0.960449</td>\n",
       "      <td>1</td>\n",
       "    </tr>\n",
       "    <tr>\n",
       "      <th>237240</th>\n",
       "      <td>15</td>\n",
       "      <td>8.640625</td>\n",
       "      <td>0.443604</td>\n",
       "      <td>0.973145</td>\n",
       "      <td>2</td>\n",
       "      <td>5.367188</td>\n",
       "      <td>15.757812</td>\n",
       "      <td>3</td>\n",
       "      <td>0.000322</td>\n",
       "      <td>0</td>\n",
       "    </tr>\n",
       "    <tr>\n",
       "      <th>7289493</th>\n",
       "      <td>79</td>\n",
       "      <td>-6.660156</td>\n",
       "      <td>0.425293</td>\n",
       "      <td>0.915527</td>\n",
       "      <td>4</td>\n",
       "      <td>2.775391</td>\n",
       "      <td>39.593750</td>\n",
       "      <td>9</td>\n",
       "      <td>0.409668</td>\n",
       "      <td>1</td>\n",
       "    </tr>\n",
       "    <tr>\n",
       "      <th>5642144</th>\n",
       "      <td>14</td>\n",
       "      <td>-1.788086</td>\n",
       "      <td>0.981934</td>\n",
       "      <td>1.122070</td>\n",
       "      <td>6</td>\n",
       "      <td>1.232422</td>\n",
       "      <td>18.421875</td>\n",
       "      <td>10</td>\n",
       "      <td>0.989258</td>\n",
       "      <td>1</td>\n",
       "    </tr>\n",
       "    <tr>\n",
       "      <th>1155722</th>\n",
       "      <td>72</td>\n",
       "      <td>-4.714844</td>\n",
       "      <td>2.660156</td>\n",
       "      <td>0.972656</td>\n",
       "      <td>1</td>\n",
       "      <td>5.312500</td>\n",
       "      <td>13.984375</td>\n",
       "      <td>1</td>\n",
       "      <td>0.451172</td>\n",
       "      <td>1</td>\n",
       "    </tr>\n",
       "  </tbody>\n",
       "</table>\n",
       "</div>"
      ],
      "text/plain": [
       "         centrality   zvertex        pt       e/p  n0      disp       chi2  \\\n",
       "5437832          63  6.003906  0.924805  0.992676   3  0.270752  38.968750   \n",
       "237240           15  8.640625  0.443604  0.973145   2  5.367188  15.757812   \n",
       "7289493          79 -6.660156  0.425293  0.915527   4  2.775391  39.593750   \n",
       "5642144          14 -1.788086  0.981934  1.122070   6  1.232422  18.421875   \n",
       "1155722          72 -4.714844  2.660156  0.972656   1  5.312500  13.984375   \n",
       "\n",
       "         npe0      prob  phi0  \n",
       "5437832     8  0.960449     1  \n",
       "237240      3  0.000322     0  \n",
       "7289493     9  0.409668     1  \n",
       "5642144    10  0.989258     1  \n",
       "1155722     1  0.451172     1  "
      ]
     },
     "execution_count": 5,
     "metadata": {},
     "output_type": "execute_result"
    }
   ],
   "source": [
    "data = pd.concat([data1,data2], sort=False)\n",
    "data = data.sample(frac = 1)\n",
    "data['phi0'] = data['phi0'].astype('int32')\n",
    "data['centrality'] = data['centrality'].astype('int32')\n",
    "data['zvertex'] = data['zvertex'].astype('float16')\n",
    "data['pt'] = data['pt'].astype('float16')\n",
    "data['e/p'] = data['e/p'].astype('float16')\n",
    "data['n0'] = data['n0'].astype('int32')\n",
    "data['disp'] = data['disp'].astype('float16')\n",
    "data['chi2'] = data['chi2'].astype('float16')\n",
    "data['npe0'] = data['npe0'].astype('int32')\n",
    "data['prob'] = data['prob'].astype('float16')\n",
    "data.head()"
   ]
  },
  {
   "cell_type": "code",
   "execution_count": 6,
   "metadata": {},
   "outputs": [
    {
     "data": {
      "text/html": [
       "<div>\n",
       "<style scoped>\n",
       "    .dataframe tbody tr th:only-of-type {\n",
       "        vertical-align: middle;\n",
       "    }\n",
       "\n",
       "    .dataframe tbody tr th {\n",
       "        vertical-align: top;\n",
       "    }\n",
       "\n",
       "    .dataframe thead th {\n",
       "        text-align: right;\n",
       "    }\n",
       "</style>\n",
       "<table border=\"1\" class=\"dataframe\">\n",
       "  <thead>\n",
       "    <tr style=\"text-align: right;\">\n",
       "      <th></th>\n",
       "      <th>centrality</th>\n",
       "      <th>zvertex</th>\n",
       "      <th>pt</th>\n",
       "      <th>e/p</th>\n",
       "      <th>n0</th>\n",
       "      <th>disp</th>\n",
       "      <th>chi2</th>\n",
       "      <th>npe0</th>\n",
       "      <th>prob</th>\n",
       "      <th>phi0</th>\n",
       "      <th>...</th>\n",
       "      <th>e/p*prob</th>\n",
       "      <th>n0*prob</th>\n",
       "      <th>prob-1</th>\n",
       "      <th>e/p*pt</th>\n",
       "      <th>n0*pt</th>\n",
       "      <th>n0-2</th>\n",
       "      <th>e/p-0.8</th>\n",
       "      <th>pt-1</th>\n",
       "      <th>pt2</th>\n",
       "      <th>centrality-2</th>\n",
       "    </tr>\n",
       "  </thead>\n",
       "  <tbody>\n",
       "    <tr>\n",
       "      <th>5437832</th>\n",
       "      <td>63</td>\n",
       "      <td>6.003906</td>\n",
       "      <td>0.924805</td>\n",
       "      <td>0.992676</td>\n",
       "      <td>3</td>\n",
       "      <td>0.270752</td>\n",
       "      <td>38.968750</td>\n",
       "      <td>8</td>\n",
       "      <td>0.960449</td>\n",
       "      <td>1</td>\n",
       "      <td>...</td>\n",
       "      <td>0.035656</td>\n",
       "      <td>0.961449</td>\n",
       "      <td>5.027679</td>\n",
       "      <td>0.035701</td>\n",
       "      <td>0.962187</td>\n",
       "      <td>3.0</td>\n",
       "      <td>0.037124</td>\n",
       "      <td>1.081309</td>\n",
       "      <td>0.855264</td>\n",
       "      <td>0.000252</td>\n",
       "    </tr>\n",
       "    <tr>\n",
       "      <th>237240</th>\n",
       "      <td>15</td>\n",
       "      <td>8.640625</td>\n",
       "      <td>0.443604</td>\n",
       "      <td>0.973145</td>\n",
       "      <td>2</td>\n",
       "      <td>5.367188</td>\n",
       "      <td>15.757812</td>\n",
       "      <td>3</td>\n",
       "      <td>0.000322</td>\n",
       "      <td>0</td>\n",
       "      <td>...</td>\n",
       "      <td>0.000010</td>\n",
       "      <td>0.000000</td>\n",
       "      <td>1.000156</td>\n",
       "      <td>0.019967</td>\n",
       "      <td>0.000000</td>\n",
       "      <td>0.0</td>\n",
       "      <td>0.029979</td>\n",
       "      <td>2.254265</td>\n",
       "      <td>0.196784</td>\n",
       "      <td>0.004444</td>\n",
       "    </tr>\n",
       "    <tr>\n",
       "      <th>7289493</th>\n",
       "      <td>79</td>\n",
       "      <td>-6.660156</td>\n",
       "      <td>0.425293</td>\n",
       "      <td>0.915527</td>\n",
       "      <td>4</td>\n",
       "      <td>2.775391</td>\n",
       "      <td>39.593750</td>\n",
       "      <td>9</td>\n",
       "      <td>0.409668</td>\n",
       "      <td>1</td>\n",
       "      <td>...</td>\n",
       "      <td>0.005468</td>\n",
       "      <td>0.821336</td>\n",
       "      <td>1.301512</td>\n",
       "      <td>0.008704</td>\n",
       "      <td>1.305822</td>\n",
       "      <td>8.0</td>\n",
       "      <td>0.013347</td>\n",
       "      <td>2.351320</td>\n",
       "      <td>0.180874</td>\n",
       "      <td>0.000160</td>\n",
       "    </tr>\n",
       "    <tr>\n",
       "      <th>5642144</th>\n",
       "      <td>14</td>\n",
       "      <td>-1.788086</td>\n",
       "      <td>0.981934</td>\n",
       "      <td>1.122070</td>\n",
       "      <td>6</td>\n",
       "      <td>1.232422</td>\n",
       "      <td>18.421875</td>\n",
       "      <td>10</td>\n",
       "      <td>0.989258</td>\n",
       "      <td>1</td>\n",
       "      <td>...</td>\n",
       "      <td>0.102615</td>\n",
       "      <td>3.961031</td>\n",
       "      <td>9.643875</td>\n",
       "      <td>0.102788</td>\n",
       "      <td>3.965720</td>\n",
       "      <td>24.0</td>\n",
       "      <td>0.103729</td>\n",
       "      <td>1.018399</td>\n",
       "      <td>0.964194</td>\n",
       "      <td>0.005102</td>\n",
       "    </tr>\n",
       "    <tr>\n",
       "      <th>1155722</th>\n",
       "      <td>72</td>\n",
       "      <td>-4.714844</td>\n",
       "      <td>2.660156</td>\n",
       "      <td>0.972656</td>\n",
       "      <td>1</td>\n",
       "      <td>5.312500</td>\n",
       "      <td>13.984375</td>\n",
       "      <td>1</td>\n",
       "      <td>0.451172</td>\n",
       "      <td>1</td>\n",
       "      <td>...</td>\n",
       "      <td>0.013450</td>\n",
       "      <td>-0.452172</td>\n",
       "      <td>1.349826</td>\n",
       "      <td>0.048620</td>\n",
       "      <td>-1.631305</td>\n",
       "      <td>-1.0</td>\n",
       "      <td>0.029810</td>\n",
       "      <td>0.375918</td>\n",
       "      <td>7.076431</td>\n",
       "      <td>0.000193</td>\n",
       "    </tr>\n",
       "  </tbody>\n",
       "</table>\n",
       "<p>5 rows × 24 columns</p>\n",
       "</div>"
      ],
      "text/plain": [
       "         centrality   zvertex        pt       e/p  n0      disp       chi2  \\\n",
       "5437832          63  6.003906  0.924805  0.992676   3  0.270752  38.968750   \n",
       "237240           15  8.640625  0.443604  0.973145   2  5.367188  15.757812   \n",
       "7289493          79 -6.660156  0.425293  0.915527   4  2.775391  39.593750   \n",
       "5642144          14 -1.788086  0.981934  1.122070   6  1.232422  18.421875   \n",
       "1155722          72 -4.714844  2.660156  0.972656   1  5.312500  13.984375   \n",
       "\n",
       "         npe0      prob  phi0  ...  e/p*prob   n0*prob    prob-1    e/p*pt  \\\n",
       "5437832     8  0.960449     1  ...  0.035656  0.961449  5.027679  0.035701   \n",
       "237240      3  0.000322     0  ...  0.000010  0.000000  1.000156  0.019967   \n",
       "7289493     9  0.409668     1  ...  0.005468  0.821336  1.301512  0.008704   \n",
       "5642144    10  0.989258     1  ...  0.102615  3.961031  9.643875  0.102788   \n",
       "1155722     1  0.451172     1  ...  0.013450 -0.452172  1.349826  0.048620   \n",
       "\n",
       "            n0*pt  n0-2   e/p-0.8      pt-1       pt2  centrality-2  \n",
       "5437832  0.962187   3.0  0.037124  1.081309  0.855264      0.000252  \n",
       "237240   0.000000   0.0  0.029979  2.254265  0.196784      0.004444  \n",
       "7289493  1.305822   8.0  0.013347  2.351320  0.180874      0.000160  \n",
       "5642144  3.965720  24.0  0.103729  1.018399  0.964194      0.005102  \n",
       "1155722 -1.631305  -1.0  0.029810  0.375918  7.076431      0.000193  \n",
       "\n",
       "[5 rows x 24 columns]"
      ]
     },
     "execution_count": 6,
     "metadata": {},
     "output_type": "execute_result"
    }
   ],
   "source": [
    "if not iOption:\n",
    "    data['disp2'] = data.apply(lambda row: row['disp']**2, axis=1)\n",
    "    data['n0*disp'] = data.apply(lambda row: (row['n0']-2)/(1+row['disp']), axis=1)\n",
    "    data['n0*disp2'] = data.apply(lambda row: (row['n0']-2)/(1+row['disp'])**0.5, axis=1)\n",
    "    data['chi2/npe0'] = data.apply(lambda row: row['chi2']/(row['npe0']+0.001), axis=1)\n",
    "    data['e/p*prob'] = data.apply(lambda row:  math.copysign(1,row['e/p']-0.8)*(row['e/p']-0.8)**2*(row['prob']), axis=1)\n",
    "    data['n0*prob'] = data.apply(lambda row: (row['n0']-2)*(row['prob']+0.001), axis=1)\n",
    "    data['prob-1'] = data.apply(lambda row: 1./(1.00001-row['prob'])**0.5, axis=1)\n",
    "    data['e/p*pt'] = data.apply(lambda row: ((row['pt'])**0.5)*math.copysign(1,row['e/p']-0.8)*(row['e/p']-0.8)**2, axis=1)\n",
    "    data['n0*pt'] = data.apply(lambda row: (row['n0']-2)*(row['pt']+0.001)**0.5, axis=1)\n",
    "    #data['e/p*centrality'] = data.apply(lambda row: row['e/p']*(row['centrality']+0.001)**0.5, axis=1)\n",
    "    #data['n0*centrality'] = data.apply(lambda row: row['n0']*(row['centrality']+0.001)**0.5, axis=1)\n",
    "    data['n0-2'] = data.apply(lambda row: (row['n0']-2)*(row['n0']), axis=1)\n",
    "    data['e/p-0.8'] = data.apply(lambda row: math.copysign(1,row['e/p']-0.8)*(row['e/p']-0.8)**2, axis=1)\n",
    "    data['pt-1'] = data.apply(lambda row: row['pt']**-1, axis=1)\n",
    "    data['pt2'] = data.apply(lambda row: row['pt']**2, axis=1)\n",
    "    data['centrality-2'] = data.apply(lambda row: row['centrality']**-2, axis=1)\n",
    "else:\n",
    "    data['disp2'] = data.apply(lambda row: row['disp']**2, axis=1)\n",
    "    data['n0*disp'] = data.apply(lambda row: (row['n0']-2)/(1+row['disp']), axis=1)\n",
    "    data['n0*disp2'] = data.apply(lambda row: (row['n0']-2)/(1+row['disp'])**0.5, axis=1)\n",
    "    data['chi2/npe0'] = data.apply(lambda row: row['chi2']/(row['npe0']+0.001), axis=1)\n",
    "    data['e/p*prob'] = data.apply(lambda row:  math.copysign(1,row['e/p']-0.8)*(row['e/p']-0.8)**2*(row['prob']), axis=1)\n",
    "    data['n0*prob'] = data.apply(lambda row: (row['n0']-2)*(row['prob']+0.001), axis=1)\n",
    "    data['prob-1'] = data.apply(lambda row: 1./(1.00001-row['prob'])**0.5, axis=1)\n",
    "    data['e/p*pt'] = data.apply(lambda row: ((row['pt'])**0.5)*math.copysign(1,row['e/p']-0.8)*(row['e/p']-0.8)**2, axis=1)\n",
    "    data['n0*pt'] = data.apply(lambda row: (row['n0']-2)*(row['pt']+0.001)**0.5, axis=1)\n",
    "    #data['e/p*centrality'] = data.apply(lambda row: row['e/p']*(row['centrality']+0.001)**0.5, axis=1)\n",
    "    #data['n0*centrality'] = data.apply(lambda row: row['n0']*(row['centrality']+0.001)**0.5, axis=1)\n",
    "    data['n0-2'] = data.apply(lambda row: (row['n0']-2)*(row['n0']), axis=1)\n",
    "    data['e/p-0.8'] = data.apply(lambda row: math.copysign(1,row['e/p']-0.8)*(row['e/p']-0.8)**2, axis=1)\n",
    "    data['pt-1'] = data.apply(lambda row: row['pt']**-1, axis=1)\n",
    "    data['pt2'] = data.apply(lambda row: row['pt']**2, axis=1)\n",
    "    data['centrality-2'] = data.apply(lambda row: row['centrality']**-2, axis=1)\n",
    "data.head()"
   ]
  },
  {
   "cell_type": "code",
   "execution_count": 7,
   "metadata": {},
   "outputs": [],
   "source": [
    "filename = 'newDB.csv'\n",
    "filepath = '/home/yoren/bnl/PHENIX/ee/ML/'+filename"
   ]
  },
  {
   "cell_type": "code",
   "execution_count": 8,
   "metadata": {},
   "outputs": [],
   "source": [
    "data.to_csv(filepath, index=False)"
   ]
  },
  {
   "cell_type": "code",
   "execution_count": 9,
   "metadata": {},
   "outputs": [
    {
     "name": "stdout",
     "output_type": "stream",
     "text": [
      "261258888 (10885787, 24) (2258759, 10) (8627028, 10)\n"
     ]
    }
   ],
   "source": [
    "print(data.size, data.shape, data1.shape, data2.shape)"
   ]
  },
  {
   "cell_type": "code",
   "execution_count": 10,
   "metadata": {
    "execution": {
     "iopub.execute_input": "2023-11-23T19:17:48.957495Z",
     "iopub.status.busy": "2023-11-23T19:17:48.956914Z",
     "iopub.status.idle": "2023-11-23T19:17:49.537692Z",
     "shell.execute_reply": "2023-11-23T19:17:49.536431Z",
     "shell.execute_reply.started": "2023-11-23T19:17:48.957458Z"
    },
    "id": "LbtMxvFqmSyA"
   },
   "outputs": [],
   "source": [
    "# удалим лишние колонки\n",
    "data = data.drop(columns = ['zvertex'])"
   ]
  },
  {
   "cell_type": "code",
   "execution_count": 11,
   "metadata": {
    "execution": {
     "iopub.execute_input": "2023-11-23T19:17:49.540776Z",
     "iopub.status.busy": "2023-11-23T19:17:49.540393Z",
     "iopub.status.idle": "2023-11-23T19:17:49.548387Z",
     "shell.execute_reply": "2023-11-23T19:17:49.547028Z",
     "shell.execute_reply.started": "2023-11-23T19:17:49.540741Z"
    }
   },
   "outputs": [],
   "source": [
    "import matplotlib.pyplot as plt\n",
    "\n",
    "def analysis(data: pd.DataFrame):\n",
    "    fig, ax = plt.subplots(3, 3, figsize=(15, 6))\n",
    "    for i, feature in enumerate(['centrality', 'pt', 'e/p', 'n0', 'disp', 'chi2', 'npe0', 'prob', 'phi0']):\n",
    "        x, y = divmod(i, 3)\n",
    "        data[feature].plot.hist(ax=ax[x][y], ylabel='', title=feature, color='skyblue', logy=True)\n"
   ]
  },
  {
   "cell_type": "code",
   "execution_count": 12,
   "metadata": {
    "execution": {
     "iopub.execute_input": "2023-11-23T19:31:49.428715Z",
     "iopub.status.busy": "2023-11-23T19:31:49.428233Z",
     "iopub.status.idle": "2023-11-23T19:31:58.596583Z",
     "shell.execute_reply": "2023-11-23T19:31:58.595398Z",
     "shell.execute_reply.started": "2023-11-23T19:31:49.428681Z"
    }
   },
   "outputs": [
    {
     "data": {
      "image/png": "[encoded data removed]",
      "text/plain": [
       "<Figure size 1500x600 with 9 Axes>"
      ]
     },
     "metadata": {},
     "output_type": "display_data"
    }
   ],
   "source": [
    "analysis(data)"
   ]
  },
  {
   "cell_type": "markdown",
   "metadata": {},
   "source": [
    "+ Видим, что impressions имеют только одно значение, поэтому их можно удалить.\n",
    "+ Таргет-переменная clicks сильно несбалансирована. Возможно, стоит использовать балансировку весов, а также в качестве оценки моделей использовать f1 и ROC AUC.\n",
    "+ У campaign_clicks нулевых значений сильно больше, чем ненулевых, следовательно, можно трансформировать в бинарную фичу\n",
    "+ os_id со значениями больше 6 встречается редко, можно объединить в одну категорию\n",
    "+ Аналогично с редкими значениями zone_id"
   ]
  }
 ],
 "metadata": {
  "colab": {
   "provenance": []
  },
  "kaggle": {
   "accelerator": "none",
   "dataSources": [
    {
     "datasetId": 4012891,
     "sourceId": 6982515,
     "sourceType": "datasetVersion"
    }
   ],
   "dockerImageVersionId": 30587,
   "isGpuEnabled": false,
   "isInternetEnabled": true,
   "language": "python",
   "sourceType": "notebook"
  },
  "kernelspec": {
   "display_name": "Python 3",
   "language": "python",
   "name": "python3"
  },
  "language_info": {
   "codemirror_mode": {
    "name": "ipython",
    "version": 3
   },
   "file_extension": ".py",
   "mimetype": "text/x-python",
   "name": "python",
   "nbconvert_exporter": "python",
   "pygments_lexer": "ipython3",
   "version": "3.10.12"
  }
 },
 "nbformat": 4,
 "nbformat_minor": 4
}
