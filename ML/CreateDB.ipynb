{
 "cells": [
  {
   "cell_type": "markdown",
   "metadata": {},
   "source": [
    "# Feature Analysis"
   ]
  },
  {
   "cell_type": "code",
   "execution_count": 1,
   "metadata": {
    "execution": {
     "iopub.execute_input": "2023-11-23T19:16:33.955448Z",
     "iopub.status.busy": "2023-11-23T19:16:33.955048Z",
     "iopub.status.idle": "2023-11-23T19:16:34.418885Z",
     "shell.execute_reply": "2023-11-23T19:16:34.417944Z",
     "shell.execute_reply.started": "2023-11-23T19:16:33.955416Z"
    },
    "id": "uVg6FlWlmSx_"
   },
   "outputs": [],
   "source": [
    "import pandas as pd\n",
    "import math"
   ]
  },
  {
   "cell_type": "code",
   "execution_count": 2,
   "metadata": {},
   "outputs": [],
   "source": [
    "filenames1 = ['pionminus','pionminus1','pionminus2','pionminus3','pionminus4','pionminus5','pionminus100_v1']\n",
    "filename2 = 'electron1'\n",
    "filepath = \"/home/yoren/bnl/PHENIX/ee/ML/\""
   ]
  },
  {
   "cell_type": "code",
   "execution_count": 14,
   "metadata": {
    "execution": {
     "iopub.execute_input": "2023-11-23T19:16:34.421642Z",
     "iopub.status.busy": "2023-11-23T19:16:34.420565Z",
     "iopub.status.idle": "2023-11-23T19:17:48.955309Z",
     "shell.execute_reply": "2023-11-23T19:17:48.954386Z",
     "shell.execute_reply.started": "2023-11-23T19:16:34.421605Z"
    }
   },
   "outputs": [],
   "source": [
    "data1 = pd.read_csv(filepath+f'{filenames1[0]}.csv')\n",
    "data1.loc[data1['phi0'] > -99, 'phi0'] = 0\n",
    "for ifile in range(1,len(filenames1)):\n",
    "    idata = pd.read_csv(filepath+f'{filenames1[ifile]}.csv')\n",
    "    idata.loc[idata['phi0'] > -99, 'phi0'] = 0\n",
    "    data1 = pd.concat([data1,idata], sort=False)\n",
    "data1 = pd.concat([data1,data1], sort=False)\n",
    "data1 = pd.concat([data1,data1], sort=False)\n",
    "data1 = pd.concat([data1,data1], sort=False)\n",
    "#data1 = pd.concat([data1,data1], sort=False)\n",
    "    \n",
    "data2 = pd.read_csv(filepath+f'{filename2}.csv')\n",
    "data2.loc[data2['phi0'] > -99, 'phi0'] = 1\n",
    "#data2 = data2[:100000]"
   ]
  },
  {
   "cell_type": "code",
   "execution_count": 15,
   "metadata": {},
   "outputs": [
    {
     "data": {
      "text/html": [
       "<div>\n",
       "<style scoped>\n",
       "    .dataframe tbody tr th:only-of-type {\n",
       "        vertical-align: middle;\n",
       "    }\n",
       "\n",
       "    .dataframe tbody tr th {\n",
       "        vertical-align: top;\n",
       "    }\n",
       "\n",
       "    .dataframe thead th {\n",
       "        text-align: right;\n",
       "    }\n",
       "</style>\n",
       "<table border=\"1\" class=\"dataframe\">\n",
       "  <thead>\n",
       "    <tr style=\"text-align: right;\">\n",
       "      <th></th>\n",
       "      <th>centrality</th>\n",
       "      <th>zvertex</th>\n",
       "      <th>pt</th>\n",
       "      <th>e/p</th>\n",
       "      <th>n0</th>\n",
       "      <th>disp</th>\n",
       "      <th>chi2</th>\n",
       "      <th>npe0</th>\n",
       "      <th>prob</th>\n",
       "      <th>phi0</th>\n",
       "    </tr>\n",
       "  </thead>\n",
       "  <tbody>\n",
       "    <tr>\n",
       "      <th>165872</th>\n",
       "      <td>16</td>\n",
       "      <td>-6.445312</td>\n",
       "      <td>0.614258</td>\n",
       "      <td>0.674805</td>\n",
       "      <td>2</td>\n",
       "      <td>2.244141</td>\n",
       "      <td>113.875000</td>\n",
       "      <td>1</td>\n",
       "      <td>0.511719</td>\n",
       "      <td>0</td>\n",
       "    </tr>\n",
       "    <tr>\n",
       "      <th>271650</th>\n",
       "      <td>77</td>\n",
       "      <td>-3.271484</td>\n",
       "      <td>0.452881</td>\n",
       "      <td>0.947266</td>\n",
       "      <td>1</td>\n",
       "      <td>6.511719</td>\n",
       "      <td>23.343750</td>\n",
       "      <td>2</td>\n",
       "      <td>0.592773</td>\n",
       "      <td>0</td>\n",
       "    </tr>\n",
       "    <tr>\n",
       "      <th>42036</th>\n",
       "      <td>29</td>\n",
       "      <td>9.968750</td>\n",
       "      <td>0.652832</td>\n",
       "      <td>0.858887</td>\n",
       "      <td>2</td>\n",
       "      <td>8.039062</td>\n",
       "      <td>27.156250</td>\n",
       "      <td>4</td>\n",
       "      <td>0.000264</td>\n",
       "      <td>0</td>\n",
       "    </tr>\n",
       "    <tr>\n",
       "      <th>82047</th>\n",
       "      <td>57</td>\n",
       "      <td>-1.202148</td>\n",
       "      <td>0.400391</td>\n",
       "      <td>0.972168</td>\n",
       "      <td>1</td>\n",
       "      <td>6.953125</td>\n",
       "      <td>44.531250</td>\n",
       "      <td>0</td>\n",
       "      <td>0.859863</td>\n",
       "      <td>0</td>\n",
       "    </tr>\n",
       "    <tr>\n",
       "      <th>1055376</th>\n",
       "      <td>26</td>\n",
       "      <td>-9.109375</td>\n",
       "      <td>0.548340</td>\n",
       "      <td>0.737793</td>\n",
       "      <td>5</td>\n",
       "      <td>2.976562</td>\n",
       "      <td>25.140625</td>\n",
       "      <td>6</td>\n",
       "      <td>0.794434</td>\n",
       "      <td>1</td>\n",
       "    </tr>\n",
       "  </tbody>\n",
       "</table>\n",
       "</div>"
      ],
      "text/plain": [
       "         centrality   zvertex        pt       e/p  n0      disp        chi2  \\\n",
       "165872           16 -6.445312  0.614258  0.674805   2  2.244141  113.875000   \n",
       "271650           77 -3.271484  0.452881  0.947266   1  6.511719   23.343750   \n",
       "42036            29  9.968750  0.652832  0.858887   2  8.039062   27.156250   \n",
       "82047            57 -1.202148  0.400391  0.972168   1  6.953125   44.531250   \n",
       "1055376          26 -9.109375  0.548340  0.737793   5  2.976562   25.140625   \n",
       "\n",
       "         npe0      prob  phi0  \n",
       "165872      1  0.511719     0  \n",
       "271650      2  0.592773     0  \n",
       "42036       4  0.000264     0  \n",
       "82047       0  0.859863     0  \n",
       "1055376     6  0.794434     1  "
      ]
     },
     "execution_count": 15,
     "metadata": {},
     "output_type": "execute_result"
    }
   ],
   "source": [
    "data = pd.concat([data1,data2], sort=False)\n",
    "data = data.sample(frac = 1)\n",
    "data['phi0'] = data['phi0'].astype('int32')\n",
    "data['centrality'] = data['centrality'].astype('int32')\n",
    "data['zvertex'] = data['zvertex'].astype('float16')\n",
    "data['pt'] = data['pt'].astype('float16')\n",
    "data['e/p'] = data['e/p'].astype('float16')\n",
    "data['n0'] = data['n0'].astype('int32')\n",
    "data['disp'] = data['disp'].astype('float16')\n",
    "data['chi2'] = data['chi2'].astype('float16')\n",
    "data['npe0'] = data['npe0'].astype('int32')\n",
    "data['prob'] = data['prob'].astype('float16')\n",
    "data.head()"
   ]
  },
  {
   "cell_type": "code",
   "execution_count": 16,
   "metadata": {},
   "outputs": [
    {
     "data": {
      "text/html": [
       "<div>\n",
       "<style scoped>\n",
       "    .dataframe tbody tr th:only-of-type {\n",
       "        vertical-align: middle;\n",
       "    }\n",
       "\n",
       "    .dataframe tbody tr th {\n",
       "        vertical-align: top;\n",
       "    }\n",
       "\n",
       "    .dataframe thead th {\n",
       "        text-align: right;\n",
       "    }\n",
       "</style>\n",
       "<table border=\"1\" class=\"dataframe\">\n",
       "  <thead>\n",
       "    <tr style=\"text-align: right;\">\n",
       "      <th></th>\n",
       "      <th>centrality</th>\n",
       "      <th>zvertex</th>\n",
       "      <th>pt</th>\n",
       "      <th>e/p</th>\n",
       "      <th>n0</th>\n",
       "      <th>disp</th>\n",
       "      <th>chi2</th>\n",
       "      <th>npe0</th>\n",
       "      <th>prob</th>\n",
       "      <th>phi0</th>\n",
       "      <th>...</th>\n",
       "      <th>e/p*prob</th>\n",
       "      <th>n0*prob</th>\n",
       "      <th>prob-1</th>\n",
       "      <th>e/p*pt</th>\n",
       "      <th>n0*pt</th>\n",
       "      <th>n0-2</th>\n",
       "      <th>e/p-0.8</th>\n",
       "      <th>pt-1</th>\n",
       "      <th>pt2</th>\n",
       "      <th>centrality-2</th>\n",
       "    </tr>\n",
       "  </thead>\n",
       "  <tbody>\n",
       "    <tr>\n",
       "      <th>165872</th>\n",
       "      <td>16</td>\n",
       "      <td>-6.445312</td>\n",
       "      <td>0.614258</td>\n",
       "      <td>0.674805</td>\n",
       "      <td>2</td>\n",
       "      <td>2.244141</td>\n",
       "      <td>113.875000</td>\n",
       "      <td>1</td>\n",
       "      <td>0.511719</td>\n",
       "      <td>0</td>\n",
       "      <td>...</td>\n",
       "      <td>-8.020611e-03</td>\n",
       "      <td>0.000000</td>\n",
       "      <td>1.431069</td>\n",
       "      <td>-0.012284</td>\n",
       "      <td>0.000000</td>\n",
       "      <td>0.0</td>\n",
       "      <td>-0.015674</td>\n",
       "      <td>1.627981</td>\n",
       "      <td>0.377313</td>\n",
       "      <td>0.003906</td>\n",
       "    </tr>\n",
       "    <tr>\n",
       "      <th>271650</th>\n",
       "      <td>77</td>\n",
       "      <td>-3.271484</td>\n",
       "      <td>0.452881</td>\n",
       "      <td>0.947266</td>\n",
       "      <td>1</td>\n",
       "      <td>6.511719</td>\n",
       "      <td>23.343750</td>\n",
       "      <td>2</td>\n",
       "      <td>0.592773</td>\n",
       "      <td>0</td>\n",
       "      <td>...</td>\n",
       "      <td>1.285557e-02</td>\n",
       "      <td>-0.593773</td>\n",
       "      <td>1.567028</td>\n",
       "      <td>0.014595</td>\n",
       "      <td>-0.673707</td>\n",
       "      <td>-1.0</td>\n",
       "      <td>0.021687</td>\n",
       "      <td>2.208086</td>\n",
       "      <td>0.205101</td>\n",
       "      <td>0.000169</td>\n",
       "    </tr>\n",
       "    <tr>\n",
       "      <th>42036</th>\n",
       "      <td>29</td>\n",
       "      <td>9.968750</td>\n",
       "      <td>0.652832</td>\n",
       "      <td>0.858887</td>\n",
       "      <td>2</td>\n",
       "      <td>8.039062</td>\n",
       "      <td>27.156250</td>\n",
       "      <td>4</td>\n",
       "      <td>0.000264</td>\n",
       "      <td>0</td>\n",
       "      <td>...</td>\n",
       "      <td>9.160403e-07</td>\n",
       "      <td>0.000000</td>\n",
       "      <td>1.000127</td>\n",
       "      <td>0.002802</td>\n",
       "      <td>0.000000</td>\n",
       "      <td>0.0</td>\n",
       "      <td>0.003468</td>\n",
       "      <td>1.531788</td>\n",
       "      <td>0.426190</td>\n",
       "      <td>0.001189</td>\n",
       "    </tr>\n",
       "    <tr>\n",
       "      <th>82047</th>\n",
       "      <td>57</td>\n",
       "      <td>-1.202148</td>\n",
       "      <td>0.400391</td>\n",
       "      <td>0.972168</td>\n",
       "      <td>1</td>\n",
       "      <td>6.953125</td>\n",
       "      <td>44.531250</td>\n",
       "      <td>0</td>\n",
       "      <td>0.859863</td>\n",
       "      <td>0</td>\n",
       "      <td>...</td>\n",
       "      <td>2.548790e-02</td>\n",
       "      <td>-0.860863</td>\n",
       "      <td>2.671213</td>\n",
       "      <td>0.018756</td>\n",
       "      <td>-0.633554</td>\n",
       "      <td>-1.0</td>\n",
       "      <td>0.029642</td>\n",
       "      <td>2.497561</td>\n",
       "      <td>0.160313</td>\n",
       "      <td>0.000308</td>\n",
       "    </tr>\n",
       "    <tr>\n",
       "      <th>1055376</th>\n",
       "      <td>26</td>\n",
       "      <td>-9.109375</td>\n",
       "      <td>0.548340</td>\n",
       "      <td>0.737793</td>\n",
       "      <td>5</td>\n",
       "      <td>2.976562</td>\n",
       "      <td>25.140625</td>\n",
       "      <td>6</td>\n",
       "      <td>0.794434</td>\n",
       "      <td>1</td>\n",
       "      <td>...</td>\n",
       "      <td>-3.074231e-03</td>\n",
       "      <td>2.386301</td>\n",
       "      <td>2.205532</td>\n",
       "      <td>-0.002866</td>\n",
       "      <td>2.223524</td>\n",
       "      <td>15.0</td>\n",
       "      <td>-0.003870</td>\n",
       "      <td>1.823687</td>\n",
       "      <td>0.300677</td>\n",
       "      <td>0.001479</td>\n",
       "    </tr>\n",
       "  </tbody>\n",
       "</table>\n",
       "<p>5 rows × 24 columns</p>\n",
       "</div>"
      ],
      "text/plain": [
       "         centrality   zvertex        pt       e/p  n0      disp        chi2  \\\n",
       "165872           16 -6.445312  0.614258  0.674805   2  2.244141  113.875000   \n",
       "271650           77 -3.271484  0.452881  0.947266   1  6.511719   23.343750   \n",
       "42036            29  9.968750  0.652832  0.858887   2  8.039062   27.156250   \n",
       "82047            57 -1.202148  0.400391  0.972168   1  6.953125   44.531250   \n",
       "1055376          26 -9.109375  0.548340  0.737793   5  2.976562   25.140625   \n",
       "\n",
       "         npe0      prob  phi0  ...      e/p*prob   n0*prob    prob-1  \\\n",
       "165872      1  0.511719     0  ... -8.020611e-03  0.000000  1.431069   \n",
       "271650      2  0.592773     0  ...  1.285557e-02 -0.593773  1.567028   \n",
       "42036       4  0.000264     0  ...  9.160403e-07  0.000000  1.000127   \n",
       "82047       0  0.859863     0  ...  2.548790e-02 -0.860863  2.671213   \n",
       "1055376     6  0.794434     1  ... -3.074231e-03  2.386301  2.205532   \n",
       "\n",
       "           e/p*pt     n0*pt  n0-2   e/p-0.8      pt-1       pt2  centrality-2  \n",
       "165872  -0.012284  0.000000   0.0 -0.015674  1.627981  0.377313      0.003906  \n",
       "271650   0.014595 -0.673707  -1.0  0.021687  2.208086  0.205101      0.000169  \n",
       "42036    0.002802  0.000000   0.0  0.003468  1.531788  0.426190      0.001189  \n",
       "82047    0.018756 -0.633554  -1.0  0.029642  2.497561  0.160313      0.000308  \n",
       "1055376 -0.002866  2.223524  15.0 -0.003870  1.823687  0.300677      0.001479  \n",
       "\n",
       "[5 rows x 24 columns]"
      ]
     },
     "execution_count": 16,
     "metadata": {},
     "output_type": "execute_result"
    }
   ],
   "source": [
    "data['disp2'] = data.apply(lambda row: row['disp']**2, axis=1)\n",
    "data['n0*disp'] = data.apply(lambda row: (row['n0']-2)/(1+row['disp']), axis=1)\n",
    "data['n0*disp2'] = data.apply(lambda row: (row['n0']-2)/(1+row['disp'])**0.5, axis=1)\n",
    "data['chi2/npe0'] = data.apply(lambda row: row['chi2']/(row['npe0']+0.001), axis=1)\n",
    "data['e/p*prob'] = data.apply(lambda row:  math.copysign(1,row['e/p']-0.8)*(row['e/p']-0.8)**2*(row['prob']), axis=1)\n",
    "data['n0*prob'] = data.apply(lambda row: (row['n0']-2)*(row['prob']+0.001), axis=1)\n",
    "data['prob-1'] = data.apply(lambda row: 1./(1.00001-row['prob'])**0.5, axis=1)\n",
    "data['e/p*pt'] = data.apply(lambda row: ((row['pt'])**0.5)*math.copysign(1,row['e/p']-0.8)*(row['e/p']-0.8)**2, axis=1)\n",
    "data['n0*pt'] = data.apply(lambda row: (row['n0']-2)*(row['pt']+0.001)**0.5, axis=1)\n",
    "#data['e/p*centrality'] = data.apply(lambda row: row['e/p']*(row['centrality']+0.001)**0.5, axis=1)\n",
    "#data['n0*centrality'] = data.apply(lambda row: row['n0']*(row['centrality']+0.001)**0.5, axis=1)\n",
    "data['n0-2'] = data.apply(lambda row: (row['n0']-2)*(row['n0']), axis=1)\n",
    "data['e/p-0.8'] = data.apply(lambda row: math.copysign(1,row['e/p']-0.8)*(row['e/p']-0.8)**2, axis=1)\n",
    "data['pt-1'] = data.apply(lambda row: row['pt']**-1, axis=1)\n",
    "data['pt2'] = data.apply(lambda row: row['pt']**2, axis=1)\n",
    "data['centrality-2'] = data.apply(lambda row: row['centrality']**-2, axis=1)\n",
    "data.head()"
   ]
  },
  {
   "cell_type": "code",
   "execution_count": 17,
   "metadata": {},
   "outputs": [],
   "source": [
    "filename = 'newDB.csv'\n",
    "filepath = '/home/yoren/bnl/PHENIX/ee/ML/'+filename"
   ]
  },
  {
   "cell_type": "code",
   "execution_count": 18,
   "metadata": {},
   "outputs": [],
   "source": [
    "data.to_csv(filepath, index=False)"
   ]
  },
  {
   "cell_type": "code",
   "execution_count": 19,
   "metadata": {},
   "outputs": [
    {
     "name": "stdout",
     "output_type": "stream",
     "text": [
      "341659176 (14235799, 24) (12509480, 10) (1726319, 10)\n"
     ]
    }
   ],
   "source": [
    "print(data.size, data.shape, data1.shape, data2.shape)"
   ]
  },
  {
   "cell_type": "code",
   "execution_count": 20,
   "metadata": {
    "execution": {
     "iopub.execute_input": "2023-11-23T19:17:48.957495Z",
     "iopub.status.busy": "2023-11-23T19:17:48.956914Z",
     "iopub.status.idle": "2023-11-23T19:17:49.537692Z",
     "shell.execute_reply": "2023-11-23T19:17:49.536431Z",
     "shell.execute_reply.started": "2023-11-23T19:17:48.957458Z"
    },
    "id": "LbtMxvFqmSyA"
   },
   "outputs": [],
   "source": [
    "# удалим лишние колонки\n",
    "data = data.drop(columns = ['zvertex'])"
   ]
  },
  {
   "cell_type": "code",
   "execution_count": 21,
   "metadata": {
    "execution": {
     "iopub.execute_input": "2023-11-23T19:17:49.540776Z",
     "iopub.status.busy": "2023-11-23T19:17:49.540393Z",
     "iopub.status.idle": "2023-11-23T19:17:49.548387Z",
     "shell.execute_reply": "2023-11-23T19:17:49.547028Z",
     "shell.execute_reply.started": "2023-11-23T19:17:49.540741Z"
    }
   },
   "outputs": [],
   "source": [
    "import matplotlib.pyplot as plt\n",
    "\n",
    "def analysis(data: pd.DataFrame):\n",
    "    fig, ax = plt.subplots(3, 3, figsize=(15, 6))\n",
    "    for i, feature in enumerate(['centrality', 'pt', 'e/p', 'n0', 'disp', 'chi2', 'npe0', 'prob', 'phi0']):\n",
    "        x, y = divmod(i, 3)\n",
    "        data[feature].plot.hist(ax=ax[x][y], ylabel='', title=feature, color='skyblue', logy=True)\n"
   ]
  },
  {
   "cell_type": "code",
   "execution_count": 22,
   "metadata": {
    "execution": {
     "iopub.execute_input": "2023-11-23T19:31:49.428715Z",
     "iopub.status.busy": "2023-11-23T19:31:49.428233Z",
     "iopub.status.idle": "2023-11-23T19:31:58.596583Z",
     "shell.execute_reply": "2023-11-23T19:31:58.595398Z",
     "shell.execute_reply.started": "2023-11-23T19:31:49.428681Z"
    }
   },
   "outputs": [
    {
     "data": {
      "image/png": "[encoded data removed]",
      "text/plain": [
       "<Figure size 1500x600 with 9 Axes>"
      ]
     },
     "metadata": {},
     "output_type": "display_data"
    }
   ],
   "source": [
    "analysis(data)"
   ]
  },
  {
   "cell_type": "markdown",
   "metadata": {},
   "source": [
    "+ Видим, что impressions имеют только одно значение, поэтому их можно удалить.\n",
    "+ Таргет-переменная clicks сильно несбалансирована. Возможно, стоит использовать балансировку весов, а также в качестве оценки моделей использовать f1 и ROC AUC.\n",
    "+ У campaign_clicks нулевых значений сильно больше, чем ненулевых, следовательно, можно трансформировать в бинарную фичу\n",
    "+ os_id со значениями больше 6 встречается редко, можно объединить в одну категорию\n",
    "+ Аналогично с редкими значениями zone_id"
   ]
  }
 ],
 "metadata": {
  "colab": {
   "provenance": []
  },
  "kaggle": {
   "accelerator": "none",
   "dataSources": [
    {
     "datasetId": 4012891,
     "sourceId": 6982515,
     "sourceType": "datasetVersion"
    }
   ],
   "dockerImageVersionId": 30587,
   "isGpuEnabled": false,
   "isInternetEnabled": true,
   "language": "python",
   "sourceType": "notebook"
  },
  "kernelspec": {
   "display_name": "Python 3",
   "language": "python",
   "name": "python3"
  },
  "language_info": {
   "codemirror_mode": {
    "name": "ipython",
    "version": 3
   },
   "file_extension": ".py",
   "mimetype": "text/x-python",
   "name": "python",
   "nbconvert_exporter": "python",
   "pygments_lexer": "ipython3",
   "version": "3.10.12"
  }
 },
 "nbformat": 4,
 "nbformat_minor": 4
}
