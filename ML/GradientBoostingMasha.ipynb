{
 "cells": [
  {
   "cell_type": "code",
   "execution_count": 1,
   "id": "7500bbd2",
   "metadata": {},
   "outputs": [],
   "source": [
    "import pandas as pd\n",
    "import numpy as np"
   ]
  },
  {
   "cell_type": "code",
   "execution_count": null,
   "id": "d8652b87",
   "metadata": {},
   "outputs": [],
   "source": [
    "# load dataset from file csv\n",
    "filename = 'TwitterUSAirlineSentiment.xlsx'#'electron1'\n",
    "filepath = \"/home/yoren/bnl/PHENIX/ee/ML/\"\n",
    "f =filepath+filename\n",
    "\n",
    "#df=pd.read_csv(f,  sep=';', encoding='utf8')\n",
    "#df=pd.read_csv(f,  sep=';', encoding='cp1252' )\n",
    "#df=pd.read_csv(f,  sep=';', encoding='Latin-1')\n",
    "#df=pd.read_csv(f,  sep=';', encoding='ANSI')\n",
    "\n",
    "df = pd.read_excel(f, 0)  \n",
    "\n",
    "# this gives us the size of the array\n",
    "print('Dataset size', df.shape)\n",
    "\n",
    "# here we can get size of array as two variables\n",
    "num_rows, num_feature = df.shape\n",
    "\n",
    "print('row number: ', num_rows)\n",
    "print('feature number: ', num_feature)\n",
    "print()\n",
    "print('names of features: ', list(df))\n",
    "\n",
    "print('-------------------')\n",
    "print('full data loaded')\n",
    "print('-------------------')"
   ]
  },
  {
   "cell_type": "code",
   "execution_count": 5,
   "id": "51b1d359",
   "metadata": {},
   "outputs": [
    {
     "data": {
      "text/html": [
       "<div>\n",
       "<style scoped>\n",
       "    .dataframe tbody tr th:only-of-type {\n",
       "        vertical-align: middle;\n",
       "    }\n",
       "\n",
       "    .dataframe tbody tr th {\n",
       "        vertical-align: top;\n",
       "    }\n",
       "\n",
       "    .dataframe thead th {\n",
       "        text-align: right;\n",
       "    }\n",
       "</style>\n",
       "<table border=\"1\" class=\"dataframe\">\n",
       "  <thead>\n",
       "    <tr style=\"text-align: right;\">\n",
       "      <th></th>\n",
       "      <th>airline_sentiment</th>\n",
       "      <th>text</th>\n",
       "      <th>tweet_coord</th>\n",
       "      <th>tweet_created</th>\n",
       "    </tr>\n",
       "  </thead>\n",
       "  <tbody>\n",
       "    <tr>\n",
       "      <th>0</th>\n",
       "      <td>negative</td>\n",
       "      <td>@VirginAmerica it's really aggressive to blast...</td>\n",
       "      <td>NaN</td>\n",
       "      <td>2015-02-24 11:15:36</td>\n",
       "    </tr>\n",
       "    <tr>\n",
       "      <th>1</th>\n",
       "      <td>negative</td>\n",
       "      <td>@VirginAmerica and it's a really big bad thing...</td>\n",
       "      <td>NaN</td>\n",
       "      <td>2015-02-24 11:14:45</td>\n",
       "    </tr>\n",
       "    <tr>\n",
       "      <th>2</th>\n",
       "      <td>negative</td>\n",
       "      <td>@VirginAmerica seriously would pay $30 a fligh...</td>\n",
       "      <td>NaN</td>\n",
       "      <td>NaT</td>\n",
       "    </tr>\n",
       "    <tr>\n",
       "      <th>3</th>\n",
       "      <td>negative</td>\n",
       "      <td>@VirginAmerica SFO-PDX schedule is still MIA.</td>\n",
       "      <td>NaN</td>\n",
       "      <td>2015-02-24 10:01:50</td>\n",
       "    </tr>\n",
       "    <tr>\n",
       "      <th>4</th>\n",
       "      <td>negative</td>\n",
       "      <td>@VirginAmerica  I flew from NYC to SFO last we...</td>\n",
       "      <td>NaN</td>\n",
       "      <td>2015-02-24 09:39:46</td>\n",
       "    </tr>\n",
       "    <tr>\n",
       "      <th>...</th>\n",
       "      <td>...</td>\n",
       "      <td>...</td>\n",
       "      <td>...</td>\n",
       "      <td>...</td>\n",
       "    </tr>\n",
       "    <tr>\n",
       "      <th>14635</th>\n",
       "      <td>positive</td>\n",
       "      <td>@AmericanAir Love the new planes for the JFK-L...</td>\n",
       "      <td>NaN</td>\n",
       "      <td>2015-02-22 12:10:16</td>\n",
       "    </tr>\n",
       "    <tr>\n",
       "      <th>14636</th>\n",
       "      <td>positive</td>\n",
       "      <td>@AmericanAir Flight 236 was great. Fantastic c...</td>\n",
       "      <td>[40.64946781, -73.76624703]</td>\n",
       "      <td>2015-02-22 12:08:48</td>\n",
       "    </tr>\n",
       "    <tr>\n",
       "      <th>14637</th>\n",
       "      <td>positive</td>\n",
       "      <td>Thank you. вЂњ@AmericanAir: @jlhalldc Customer...</td>\n",
       "      <td>NaN</td>\n",
       "      <td>2015-02-22 12:04:51</td>\n",
       "    </tr>\n",
       "    <tr>\n",
       "      <th>14638</th>\n",
       "      <td>positive</td>\n",
       "      <td>@AmericanAir Thanks! He is.</td>\n",
       "      <td>NaN</td>\n",
       "      <td>2015-02-22 12:04:09</td>\n",
       "    </tr>\n",
       "    <tr>\n",
       "      <th>14639</th>\n",
       "      <td>positive</td>\n",
       "      <td>@AmericanAir thank you we got on a different f...</td>\n",
       "      <td>NaN</td>\n",
       "      <td>2015-02-22 12:01:01</td>\n",
       "    </tr>\n",
       "  </tbody>\n",
       "</table>\n",
       "<p>14640 rows × 4 columns</p>\n",
       "</div>"
      ],
      "text/plain": [
       "      airline_sentiment                                               text  \\\n",
       "0              negative  @VirginAmerica it's really aggressive to blast...   \n",
       "1              negative  @VirginAmerica and it's a really big bad thing...   \n",
       "2              negative  @VirginAmerica seriously would pay $30 a fligh...   \n",
       "3              negative      @VirginAmerica SFO-PDX schedule is still MIA.   \n",
       "4              negative  @VirginAmerica  I flew from NYC to SFO last we...   \n",
       "...                 ...                                                ...   \n",
       "14635          positive  @AmericanAir Love the new planes for the JFK-L...   \n",
       "14636          positive  @AmericanAir Flight 236 was great. Fantastic c...   \n",
       "14637          positive  Thank you. вЂњ@AmericanAir: @jlhalldc Customer...   \n",
       "14638          positive                        @AmericanAir Thanks! He is.   \n",
       "14639          positive  @AmericanAir thank you we got on a different f...   \n",
       "\n",
       "                       tweet_coord       tweet_created  \n",
       "0                              NaN 2015-02-24 11:15:36  \n",
       "1                              NaN 2015-02-24 11:14:45  \n",
       "2                              NaN                 NaT  \n",
       "3                              NaN 2015-02-24 10:01:50  \n",
       "4                              NaN 2015-02-24 09:39:46  \n",
       "...                            ...                 ...  \n",
       "14635                          NaN 2015-02-22 12:10:16  \n",
       "14636  [40.64946781, -73.76624703] 2015-02-22 12:08:48  \n",
       "14637                          NaN 2015-02-22 12:04:51  \n",
       "14638                          NaN 2015-02-22 12:04:09  \n",
       "14639                          NaN 2015-02-22 12:01:01  \n",
       "\n",
       "[14640 rows x 4 columns]"
      ]
     },
     "execution_count": 5,
     "metadata": {},
     "output_type": "execute_result"
    }
   ],
   "source": [
    "df"
   ]
  },
  {
   "cell_type": "code",
   "execution_count": 6,
   "id": "7d9b3a62",
   "metadata": {},
   "outputs": [
    {
     "data": {
      "image/png": "[encoded data removed]",
      "text/plain": [
       "<Figure size 640x480 with 1 Axes>"
      ]
     },
     "metadata": {},
     "output_type": "display_data"
    }
   ],
   "source": [
    "# pandas histogram\n",
    "h = df['airline_sentiment'].hist()\n",
    "fig = h.get_figure()"
   ]
  },
  {
   "cell_type": "code",
   "execution_count": 7,
   "id": "4931cec5",
   "metadata": {},
   "outputs": [],
   "source": [
    "# let do dataset with balanced class\n",
    "# we will split up dataset into 3 parts\n",
    "\n",
    "neut_df= df[df[\"airline_sentiment\"] == \"neutral\"]\n",
    "neg_df= df[df[\"airline_sentiment\"] == \"negative\"]\n",
    "pos_df= df[df[\"airline_sentiment\"] == \"positive\"]"
   ]
  },
  {
   "cell_type": "code",
   "execution_count": 8,
   "id": "941cec99",
   "metadata": {},
   "outputs": [
    {
     "name": "stdout",
     "output_type": "stream",
     "text": [
      "(9178, 4)\n"
     ]
    }
   ],
   "source": [
    "# now we will reduce size of negative dataset\n",
    "print(neg_df.shape)"
   ]
  },
  {
   "cell_type": "code",
   "execution_count": 9,
   "id": "ff45e800",
   "metadata": {},
   "outputs": [
    {
     "name": "stdout",
     "output_type": "stream",
     "text": [
      "neg_dataset before sampling:  (9178, 4)\n",
      "neg_dataset after sampling:  (3000, 4)\n"
     ]
    }
   ],
   "source": [
    "# We will try to downsample\n",
    "# it means we will reduce number of items in one class\n",
    "# see https://scikit-learn.org/stable/modules/generated/sklearn.utils.resample.html\n",
    "\n",
    "from sklearn.utils import resample\n",
    "print('neg_dataset before sampling: ', neg_df.shape)\n",
    "\n",
    "neg_downsample = resample(neg_df,\n",
    "             replace=True,\n",
    "             n_samples=3000,\n",
    "             random_state=42)\n",
    "\n",
    "print('neg_dataset after sampling: ', neg_downsample.shape)"
   ]
  },
  {
   "cell_type": "code",
   "execution_count": 10,
   "id": "6b7682b8",
   "metadata": {},
   "outputs": [
    {
     "name": "stdout",
     "output_type": "stream",
     "text": [
      "(8462, 4)\n"
     ]
    }
   ],
   "source": [
    "# now we joint all parts into one dataset and do shuffle\n",
    "# joing og datasets\n",
    "new_data = pd.concat([neg_downsample, neut_df, pos_df])\n",
    "print(new_data.shape)"
   ]
  },
  {
   "cell_type": "code",
   "execution_count": 11,
   "id": "7147b002",
   "metadata": {},
   "outputs": [
    {
     "data": {
      "image/png": "[encoded data removed]",
      "text/plain": [
       "<Figure size 640x480 with 1 Axes>"
      ]
     },
     "metadata": {},
     "output_type": "display_data"
    }
   ],
   "source": [
    "# pandas histogram\n",
    "h = new_data['airline_sentiment'].hist()\n",
    "fig = h.get_figure()"
   ]
  },
  {
   "cell_type": "code",
   "execution_count": 12,
   "id": "05ff5ed0",
   "metadata": {},
   "outputs": [
    {
     "data": {
      "text/html": [
       "<div>\n",
       "<style scoped>\n",
       "    .dataframe tbody tr th:only-of-type {\n",
       "        vertical-align: middle;\n",
       "    }\n",
       "\n",
       "    .dataframe tbody tr th {\n",
       "        vertical-align: top;\n",
       "    }\n",
       "\n",
       "    .dataframe thead th {\n",
       "        text-align: right;\n",
       "    }\n",
       "</style>\n",
       "<table border=\"1\" class=\"dataframe\">\n",
       "  <thead>\n",
       "    <tr style=\"text-align: right;\">\n",
       "      <th></th>\n",
       "      <th>airline_sentiment</th>\n",
       "      <th>text</th>\n",
       "      <th>tweet_coord</th>\n",
       "      <th>tweet_created</th>\n",
       "    </tr>\n",
       "  </thead>\n",
       "  <tbody>\n",
       "    <tr>\n",
       "      <th>5016</th>\n",
       "      <td>negative</td>\n",
       "      <td>@USAirways So frustrating because I still have...</td>\n",
       "      <td>NaN</td>\n",
       "      <td>2015-02-24 07:49:39</td>\n",
       "    </tr>\n",
       "    <tr>\n",
       "      <th>10772</th>\n",
       "      <td>neutral</td>\n",
       "      <td>@JetBlue can your people working this contact ...</td>\n",
       "      <td>[40.76262466, -73.73946148]</td>\n",
       "      <td>2015-02-23 16:45:57</td>\n",
       "    </tr>\n",
       "    <tr>\n",
       "      <th>3124</th>\n",
       "      <td>negative</td>\n",
       "      <td>@SouthwestAir here's a first..both pilot and f...</td>\n",
       "      <td>NaN</td>\n",
       "      <td>2015-02-22 10:56:27</td>\n",
       "    </tr>\n",
       "    <tr>\n",
       "      <th>7790</th>\n",
       "      <td>negative</td>\n",
       "      <td>@AmericanAir trying to change flight via DFW t...</td>\n",
       "      <td>NaN</td>\n",
       "      <td>2015-02-23 16:21:06</td>\n",
       "    </tr>\n",
       "    <tr>\n",
       "      <th>5036</th>\n",
       "      <td>negative</td>\n",
       "      <td>@USAirways they have all of this at hotels. St...</td>\n",
       "      <td>NaN</td>\n",
       "      <td>2015-02-24 06:30:04</td>\n",
       "    </tr>\n",
       "    <tr>\n",
       "      <th>...</th>\n",
       "      <td>...</td>\n",
       "      <td>...</td>\n",
       "      <td>...</td>\n",
       "      <td>...</td>\n",
       "    </tr>\n",
       "    <tr>\n",
       "      <th>14628</th>\n",
       "      <td>positive</td>\n",
       "      <td>@AmericanAir You guys did an amazing job today...</td>\n",
       "      <td>NaN</td>\n",
       "      <td>2015-02-22 12:57:23</td>\n",
       "    </tr>\n",
       "    <tr>\n",
       "      <th>1331</th>\n",
       "      <td>negative</td>\n",
       "      <td>@United - routing a person from Houston to New...</td>\n",
       "      <td>NaN</td>\n",
       "      <td>2015-02-21 21:29:12</td>\n",
       "    </tr>\n",
       "    <tr>\n",
       "      <th>10658</th>\n",
       "      <td>neutral</td>\n",
       "      <td>@SouthwestAir what is DM?</td>\n",
       "      <td>NaN</td>\n",
       "      <td>2015-02-17 13:02:55</td>\n",
       "    </tr>\n",
       "    <tr>\n",
       "      <th>3839</th>\n",
       "      <td>negative</td>\n",
       "      <td>@SouthwestAir paid for my own $200 rental car ...</td>\n",
       "      <td>NaN</td>\n",
       "      <td>2015-02-17 15:42:05</td>\n",
       "    </tr>\n",
       "    <tr>\n",
       "      <th>2866</th>\n",
       "      <td>negative</td>\n",
       "      <td>@SouthwestAir if you're going to charge for wi...</td>\n",
       "      <td>NaN</td>\n",
       "      <td>2015-02-24 08:51:36</td>\n",
       "    </tr>\n",
       "  </tbody>\n",
       "</table>\n",
       "<p>8462 rows × 4 columns</p>\n",
       "</div>"
      ],
      "text/plain": [
       "      airline_sentiment                                               text  \\\n",
       "5016           negative  @USAirways So frustrating because I still have...   \n",
       "10772           neutral  @JetBlue can your people working this contact ...   \n",
       "3124           negative  @SouthwestAir here's a first..both pilot and f...   \n",
       "7790           negative  @AmericanAir trying to change flight via DFW t...   \n",
       "5036           negative  @USAirways they have all of this at hotels. St...   \n",
       "...                 ...                                                ...   \n",
       "14628          positive  @AmericanAir You guys did an amazing job today...   \n",
       "1331           negative  @United - routing a person from Houston to New...   \n",
       "10658           neutral                          @SouthwestAir what is DM?   \n",
       "3839           negative  @SouthwestAir paid for my own $200 rental car ...   \n",
       "2866           negative  @SouthwestAir if you're going to charge for wi...   \n",
       "\n",
       "                       tweet_coord       tweet_created  \n",
       "5016                           NaN 2015-02-24 07:49:39  \n",
       "10772  [40.76262466, -73.73946148] 2015-02-23 16:45:57  \n",
       "3124                           NaN 2015-02-22 10:56:27  \n",
       "7790                           NaN 2015-02-23 16:21:06  \n",
       "5036                           NaN 2015-02-24 06:30:04  \n",
       "...                            ...                 ...  \n",
       "14628                          NaN 2015-02-22 12:57:23  \n",
       "1331                           NaN 2015-02-21 21:29:12  \n",
       "10658                          NaN 2015-02-17 13:02:55  \n",
       "3839                           NaN 2015-02-17 15:42:05  \n",
       "2866                           NaN 2015-02-24 08:51:36  \n",
       "\n",
       "[8462 rows x 4 columns]"
      ]
     },
     "execution_count": 12,
     "metadata": {},
     "output_type": "execute_result"
    }
   ],
   "source": [
    "# how we have to do shuffle\n",
    "from sklearn.utils import shuffle\n",
    "shuf_data = shuffle(new_data)\n",
    "shuf_data"
   ]
  },
  {
   "cell_type": "code",
   "execution_count": 13,
   "id": "bbd67cc3",
   "metadata": {},
   "outputs": [
    {
     "data": {
      "text/html": [
       "<div>\n",
       "<style scoped>\n",
       "    .dataframe tbody tr th:only-of-type {\n",
       "        vertical-align: middle;\n",
       "    }\n",
       "\n",
       "    .dataframe tbody tr th {\n",
       "        vertical-align: top;\n",
       "    }\n",
       "\n",
       "    .dataframe thead th {\n",
       "        text-align: right;\n",
       "    }\n",
       "</style>\n",
       "<table border=\"1\" class=\"dataframe\">\n",
       "  <thead>\n",
       "    <tr style=\"text-align: right;\">\n",
       "      <th></th>\n",
       "      <th>airline_sentiment</th>\n",
       "      <th>text</th>\n",
       "      <th>tweet_coord</th>\n",
       "      <th>tweet_created</th>\n",
       "    </tr>\n",
       "  </thead>\n",
       "  <tbody>\n",
       "    <tr>\n",
       "      <th>0</th>\n",
       "      <td>negative</td>\n",
       "      <td>@USAirways So frustrating because I still have...</td>\n",
       "      <td>NaN</td>\n",
       "      <td>2015-02-24 07:49:39</td>\n",
       "    </tr>\n",
       "    <tr>\n",
       "      <th>1</th>\n",
       "      <td>neutral</td>\n",
       "      <td>@JetBlue can your people working this contact ...</td>\n",
       "      <td>[40.76262466, -73.73946148]</td>\n",
       "      <td>2015-02-23 16:45:57</td>\n",
       "    </tr>\n",
       "    <tr>\n",
       "      <th>2</th>\n",
       "      <td>negative</td>\n",
       "      <td>@SouthwestAir here's a first..both pilot and f...</td>\n",
       "      <td>NaN</td>\n",
       "      <td>2015-02-22 10:56:27</td>\n",
       "    </tr>\n",
       "    <tr>\n",
       "      <th>3</th>\n",
       "      <td>negative</td>\n",
       "      <td>@AmericanAir trying to change flight via DFW t...</td>\n",
       "      <td>NaN</td>\n",
       "      <td>2015-02-23 16:21:06</td>\n",
       "    </tr>\n",
       "    <tr>\n",
       "      <th>4</th>\n",
       "      <td>negative</td>\n",
       "      <td>@USAirways they have all of this at hotels. St...</td>\n",
       "      <td>NaN</td>\n",
       "      <td>2015-02-24 06:30:04</td>\n",
       "    </tr>\n",
       "    <tr>\n",
       "      <th>...</th>\n",
       "      <td>...</td>\n",
       "      <td>...</td>\n",
       "      <td>...</td>\n",
       "      <td>...</td>\n",
       "    </tr>\n",
       "    <tr>\n",
       "      <th>8457</th>\n",
       "      <td>positive</td>\n",
       "      <td>@AmericanAir You guys did an amazing job today...</td>\n",
       "      <td>NaN</td>\n",
       "      <td>2015-02-22 12:57:23</td>\n",
       "    </tr>\n",
       "    <tr>\n",
       "      <th>8458</th>\n",
       "      <td>negative</td>\n",
       "      <td>@United - routing a person from Houston to New...</td>\n",
       "      <td>NaN</td>\n",
       "      <td>2015-02-21 21:29:12</td>\n",
       "    </tr>\n",
       "    <tr>\n",
       "      <th>8459</th>\n",
       "      <td>neutral</td>\n",
       "      <td>@SouthwestAir what is DM?</td>\n",
       "      <td>NaN</td>\n",
       "      <td>2015-02-17 13:02:55</td>\n",
       "    </tr>\n",
       "    <tr>\n",
       "      <th>8460</th>\n",
       "      <td>negative</td>\n",
       "      <td>@SouthwestAir paid for my own $200 rental car ...</td>\n",
       "      <td>NaN</td>\n",
       "      <td>2015-02-17 15:42:05</td>\n",
       "    </tr>\n",
       "    <tr>\n",
       "      <th>8461</th>\n",
       "      <td>negative</td>\n",
       "      <td>@SouthwestAir if you're going to charge for wi...</td>\n",
       "      <td>NaN</td>\n",
       "      <td>2015-02-24 08:51:36</td>\n",
       "    </tr>\n",
       "  </tbody>\n",
       "</table>\n",
       "<p>8462 rows × 4 columns</p>\n",
       "</div>"
      ],
      "text/plain": [
       "     airline_sentiment                                               text  \\\n",
       "0             negative  @USAirways So frustrating because I still have...   \n",
       "1              neutral  @JetBlue can your people working this contact ...   \n",
       "2             negative  @SouthwestAir here's a first..both pilot and f...   \n",
       "3             negative  @AmericanAir trying to change flight via DFW t...   \n",
       "4             negative  @USAirways they have all of this at hotels. St...   \n",
       "...                ...                                                ...   \n",
       "8457          positive  @AmericanAir You guys did an amazing job today...   \n",
       "8458          negative  @United - routing a person from Houston to New...   \n",
       "8459           neutral                          @SouthwestAir what is DM?   \n",
       "8460          negative  @SouthwestAir paid for my own $200 rental car ...   \n",
       "8461          negative  @SouthwestAir if you're going to charge for wi...   \n",
       "\n",
       "                      tweet_coord       tweet_created  \n",
       "0                             NaN 2015-02-24 07:49:39  \n",
       "1     [40.76262466, -73.73946148] 2015-02-23 16:45:57  \n",
       "2                             NaN 2015-02-22 10:56:27  \n",
       "3                             NaN 2015-02-23 16:21:06  \n",
       "4                             NaN 2015-02-24 06:30:04  \n",
       "...                           ...                 ...  \n",
       "8457                          NaN 2015-02-22 12:57:23  \n",
       "8458                          NaN 2015-02-21 21:29:12  \n",
       "8459                          NaN 2015-02-17 13:02:55  \n",
       "8460                          NaN 2015-02-17 15:42:05  \n",
       "8461                          NaN 2015-02-24 08:51:36  \n",
       "\n",
       "[8462 rows x 4 columns]"
      ]
     },
     "execution_count": 13,
     "metadata": {},
     "output_type": "execute_result"
    }
   ],
   "source": [
    "# note the index of the array, at this point it has non sequential numbers.\n",
    "# We need to change these numbers to a standard sequence of numbers.\n",
    "#shuf_data_ind = shuf_data.reset_index()\n",
    "shuf_data.index = np.arange(len(shuf_data))\n",
    "shuf_data"
   ]
  },
  {
   "cell_type": "code",
   "execution_count": 14,
   "id": "bc203ae7",
   "metadata": {},
   "outputs": [
    {
     "name": "stderr",
     "output_type": "stream",
     "text": [
      "[nltk_data] Downloading package punkt_tab to /home/yoren/nltk_data...\n",
      "[nltk_data]   Package punkt_tab is already up-to-date!\n",
      "[nltk_data] Downloading package wordnet to /home/yoren/nltk_data...\n",
      "[nltk_data]   Package wordnet is already up-to-date!\n",
      "[nltk_data] Downloading package stopwords to /home/yoren/nltk_data...\n",
      "[nltk_data]   Package stopwords is already up-to-date!\n"
     ]
    }
   ],
   "source": [
    "import nltk\n",
    "from nltk.stem import WordNetLemmatizer\n",
    "from nltk.tokenize import sent_tokenize, word_tokenize\n",
    "nltk.download('punkt_tab')\n",
    "nltk.download('wordnet')\n",
    "nltk.download('stopwords')\n",
    "# Init the Wordnet Lemmatizer\n",
    "lemmatizer = WordNetLemmatizer()"
   ]
  },
  {
   "cell_type": "code",
   "execution_count": 15,
   "id": "fa2f2fdc",
   "metadata": {},
   "outputs": [
    {
     "name": "stderr",
     "output_type": "stream",
     "text": [
      "  0%|          | 0/8462 [00:00<?, ?it/s]"
     ]
    },
    {
     "name": "stderr",
     "output_type": "stream",
     "text": [
      "100%|██████████| 8462/8462 [00:06<00:00, 1218.17it/s]"
     ]
    },
    {
     "name": "stdout",
     "output_type": "stream",
     "text": [
      "Lematization is over\n"
     ]
    },
    {
     "name": "stderr",
     "output_type": "stream",
     "text": [
      "\n"
     ]
    }
   ],
   "source": [
    "from tqdm import tqdm\n",
    "import re\n",
    "y_data = []\n",
    "\n",
    "for i in tqdm(range(8462)):\n",
    "    s = str(shuf_data['text'][i])\n",
    "    s1 = re.sub(r\"[;,.?“/&!@#$1234567890#—ツ►๑۩۞۩•*”˜˜”*°°*`)(]\", '', s)\n",
    "    word_list = nltk.word_tokenize(s1)\n",
    "    lemmatized_output = ' '.join([lemmatizer.lemmatize(w) for w in word_list])\n",
    "    y_data.append(lemmatized_output)\n",
    "    \n",
    "print('Lematization is over')"
   ]
  },
  {
   "cell_type": "code",
   "execution_count": 16,
   "id": "ff85e7f1",
   "metadata": {},
   "outputs": [],
   "source": [
    "# now we have lemtized data in y_data\n",
    "# we need do small job for our sentiment score\n",
    "shuf_data['airline_sentiment'] = shuf_data['airline_sentiment'].str.replace('neutral','0')\n",
    "shuf_data['airline_sentiment'] = shuf_data['airline_sentiment'].str.replace('positive','1')\n",
    "shuf_data['airline_sentiment'] = shuf_data['airline_sentiment'].str.replace('negative','-1')\n",
    "shuf_data['airline_sentiment'] = shuf_data['airline_sentiment'].astype(int)"
   ]
  },
  {
   "cell_type": "code",
   "execution_count": 17,
   "id": "104b10c4",
   "metadata": {},
   "outputs": [
    {
     "data": {
      "text/plain": [
       "0      -1\n",
       "1       0\n",
       "2      -1\n",
       "3      -1\n",
       "4      -1\n",
       "       ..\n",
       "8457    1\n",
       "8458   -1\n",
       "8459    0\n",
       "8460   -1\n",
       "8461   -1\n",
       "Name: airline_sentiment, Length: 8462, dtype: int64"
      ]
     },
     "execution_count": 17,
     "metadata": {},
     "output_type": "execute_result"
    }
   ],
   "source": [
    "shuf_data['airline_sentiment']"
   ]
  },
  {
   "cell_type": "code",
   "execution_count": 18,
   "id": "bd6577d7",
   "metadata": {},
   "outputs": [
    {
     "name": "stdout",
     "output_type": "stream",
     "text": [
      "number of docs:  8462  number features:  9592\n"
     ]
    }
   ],
   "source": [
    "# How we have correct dataset\n",
    "# let get target value\n",
    "Y= shuf_data['airline_sentiment'].values\n",
    "\n",
    "# We will transform it into tfidf matrix\n",
    "from nltk.corpus import stopwords\n",
    "\n",
    "stopwords = stopwords.words('english')\n",
    "\n",
    "from sklearn.feature_extraction.text import TfidfVectorizer\n",
    "vec = TfidfVectorizer(ngram_range=(1,1),stop_words=(stopwords))\n",
    "\n",
    "# we extract words (calculate tf-idf frequence) and transform data to array\n",
    "data = vec.fit_transform(y_data).toarray()\n",
    "\n",
    "num_docs, num_feature = data.shape\n",
    "print('number of docs: ', num_docs, ' number features: ', num_feature)"
   ]
  },
  {
   "cell_type": "markdown",
   "id": "e2af2596",
   "metadata": {},
   "source": [
    "# GradientBoostingClassifie"
   ]
  },
  {
   "cell_type": "markdown",
   "id": "b8f90dca",
   "metadata": {},
   "source": [
    "Boosting is an ensemble construction technique in which predictors are not constructed independently, but sequentially\n",
    "\n",
    "This technique uses the idea that the next model will learn from the errors of the previous model. They have an unequal probability of appearing in subsequent models, and the ones that give the largest error are more likely to appear. Predictors can be chosen from a wide range of models, such as decision trees, regression, classifiers, etc. The logic behind gradient boosting is simple and can be understood intuitively, without mathematical formalism. The first assumption of linear regression is that the sum of the outliers = 0, i.e. the outliers must be randomly distributed in the neighborhood of zero. Now let's think of deviations as errors made by our model.So, the intuition behind the gradient-busting algorithm is to iteratively apply patterns of deviations and improve predictions. Once we reach a point where the outliers have no pattern, we stop refining our model (otherwise it may lead to overfitting). Algorithmically, we minimize our loss function.\n"
   ]
  },
  {
   "cell_type": "markdown",
   "id": "9ea26c43",
   "metadata": {},
   "source": [
    "First, we build simple models and analyze the errors;\n",
    "Identify points that do not fit into the simple model;\n",
    "Add models that handle the complex cases that were identified on the initial model;\n",
    "Assemble all the models built, determining the weight of each predictor.\n",
    "https://neurohive.io/ru/osnovy-data-science/gradientyj-busting/ https://www.kaggle.com/grroverpr/gradient-boosting-simplified/"
   ]
  },
  {
   "cell_type": "markdown",
   "id": "335632da",
   "metadata": {},
   "source": [
    "Set up a linear regression or decision tree on the data\n",
    "Calculate error errors. Actual target value, minus predicted target value [e1 = y - y_predicted1]\n",
    "Set up a new model for outliers as the target variable with the same input variables [name it e1_predicted]\n",
    "Add the predicted outliers to the previous predictions [y_predicted2 = y_predicted1 + e1_predicted]\n",
    "Set up another model of the remaining outliers. i.e. [e2 = y - y_predicted2], and repeat steps 2 through 5 until they start overfitting, or the sum becomes constant. The overfitting control can be controlled by constantly checking the accuracy on the data for validation.\n"
   ]
  },
  {
   "cell_type": "markdown",
   "id": "887a2fb3",
   "metadata": {},
   "source": [
    "## GradientBoostingClassifie\n",
    "https://scikit-learn.org/stable/modules/generated/sklearn.ensemble.GradientBoostingClassifier.htm\n",
    "https://www.kaggle.com/hatone/gradientboostingclassifier-with-gridsearchcv\n",
    "https://stackabuse.com/gradient-boosting-classifiers-in-python-with-scikit-learn/\n"
   ]
  },
  {
   "cell_type": "code",
   "execution_count": 19,
   "id": "654d243f",
   "metadata": {},
   "outputs": [
    {
     "name": "stdout",
     "output_type": "stream",
     "text": [
      "Size of the test collection:  (1693, 9592)\n",
      "Size of the training collection:  (6769, 9592)\n"
     ]
    }
   ],
   "source": [
    "from sklearn.model_selection import train_test_split\n",
    "\n",
    "X_train, X_test, y_train, y_test = train_test_split(data, Y, test_size=0.2, random_state=42)\n",
    "print('Size of the test collection: ', X_test.shape)\n",
    "print('Size of the training collection: ', X_train.shape)"
   ]
  },
  {
   "cell_type": "code",
   "execution_count": null,
   "id": "adec7205",
   "metadata": {},
   "outputs": [],
   "source": []
  },
  {
   "cell_type": "code",
   "execution_count": 1,
   "id": "255d7bd6",
   "metadata": {},
   "outputs": [
    {
     "ename": "TypeError",
     "evalue": "GradientBoostingClassifier.__init__() got an unexpected keyword argument 'class_weight'",
     "output_type": "error",
     "traceback": [
      "\u001b[0;31m---------------------------------------------------------------------------\u001b[0m",
      "\u001b[0;31mTypeError\u001b[0m                                 Traceback (most recent call last)",
      "Cell \u001b[0;32mIn[1], line 3\u001b[0m\n\u001b[1;32m      1\u001b[0m \u001b[38;5;28;01mfrom\u001b[39;00m \u001b[38;5;21;01msklearn\u001b[39;00m \u001b[38;5;28;01mimport\u001b[39;00m metrics\n\u001b[1;32m      2\u001b[0m \u001b[38;5;28;01mfrom\u001b[39;00m \u001b[38;5;21;01msklearn\u001b[39;00m\u001b[38;5;21;01m.\u001b[39;00m\u001b[38;5;21;01mensemble\u001b[39;00m \u001b[38;5;28;01mimport\u001b[39;00m GradientBoostingClassifier\n\u001b[0;32m----> 3\u001b[0m gb_clf \u001b[38;5;241m=\u001b[39m \u001b[43mGradientBoostingClassifier\u001b[49m\u001b[43m(\u001b[49m\u001b[43mn_estimators\u001b[49m\u001b[38;5;241;43m=\u001b[39;49m\u001b[38;5;241;43m20\u001b[39;49m\u001b[43m,\u001b[49m\u001b[43m \u001b[49m\u001b[43mlearning_rate\u001b[49m\u001b[38;5;241;43m=\u001b[39;49m\u001b[43m \u001b[49m\u001b[38;5;241;43m0.1\u001b[39;49m\u001b[43m,\u001b[49m\u001b[43m \u001b[49m\u001b[43mmax_features\u001b[49m\u001b[38;5;241;43m=\u001b[39;49m\u001b[38;5;241;43m2\u001b[39;49m\u001b[43m,\u001b[49m\u001b[43m \u001b[49m\u001b[43mmax_depth\u001b[49m\u001b[38;5;241;43m=\u001b[39;49m\u001b[38;5;241;43m2\u001b[39;49m\u001b[43m,\u001b[49m\u001b[43m \u001b[49m\u001b[43mrandom_state\u001b[49m\u001b[38;5;241;43m=\u001b[39;49m\u001b[38;5;241;43m0\u001b[39;49m\u001b[43m,\u001b[49m\u001b[43mclass_weight\u001b[49m\u001b[38;5;241;43m=\u001b[39;49m\u001b[43m{\u001b[49m\u001b[38;5;241;43m0\u001b[39;49m\u001b[43m:\u001b[49m\u001b[38;5;241;43m1\u001b[39;49m\u001b[43m,\u001b[49m\u001b[43m \u001b[49m\u001b[38;5;241;43m1\u001b[39;49m\u001b[43m:\u001b[49m\u001b[38;5;241;43m10\u001b[39;49m\u001b[43m}\u001b[49m\u001b[43m)\u001b[49m\n\u001b[1;32m      4\u001b[0m gb_clf\u001b[38;5;241m.\u001b[39mfit(X_train, y_train)\n\u001b[1;32m      6\u001b[0m predicted \u001b[38;5;241m=\u001b[39m gb_clf\u001b[38;5;241m.\u001b[39mpredict(X_test)\n",
      "\u001b[0;31mTypeError\u001b[0m: GradientBoostingClassifier.__init__() got an unexpected keyword argument 'class_weight'"
     ]
    }
   ],
   "source": [
    "from sklearn import metrics\n",
    "from sklearn.ensemble import GradientBoostingClassifier\n",
    "gb_clf = GradientBoostingClassifier(n_estimators=20, learning_rate= 0.1, max_features=2, max_depth=2, random_state=0)\n",
    "gb_clf.fit(X_train, y_train)\n",
    "\n",
    "predicted = gb_clf.predict(X_test)\n",
    "\n",
    "# calculating the main quality metrics\n",
    "print(metrics.classification_report(y_test, predicted))\n",
    "\n",
    "print('confusion matrix')\n",
    "print(metrics.confusion_matrix(y_test, predicted))"
   ]
  },
  {
   "cell_type": "code",
   "execution_count": 3,
   "id": "df98ba5f",
   "metadata": {},
   "outputs": [
    {
     "ename": "TypeError",
     "evalue": "GridSearchCV.__init__() got an unexpected keyword argument 'class_weight'",
     "output_type": "error",
     "traceback": [
      "\u001b[0;31m---------------------------------------------------------------------------\u001b[0m",
      "\u001b[0;31mTypeError\u001b[0m                                 Traceback (most recent call last)",
      "Cell \u001b[0;32mIn[3], line 19\u001b[0m\n\u001b[1;32m      6\u001b[0m start \u001b[38;5;241m=\u001b[39m time\u001b[38;5;241m.\u001b[39mtime() \n\u001b[1;32m      8\u001b[0m parameters \u001b[38;5;241m=\u001b[39m {\n\u001b[1;32m      9\u001b[0m     \u001b[38;5;124m\"\u001b[39m\u001b[38;5;124mloss\u001b[39m\u001b[38;5;124m\"\u001b[39m:[\u001b[38;5;124m\"\u001b[39m\u001b[38;5;124mdeviance\u001b[39m\u001b[38;5;124m\"\u001b[39m],\n\u001b[1;32m     10\u001b[0m     \u001b[38;5;124m\"\u001b[39m\u001b[38;5;124mlearning_rate\u001b[39m\u001b[38;5;124m\"\u001b[39m: [\u001b[38;5;241m0.01\u001b[39m, \u001b[38;5;241m0.2\u001b[39m],\n\u001b[0;32m   (...)\u001b[0m\n\u001b[1;32m     15\u001b[0m     \u001b[38;5;124m\"\u001b[39m\u001b[38;5;124mn_estimators\u001b[39m\u001b[38;5;124m\"\u001b[39m:[\u001b[38;5;241m10\u001b[39m]\n\u001b[1;32m     16\u001b[0m     }\n\u001b[0;32m---> 19\u001b[0m clf \u001b[38;5;241m=\u001b[39m \u001b[43mGridSearchCV\u001b[49m\u001b[43m(\u001b[49m\u001b[43mGradientBoostingClassifier\u001b[49m\u001b[43m(\u001b[49m\u001b[43m)\u001b[49m\u001b[43m,\u001b[49m\u001b[43m \u001b[49m\u001b[43mparameters\u001b[49m\u001b[43m,\u001b[49m\u001b[43m \u001b[49m\u001b[43mcv\u001b[49m\u001b[38;5;241;43m=\u001b[39;49m\u001b[38;5;241;43m3\u001b[39;49m\u001b[43m,\u001b[49m\u001b[43m \u001b[49m\u001b[43mn_jobs\u001b[49m\u001b[38;5;241;43m=\u001b[39;49m\u001b[38;5;241;43m-\u001b[39;49m\u001b[38;5;241;43m1\u001b[39;49m\u001b[43m,\u001b[49m\u001b[43mclass_weight\u001b[49m\u001b[38;5;241;43m=\u001b[39;49m\u001b[43m{\u001b[49m\u001b[38;5;241;43m0\u001b[39;49m\u001b[43m:\u001b[49m\u001b[38;5;241;43m1\u001b[39;49m\u001b[43m,\u001b[49m\u001b[43m \u001b[49m\u001b[38;5;241;43m1\u001b[39;49m\u001b[43m:\u001b[49m\u001b[38;5;241;43m10\u001b[39;49m\u001b[43m}\u001b[49m\u001b[43m)\u001b[49m\n\u001b[1;32m     21\u001b[0m clf\u001b[38;5;241m.\u001b[39mfit(X_train, y_train)\n\u001b[1;32m     22\u001b[0m \u001b[38;5;28mprint\u001b[39m(\u001b[38;5;124m'\u001b[39m\u001b[38;5;124mточность: \u001b[39m\u001b[38;5;124m'\u001b[39m, clf\u001b[38;5;241m.\u001b[39mscore(X_test, y_test))\n",
      "\u001b[0;31mTypeError\u001b[0m: GridSearchCV.__init__() got an unexpected keyword argument 'class_weight'"
     ]
    }
   ],
   "source": [
    "# search for parameters\n",
    "# https://www.kaggle.com/hatone/gradientboostingclassifier-with-gridsearchcv\n",
    "import time\n",
    "from sklearn.model_selection import GridSearchCV\n",
    "\n",
    "start = time.time() \n",
    "\n",
    "parameters = {\n",
    "    \"loss\":[\"deviance\"],\n",
    "    \"learning_rate\": [0.01, 0.2],\n",
    "    \"min_samples_split\": [0.01, 0.2],\n",
    "    \"max_depth\":[3,8],\n",
    "    \"max_features\":[\"log2\",\"sqrt\"],\n",
    "    \"criterion\": ['squared_error'],\n",
    "    \"n_estimators\":[10]\n",
    "    }\n",
    "\n",
    "\n",
    "clf = GridSearchCV(GradientBoostingClassifier(), parameters, cv=3, n_jobs=-1)\n",
    "\n",
    "clf.fit(X_train, y_train)\n",
    "print('точность: ', clf.score(X_test, y_test))\n",
    "\n",
    "# getting the best parameters ans score\n",
    "print(clf.best_params_)\n",
    "print(clf.best_score_)\n",
    "\n",
    "stop = time.time()    \n",
    "print('time of execution (sec)', stop - start)"
   ]
  },
  {
   "cell_type": "code",
   "execution_count": null,
   "id": "f8b5ee5c",
   "metadata": {},
   "outputs": [],
   "source": []
  }
 ],
 "metadata": {
  "kernelspec": {
   "display_name": "Python 3",
   "language": "python",
   "name": "python3"
  },
  "language_info": {
   "codemirror_mode": {
    "name": "ipython",
    "version": 3
   },
   "file_extension": ".py",
   "mimetype": "text/x-python",
   "name": "python",
   "nbconvert_exporter": "python",
   "pygments_lexer": "ipython3",
   "version": "3.10.12"
  }
 },
 "nbformat": 4,
 "nbformat_minor": 5
}
