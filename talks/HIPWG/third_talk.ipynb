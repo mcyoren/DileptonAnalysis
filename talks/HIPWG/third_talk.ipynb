{
 "cells": [
  {
   "cell_type": "code",
   "execution_count": 14,
   "id": "b5edf688",
   "metadata": {},
   "outputs": [
    {
     "ename": "NameError",
     "evalue": "name 'stop' is not defined",
     "output_type": "error",
     "traceback": [
      "\u001b[0;31m---------------------------------------------------------------------------\u001b[0m",
      "\u001b[0;31mNameError\u001b[0m                                 Traceback (most recent call last)",
      "Cell \u001b[0;32mIn[14], line 1\u001b[0m\n\u001b[0;32m----> 1\u001b[0m \u001b[43mstop\u001b[49m\n",
      "\u001b[0;31mNameError\u001b[0m: name 'stop' is not defined"
     ]
    }
   ],
   "source": [
    "stop"
   ]
  },
  {
   "cell_type": "code",
   "execution_count": null,
   "id": "f15900e5",
   "metadata": {},
   "outputs": [
    {
     "name": "stdout",
     "output_type": "stream",
     "text": [
      "[NbConvertApp] Converting notebook ../../sngl/sngl_qa.ipynb to html\n",
      "[NbConvertApp] Writing 361005 bytes to ../../sngl/sngl_qa.html\n"
     ]
    }
   ],
   "source": [
    "!jupyter nbconvert --to html ../../sngl/sngl_qa.ipynb --no-input\n",
    "!mv ../../sngl/sngl_qa.html third_look/sngl_qa_bdt.html"
   ]
  },
  {
   "cell_type": "code",
   "execution_count": null,
   "id": "cf9fab5a",
   "metadata": {},
   "outputs": [
    {
     "name": "stdout",
     "output_type": "stream",
     "text": [
      "[NbConvertApp] Converting notebook ../../sngl/sngl_qa.ipynb to html\n",
      "[NbConvertApp] Writing 370964 bytes to ../../sngl/sngl_qa.html\n"
     ]
    }
   ],
   "source": [
    "!jupyter nbconvert --to html ../../sngl/sngl_qa.ipynb --no-input\n",
    "!mv ../../sngl/sngl_qa.html third_look/sngl_qa_pt.html"
   ]
  },
  {
   "cell_type": "code",
   "execution_count": null,
   "id": "fddc146c",
   "metadata": {},
   "outputs": [
    {
     "name": "stdout",
     "output_type": "stream",
     "text": [
      "[NbConvertApp] Converting notebook ../../sngl/rich_emcal_qa.ipynb to html\n",
      "[NbConvertApp] Writing 839733 bytes to ../../sngl/rich_emcal_qa.html\n"
     ]
    }
   ],
   "source": [
    "!jupyter nbconvert --to html ../../sngl/rich_emcal_qa.ipynb --no-input\n",
    "!mv ../../sngl/rich_emcal_qa.html third_look/m2_nocut.html"
   ]
  },
  {
   "cell_type": "code",
   "execution_count": null,
   "id": "8a655729",
   "metadata": {},
   "outputs": [
    {
     "name": "stdout",
     "output_type": "stream",
     "text": [
      "[NbConvertApp] Converting notebook ../../sngl/rich_emcal_qa.ipynb to html\n",
      "[NbConvertApp] Writing 796864 bytes to ../../sngl/rich_emcal_qa.html\n"
     ]
    }
   ],
   "source": [
    "!jupyter nbconvert --to html ../../sngl/rich_emcal_qa.ipynb --no-input\n",
    "!mv ../../sngl/rich_emcal_qa.html third_look/m2_cut.html"
   ]
  },
  {
   "cell_type": "code",
   "execution_count": null,
   "id": "e7c00fe7",
   "metadata": {},
   "outputs": [
    {
     "name": "stdout",
     "output_type": "stream",
     "text": [
      "[NbConvertApp] Converting notebook ../../sngl/DCA.ipynb to html\n",
      "[NbConvertApp] Writing 516950 bytes to ../../sngl/DCA.html\n"
     ]
    }
   ],
   "source": [
    "!jupyter nbconvert --to html ../../sngl/DCA.ipynb --no-input\n",
    "!mv ../../sngl/DCA.html third_look/DCA_sngl_sim.html"
   ]
  },
  {
   "cell_type": "code",
   "execution_count": 1,
   "id": "962165d8",
   "metadata": {},
   "outputs": [
    {
     "name": "stdout",
     "output_type": "stream",
     "text": [
      "[NbConvertApp] Converting notebook ../../flow/v2.ipynb to html\n",
      "[NbConvertApp] Writing 813364 bytes to ../../flow/v2.html\n"
     ]
    }
   ],
   "source": [
    "!jupyter nbconvert --to html ../../flow/v2.ipynb --no-input\n",
    "!mv ../../flow/v2.html third_look/v2.html"
   ]
  },
  {
   "cell_type": "code",
   "execution_count": 15,
   "id": "8c5ed923",
   "metadata": {},
   "outputs": [
    {
     "name": "stdout",
     "output_type": "stream",
     "text": [
      "[NbConvertApp] Converting notebook ../../m_ee_fit/compact_m_ee_DCA_plotter.ipynb to html\n",
      "/home/yoren/.local/lib/python3.10/site-packages/nbformat/__init__.py:96: MissingIDFieldWarning: Cell is missing an id field, this will become a hard error in future nbformat versions. You may want to use `normalize()` on your notebooks before validations (available since nbformat 5.1.4). Previous versions of nbformat are fixing this issue transparently, and will stop doing so in the future.\n",
      "  validate(nb)\n",
      "[NbConvertApp] Writing 449599 bytes to ../../m_ee_fit/compact_m_ee_DCA_plotter.html\n"
     ]
    }
   ],
   "source": [
    "!jupyter nbconvert --to html ../../m_ee_fit/compact_m_ee_DCA_plotter.ipynb --no-input\n",
    "!mv ../../m_ee_fit/compact_m_ee_DCA_plotter.html third_look/noml_inv_mass.html"
   ]
  },
  {
   "cell_type": "code",
   "execution_count": 20,
   "id": "1be471f1",
   "metadata": {},
   "outputs": [
    {
     "name": "stdout",
     "output_type": "stream",
     "text": [
      "[NbConvertApp] Converting notebook ../../m_ee_fit/m_ee_decomposition.ipynb to html\n",
      "[NbConvertApp] Writing 946181 bytes to ../../m_ee_fit/m_ee_decomposition.html\n"
     ]
    }
   ],
   "source": [
    "!jupyter nbconvert --to html ../../m_ee_fit/m_ee_decomposition.ipynb --no-input\n",
    "!mv ../../m_ee_fit/m_ee_decomposition.html third_look/ml_inv_mass.html"
   ]
  },
  {
   "cell_type": "code",
   "execution_count": 8,
   "id": "6f4f3c85",
   "metadata": {},
   "outputs": [
    {
     "name": "stdout",
     "output_type": "stream",
     "text": [
      "[NbConvertApp] Converting notebook ../../m_ee_fit/DCA_plotter1.ipynb to html\n",
      "[NbConvertApp] Writing 333112 bytes to ../../m_ee_fit/DCA_plotter1.html\n"
     ]
    }
   ],
   "source": [
    "!jupyter nbconvert --to html ../../m_ee_fit/DCA_plotter1.ipynb --no-input\n",
    "!mv ../../m_ee_fit/DCA_plotter1.html third_look/DCA.html"
   ]
  },
  {
   "cell_type": "code",
   "execution_count": 7,
   "id": "fc59bbe2",
   "metadata": {},
   "outputs": [
    {
     "name": "stdout",
     "output_type": "stream",
     "text": [
      "[NbConvertApp] Converting notebook ../../m_ee_fit/compact_m_ee_DCA_plotter.ipynb to html\n",
      "/home/yoren/.local/lib/python3.10/site-packages/nbformat/__init__.py:96: MissingIDFieldWarning: Cell is missing an id field, this will become a hard error in future nbformat versions. You may want to use `normalize()` on your notebooks before validations (available since nbformat 5.1.4). Previous versions of nbformat are fixing this issue transparently, and will stop doing so in the future.\n",
      "  validate(nb)\n",
      "[NbConvertApp] Writing 551344 bytes to ../../m_ee_fit/compact_m_ee_DCA_plotter.html\n",
      "mv: cannot stat '../../m_ee_fit/m_ee_decomposition.html': No such file or directory\n"
     ]
    }
   ],
   "source": [
    "!jupyter nbconvert --to html ../../m_ee_fit/compact_m_ee_DCA_plotter.ipynb --no-input\n",
    "!mv ../../m_ee_fit/m_ee_decomposition.html third_look/noml_result.html"
   ]
  },
  {
   "cell_type": "code",
   "execution_count": 6,
   "id": "a1d4ae12",
   "metadata": {},
   "outputs": [
    {
     "name": "stdout",
     "output_type": "stream",
     "text": [
      "[NbConvertApp] Converting notebook ../../m_ee_fit/compact_m_ee_DCA_plotter.ipynb to html\n",
      "/home/yoren/.local/lib/python3.10/site-packages/nbformat/__init__.py:96: MissingIDFieldWarning: Cell is missing an id field, this will become a hard error in future nbformat versions. You may want to use `normalize()` on your notebooks before validations (available since nbformat 5.1.4). Previous versions of nbformat are fixing this issue transparently, and will stop doing so in the future.\n",
      "  validate(nb)\n",
      "[NbConvertApp] Writing 551559 bytes to ../../m_ee_fit/compact_m_ee_DCA_plotter.html\n"
     ]
    }
   ],
   "source": [
    "!jupyter nbconvert --to html ../../m_ee_fit/compact_m_ee_DCA_plotter.ipynb --no-input\n",
    "!mv ../../m_ee_fit/compact_m_ee_DCA_plotter.html third_look/ml_result.html"
   ]
  }
 ],
 "metadata": {
  "kernelspec": {
   "display_name": "Python 3",
   "language": "python",
   "name": "python3"
  },
  "language_info": {
   "codemirror_mode": {
    "name": "ipython",
    "version": 3
   },
   "file_extension": ".py",
   "mimetype": "text/x-python",
   "name": "python",
   "nbconvert_exporter": "python",
   "pygments_lexer": "ipython3",
   "version": "3.10.12"
  }
 },
 "nbformat": 4,
 "nbformat_minor": 5
}
