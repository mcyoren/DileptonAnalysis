{
 "cells": [
  {
   "cell_type": "code",
   "execution_count": 14,
   "id": "b5edf688",
   "metadata": {},
   "outputs": [
    {
     "ename": "NameError",
     "evalue": "name 'stop' is not defined",
     "output_type": "error",
     "traceback": [
      "\u001b[0;31m---------------------------------------------------------------------------\u001b[0m",
      "\u001b[0;31mNameError\u001b[0m                                 Traceback (most recent call last)",
      "Cell \u001b[0;32mIn[14], line 1\u001b[0m\n\u001b[0;32m----> 1\u001b[0m \u001b[43mstop\u001b[49m\n",
      "\u001b[0;31mNameError\u001b[0m: name 'stop' is not defined"
     ]
    }
   ],
   "source": [
    "stop"
   ]
  },
  {
   "cell_type": "code",
   "execution_count": null,
   "id": "8c5ed923",
   "metadata": {},
   "outputs": [
    {
     "name": "stdout",
     "output_type": "stream",
     "text": [
      "[NbConvertApp] Converting notebook ../../m_ee_fit/compact_m_ee_DCA_plotter1.ipynb to html\n",
      "/home/yoren/.local/lib/python3.10/site-packages/nbformat/__init__.py:96: MissingIDFieldWarning: Cell is missing an id field, this will become a hard error in future nbformat versions. You may want to use `normalize()` on your notebooks before validations (available since nbformat 5.1.4). Previous versions of nbformat are fixing this issue transparently, and will stop doing so in the future.\n",
      "  validate(nb)\n",
      "[NbConvertApp] Writing 327317 bytes to ../../m_ee_fit/compact_m_ee_DCA_plotter1.html\n"
     ]
    }
   ],
   "source": [
    "!jupyter nbconvert --to html ../../m_ee_fit/compact_m_ee_DCA_plotter1.ipynb --no-input\n",
    "!mv ../../m_ee_fit/compact_m_ee_DCA_plotter1.html fourth_look/bg_sample1.html"
   ]
  },
  {
   "cell_type": "code",
   "execution_count": 1,
   "id": "f2ec4a50",
   "metadata": {},
   "outputs": [
    {
     "name": "stdout",
     "output_type": "stream",
     "text": [
      "[NbConvertApp] Converting notebook ../../m_ee_fit/m_ee_decomposition.ipynb to html\n",
      "[NbConvertApp] Writing 616976 bytes to ../../m_ee_fit/m_ee_decomposition.html\n"
     ]
    }
   ],
   "source": [
    "!jupyter nbconvert --to html ../../m_ee_fit/m_ee_decomposition.ipynb --no-input\n",
    "!mv ../../m_ee_fit/m_ee_decomposition.html fourth_look/cocktail.html"
   ]
  },
  {
   "cell_type": "code",
   "execution_count": null,
   "id": "fc59bbe2",
   "metadata": {},
   "outputs": [
    {
     "name": "stdout",
     "output_type": "stream",
     "text": [
      "[NbConvertApp] Converting notebook ../../m_ee_fit/compact_m_ee_DCA_plotter1.ipynb to html\n",
      "/home/yoren/.local/lib/python3.10/site-packages/nbformat/__init__.py:96: MissingIDFieldWarning: Cell is missing an id field, this will become a hard error in future nbformat versions. You may want to use `normalize()` on your notebooks before validations (available since nbformat 5.1.4). Previous versions of nbformat are fixing this issue transparently, and will stop doing so in the future.\n",
      "  validate(nb)\n",
      "[NbConvertApp] Writing 450130 bytes to ../../m_ee_fit/compact_m_ee_DCA_plotter1.html\n"
     ]
    }
   ],
   "source": [
    "!jupyter nbconvert --to html ../../m_ee_fit/compact_m_ee_DCA_plotter1.ipynb --no-input\n",
    "!mv ../../m_ee_fit/compact_m_ee_DCA_plotter1.html fourth_look/new_m_result.html"
   ]
  },
  {
   "cell_type": "code",
   "execution_count": null,
   "id": "a1d4ae12",
   "metadata": {},
   "outputs": [
    {
     "name": "stdout",
     "output_type": "stream",
     "text": [
      "[NbConvertApp] Converting notebook ../../m_ee_fit/compact_m_ee_DCA_plotter.ipynb to html\n",
      "/home/yoren/.local/lib/python3.10/site-packages/nbformat/__init__.py:96: MissingIDFieldWarning: Cell is missing an id field, this will become a hard error in future nbformat versions. You may want to use `normalize()` on your notebooks before validations (available since nbformat 5.1.4). Previous versions of nbformat are fixing this issue transparently, and will stop doing so in the future.\n",
      "  validate(nb)\n",
      "[NbConvertApp] Writing 551559 bytes to ../../m_ee_fit/compact_m_ee_DCA_plotter.html\n"
     ]
    }
   ],
   "source": [
    "!jupyter nbconvert --to html ../../m_ee_fit/compact_m_ee_DCA_plotter.ipynb --no-input\n",
    "!mv ../../m_ee_fit/compact_m_ee_DCA_plotter.html fourth_look/ml_result.html"
   ]
  }
 ],
 "metadata": {
  "kernelspec": {
   "display_name": "Python 3",
   "language": "python",
   "name": "python3"
  },
  "language_info": {
   "codemirror_mode": {
    "name": "ipython",
    "version": 3
   },
   "file_extension": ".py",
   "mimetype": "text/x-python",
   "name": "python",
   "nbconvert_exporter": "python",
   "pygments_lexer": "ipython3",
   "version": "3.10.12"
  }
 },
 "nbformat": 4,
 "nbformat_minor": 5
}
