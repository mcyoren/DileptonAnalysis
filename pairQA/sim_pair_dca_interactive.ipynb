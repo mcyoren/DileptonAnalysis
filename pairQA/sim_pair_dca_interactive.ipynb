{
 "cells": [
  {
   "cell_type": "code",
   "execution_count": 4,
   "id": "1c10f6ad",
   "metadata": {
    "ExecuteTime": {
     "end_time": "2023-06-08T12:27:26.307475757Z",
     "start_time": "2023-06-08T12:27:24.404822642Z"
    },
    "scrolled": true
   },
   "outputs": [
    {
     "name": "stderr",
     "output_type": "stream",
     "text": [
      "/home/yoren/.local/lib/python3.10/site-packages/nbformat/__init__.py:96: MissingIDFieldWarning: Cell is missing an id field, this will become a hard error in future nbformat versions. You may want to use `normalize()` on your notebooks before validations (available since nbformat 5.1.4). Previous versions of nbformat are fixing this issue transparently, and will stop doing so in the future.\n",
      "  validate(nb)\n"
     ]
    },
    {
     "name": "stdout",
     "output_type": "stream",
     "text": [
      "Welcome to JupyROOT 6.30/06\n"
     ]
    }
   ],
   "source": [
    "%run input/Format.ipynb\n",
    "import ROOT as root\n",
    "from array import array\n",
    "root.gErrorIgnoreLevel = root.kFatal\n",
    "%jsroot on"
   ]
  },
  {
   "cell_type": "code",
   "execution_count": 5,
   "id": "7d5bba4d",
   "metadata": {},
   "outputs": [],
   "source": [
    "#from ipywidgets import interact, interactive\n",
    "#import matplotlib.pyplot as plt\n",
    "#import matplotlib.image as mpimg\n",
    "import ipywidgets as widgets\n",
    "import asyncio"
   ]
  },
  {
   "cell_type": "code",
   "execution_count": 6,
   "id": "5ad245a0",
   "metadata": {},
   "outputs": [],
   "source": [
    "iOption0 = 1\n",
    "part = 0\n",
    "N_files = 4\n",
    "N_loc_files = 2"
   ]
  },
  {
   "cell_type": "code",
   "execution_count": 7,
   "id": "5bbbaabb",
   "metadata": {
    "ExecuteTime": {
     "end_time": "2023-06-08T12:27:26.414487148Z",
     "start_time": "2023-06-08T12:27:26.309822658Z"
    },
    "scrolled": true
   },
   "outputs": [],
   "source": [
    "N_centr = 5\n",
    "N_pt = 1\n",
    "#colors=[1,2,4,root.kGreen+2,root.kMagenta,root.kOrange+4,root.kGray,root.kCyan]\n",
    "central_bins = [0,100,0,20,20,40,40,60,60,80,80,100]\n",
    "pt_boarders = [0.5,1.5,1.0,2.0,0,5.0,1.0,5.0,0.5,5]\n",
    "colors = [3,1,2,4,root.kMagenta,root.kOrange+4,root.kGray,root.kCyan]\n",
    "file_path=\"../sim/output/invmass_embed/\"\n",
    "file_names=[\"bbbar_v1_10M.root\",\"ccbar_v4_12M.root\",\"phi_v9_10M.root\",\"jpsi_v6_10M.root\",\"photon_v2_50M.root\"]\n",
    "part_names = [\"b#bar{b}\",\"c#bar{c}\",\"#phi\",\"J/#psi\",\"#gamma#to ee\"]\n",
    "hist_mass_DCA_names = [\"inv_mass_dca_fg5\",\"inv_mass_dca_fg7\"]\n",
    "hist_DCA2_names = [\"DCA2_hist_0\",\"DCA2_hist_4\"]\n",
    "hist_DCA12_names=[\"DCA12_hist_0\",\"DCA12_hist_4\"]\n",
    "hists_all = [hist_mass_DCA_names,hist_DCA2_names,hist_DCA12_names]\n",
    "N_type = len(hists_all)"
   ]
  },
  {
   "cell_type": "code",
   "execution_count": 8,
   "id": "f520fc72",
   "metadata": {
    "ExecuteTime": {
     "end_time": "2023-06-08T12:27:26.835682739Z",
     "start_time": "2023-06-08T12:27:26.540353578Z"
    },
    "scrolled": true
   },
   "outputs": [],
   "source": [
    "hists_read = []\n",
    "\n",
    "for iFile in range(N_files):\n",
    "    infile = root.TFile.Open(file_path+file_names[iFile], \"read\")\n",
    "    hists_emc_read0 = []\n",
    "    for itype in range(N_type):\n",
    "        hist_select_3D0 = []\n",
    "        for ihist in range(len(hists_all[itype])):\n",
    "            hist_select_3D0.append(infile.Get(hists_all[itype][ihist]))\n",
    "            hist_select_3D0[-1].SetDirectory(root.nullptr)\n",
    "            hist_select_3D0[-1].SetName(hist_select_3D0[-1].GetName()+f\"{iFile}\")\n",
    "        hists_emc_read0.append(hist_select_3D0)\n",
    "    hists_read.append(hists_emc_read0)\n",
    "\n",
    "infile.Close()"
   ]
  },
  {
   "cell_type": "code",
   "execution_count": 9,
   "id": "72c9a2c8",
   "metadata": {},
   "outputs": [],
   "source": [
    "legends0 = []\n",
    "def single_DCA_draw(clock, x = 0.5, y = 1.5, iter= 0):\n",
    "    type_loc =1\n",
    "    N_dca_files = 4\n",
    "    N_type_loc= len(hists_all[type_loc])\n",
    "    c0 = root.TCanvas(f\"c1_{clock}\",f\"c1_{clock}\",1400,450*1)\n",
    "    c0.Divide(2,1)\n",
    "    for itype in range(N_type_loc):\n",
    "        if iter == 1 : legends0.append(root.TLegend(0.65,0.5,0.91,0.88))\n",
    "        if iter == 1 : Format_Legend(legends0[-1],0.03)\n",
    "        for iFile in range(0,N_dca_files):\n",
    "            c0.cd(itype+1)\n",
    "            ibin0 = hists_read[iFile][type_loc][itype].ProjectionZ().FindBin(x)\n",
    "            ibin1 = hists_read[iFile][type_loc][itype].ProjectionZ().FindBin(y)\n",
    "            project = hists_read[iFile][type_loc][itype].ProjectionX(hists_read[iFile][type_loc][itype].GetName()+f\"_X{iter}\",1,4,ibin0,ibin1)\n",
    "            clr = colors[iFile]\n",
    "            Format_Hist_total(project, \"DCA_{T} #mum\",  \"dN/dDCA_{T}, 1/20 #mum^{-1}\", 0.15, 0.15, 0, 0,  .07,  0.06, 21,  0, clr,  7,  clr,  1, 1.1, \"\",  1,  1-0.15*iFile)\n",
    "            project.GetXaxis().SetRange(project.FindBin(-500),project.FindBin(500))\n",
    "            #root.gPad.SetLogy()\n",
    "            if iFile == 0 :\n",
    "                project.Draw(\"H\")\n",
    "                max = project.GetMaximum()\n",
    "            else:\n",
    "                project.Scale(max/project.GetMaximum())          \n",
    "                project.Draw(\"H same\")\n",
    "            if iter == 1 : legends0[-1].AddEntry(project,part_names[iFile],\"l\")\n",
    "        legends0[-1].Draw()\n",
    "\n",
    "\n",
    "    c0.Draw()\n",
    "    #c0.SaveAs(f\"output/single_dca.png\")\n",
    "    return c0"
   ]
  },
  {
   "cell_type": "code",
   "execution_count": null,
   "id": "25b4c753",
   "metadata": {},
   "outputs": [],
   "source": [
    "legends, titles = [], []\n",
    "def pair_DCA_draw_note(clock, x = 0.5, y = 1.5, iter = 0):\n",
    "    ipt = 2\n",
    "    type_loc =0\n",
    "    N_type_loc= len(hists_all[type_loc])\n",
    "    c0 = root.TCanvas(f\"c2_{clock}\",f\"c2_{clock}\",800,450*1)\n",
    "    c0.Divide(1,1)\n",
    "    N_dca_files = 4\n",
    "    for itype in range(N_type_loc):\n",
    "        max = 0\n",
    "\n",
    "        if iter == 1 : \n",
    "            legends.append(root.TLegend(0.75,0.6,0.95,0.95))\n",
    "            Format_Legend(legends[-1],0.07)\n",
    "            titles.append(Draw_Legend_Title(0.3,0.78,0.75,0.88,\"1.0 < m_{ee} [GeV] < 2.9\",0.075))\n",
    "            titles[-1].Draw()\n",
    "            titles.append(Draw_Legend_Title(0.3,0.88,0.75,0.98,\"Au+Au mb sim\",0.075))\n",
    "        for iFile in range(0,N_dca_files):\n",
    "            c0.cd(itype+1)\n",
    "            ibinY0 = hists_read[iFile][type_loc][itype].ProjectionY().FindBin(x)\n",
    "            ibinY1 = hists_read[iFile][type_loc][itype].ProjectionY().FindBin(y)\n",
    "            ibinZ0 = hists_read[iFile][type_loc][itype].ProjectionZ().FindBin(pt_boarders[2*ipt+0])\n",
    "            ibinZ1 = hists_read[iFile][type_loc][itype].ProjectionZ().FindBin(pt_boarders[2*ipt+1])\n",
    "            project = hists_read[iFile][type_loc][itype].ProjectionX(hists_read[iFile][type_loc][itype].GetName()+f\"_X{iter}\",ibinY0,ibinY1,ibinZ0,ibinZ1)\n",
    "            clr = colors[iFile]\n",
    "            Format_Hist_total(project, \"DCA_{T} #mum\",  \"dN/dDCA_{T}, 1/20 #mum^{-1}\", 0.15, 0.15,  0.01, 0.01,  .07,  0.06, 21,  0, clr,  7,  clr,  1, 1.1, \"\",  1,  1-0.15*iFile)\n",
    "            project.GetXaxis().SetRange(project.FindBin(1),project.FindBin(1100))\n",
    "            root.gPad.SetLogy()\n",
    "            if iFile == 0 :\n",
    "                project.Draw(\"H\")\n",
    "                max = project.GetMaximum()\n",
    "            else:\n",
    "                project.Scale(max/project.GetMaximum())          \n",
    "                project.Draw(\"H same\")\n",
    "            if iter == 1 : legends[-1].AddEntry(project,part_names[iFile],\"l\")\n",
    "        legends[itype].Draw()\n",
    "        titles[itype].Draw()\n",
    "\n",
    "\n",
    "    c0.Draw()\n",
    "\n",
    "    return c0"
   ]
  },
  {
   "cell_type": "code",
   "execution_count": null,
   "id": "e260aad1",
   "metadata": {},
   "outputs": [],
   "source": [
    "legends, titles = [], []\n",
    "def pair_DCA_draw(clock, x = 0.5, y = 1.5, iter = 0):\n",
    "    ipt = 2\n",
    "    type_loc =0\n",
    "    N_type_loc= len(hists_all[type_loc])\n",
    "    c0 = root.TCanvas(f\"c2_{clock}\",f\"c2_{clock}\",1400,450*1)\n",
    "    c0.Divide(2,1)\n",
    "    N_dca_files = 4\n",
    "    for itype in range(N_type_loc):\n",
    "        max = 0\n",
    "\n",
    "        if iter == 1 : \n",
    "            legends.append(root.TLegend(0.75,0.6,0.95,0.95))\n",
    "            Format_Legend(legends[-1],0.03)\n",
    "            titles.append(Draw_Legend_Title(0.3,0.85,0.75,0.95,\"Au+Au mb sim\",0.075))\n",
    "        for iFile in range(0,N_dca_files):\n",
    "            c0.cd(itype+1)\n",
    "            ibinY0 = hists_read[iFile][type_loc][itype].ProjectionY().FindBin(x)\n",
    "            ibinY1 = hists_read[iFile][type_loc][itype].ProjectionY().FindBin(y)\n",
    "            ibinZ0 = hists_read[iFile][type_loc][itype].ProjectionZ().FindBin(pt_boarders[2*ipt+0])\n",
    "            ibinZ1 = hists_read[iFile][type_loc][itype].ProjectionZ().FindBin(pt_boarders[2*ipt+1])\n",
    "            project = hists_read[iFile][type_loc][itype].ProjectionX(hists_read[iFile][type_loc][itype].GetName()+f\"_X{iter}\",ibinY0,ibinY1,ibinZ0,ibinZ1)\n",
    "            clr = colors[iFile]\n",
    "            Format_Hist_total(project, \"DCA_{T} #mum\",  \"dN/dDCA_{T}, 1/20 #mum^{-1}\", 0.15, 0.15,  0.01, 0.01,  .07,  0.06, 21,  0, clr,  7,  clr,  1, 1.1, \"\",  1,  1-0.15*iFile)\n",
    "            project.GetXaxis().SetRange(project.FindBin(1),project.FindBin(1100))\n",
    "            root.gPad.SetLogy()\n",
    "            if iFile == 0 :\n",
    "                project.Draw(\"H\")\n",
    "                max = project.GetMaximum()\n",
    "            else:\n",
    "                project.Scale(max/project.GetMaximum())          \n",
    "                project.Draw(\"H same\")\n",
    "            if iter == 1 : legends[-1].AddEntry(project,part_names[iFile],\"l\")\n",
    "        legends[itype].Draw()\n",
    "        titles[itype].Draw()\n",
    "\n",
    "\n",
    "    c0.Draw()\n",
    "    #c0.SaveAs(f\"output/dca2.png\")\n",
    "\n",
    "    return c0"
   ]
  },
  {
   "cell_type": "code",
   "execution_count": null,
   "id": "e498efec",
   "metadata": {},
   "outputs": [],
   "source": [
    "if False:\n",
    "    c = pair_DCA_draw_kek(1,1.0,2.9,1)\n",
    "    c.Draw()\n",
    "    c.SaveAs(f\"output/dca2.pdf\")"
   ]
  },
  {
   "cell_type": "code",
   "execution_count": 12,
   "id": "9094c9f8",
   "metadata": {},
   "outputs": [],
   "source": [
    "clock = 0"
   ]
  },
  {
   "cell_type": "code",
   "execution_count": 13,
   "id": "d83257e7",
   "metadata": {},
   "outputs": [
    {
     "data": {
      "text/plain": [
       "'tbd'"
      ]
     },
     "metadata": {},
     "output_type": "display_data"
    },
    {
     "data": {
      "application/vnd.jupyter.widget-view+json": {
       "model_id": "de25fcb860544fe3be6b8fe3bcdf6302",
       "version_major": 2,
       "version_minor": 0
      },
      "text/plain": [
       "FloatRangeSlider(value=(1.0, 3.5), continuous_update=False, description='pT [GeV]:', layout=Layout(width='50%'…"
      ]
     },
     "metadata": {},
     "output_type": "display_data"
    }
   ],
   "source": [
    "\n",
    "clock += 1\n",
    "\n",
    "slider2 = widgets.FloatRangeSlider(\n",
    "    value=[1, 3.5],\n",
    "    min=0.1,\n",
    "    max=10.0,\n",
    "    step=0.1,\n",
    "    description='pT [GeV]:',\n",
    "    disabled=False,\n",
    "    continuous_update=False,\n",
    "    orientation='horizontal',\n",
    "    readout=True,\n",
    "    readout_format='.1f',\n",
    "    layout=widgets.Layout(width='50%'),\n",
    ")\n",
    "\n",
    "async def test2(slider2, output):\n",
    "    i = 0\n",
    "    while slider2.value[1] < 9:\n",
    "        i = i+1\n",
    "        await asyncio.sleep(1)\n",
    "        output.update('test2 ' + str(slider2.value) + ' - ' + str(i))\n",
    "        c1= single_DCA_draw(clock, slider2.value[0],slider2.value[1], i)\n",
    "        if i == 1: c1.Draw()\n",
    "        else : c1.Update()\n",
    "    return\n",
    "\n",
    "output = display(\"tbd\", display_id=True)\n",
    "display(slider2)\n",
    "\n",
    "\n",
    "task = asyncio.create_task(test2(slider2, output))"
   ]
  },
  {
   "cell_type": "code",
   "execution_count": 14,
   "id": "fd69052c",
   "metadata": {},
   "outputs": [],
   "source": [
    "if True: was_cancelled = task.cancel()"
   ]
  },
  {
   "cell_type": "code",
   "execution_count": 15,
   "id": "deb4cb9d",
   "metadata": {},
   "outputs": [
    {
     "data": {
      "text/plain": [
       "'tbd'"
      ]
     },
     "metadata": {},
     "output_type": "display_data"
    },
    {
     "data": {
      "application/vnd.jupyter.widget-view+json": {
       "model_id": "f23daabebd8a4085878b4a68e06033fe",
       "version_major": 2,
       "version_minor": 0
      },
      "text/plain": [
       "FloatRangeSlider(value=(1.0, 3.5), continuous_update=False, description='Mass [GeV]:', layout=Layout(width='50…"
      ]
     },
     "metadata": {},
     "output_type": "display_data"
    }
   ],
   "source": [
    "\n",
    "clock += 1\n",
    "\n",
    "slider2 = widgets.FloatRangeSlider(\n",
    "    value=[1, 3.5],\n",
    "    min=0.1,\n",
    "    max=10.0,\n",
    "    step=0.1,\n",
    "    description='Mass [GeV]:',\n",
    "    disabled=False,\n",
    "    continuous_update=False,\n",
    "    orientation='horizontal',\n",
    "    readout=True,\n",
    "    readout_format='.1f',\n",
    "    layout=widgets.Layout(width='50%'),\n",
    ")\n",
    "\n",
    "async def test2(slider2, output):\n",
    "    i = 0\n",
    "    while slider2.value[1]< 9 and slider2.value[0] < 9:\n",
    "        i = i+1\n",
    "        await asyncio.sleep(1)\n",
    "        output.update('test2 ' + str(slider2.value) + ' - ' + str(i))\n",
    "        c1= pair_DCA_draw(clock, slider2.value[0],slider2.value[1], i)\n",
    "        if i == 1: c1.Draw()\n",
    "        else : c1.Update()\n",
    "    return\n",
    "\n",
    "output = display(\"tbd\", display_id=True)\n",
    "display(slider2)\n",
    "\n",
    "\n",
    "task2 = asyncio.create_task(test2(slider2, output))"
   ]
  },
  {
   "cell_type": "code",
   "execution_count": 16,
   "id": "c7b03ce5",
   "metadata": {},
   "outputs": [],
   "source": [
    "if True: was_cancelled = task2.cancel()"
   ]
  },
  {
   "cell_type": "markdown",
   "id": "414ce213",
   "metadata": {},
   "source": [
    "import ipywidgets as widgets\n",
    "import asyncio\n",
    "\n",
    "slider = widgets.IntSlider(\n",
    "    value=5,\n",
    "    min=0,\n",
    "    max=10,\n",
    "    step=1,\n",
    "    description='Test:',\n",
    "    disabled=False,\n",
    "    continuous_update=False,\n",
    "    orientation='horizontal',\n",
    "    readout=True,\n",
    "    readout_format='d'\n",
    ")\n",
    "\n",
    "async def test(slider, output):\n",
    "    i = 0\n",
    "    while slider.value != 10:\n",
    "        i = i+1\n",
    "        await asyncio.sleep(1)\n",
    "        output.update('test ' + str(slider.value) + ' - ' + str(i))\n",
    "        x = slider.value \n",
    "        c1= single_DCA_draw(slider.value)[0]\n",
    "        if i == 1: c1.Draw()\n",
    "        else : c1.Update()\n",
    "\n",
    "output = display(\"tbd\", display_id=True)\n",
    "display(slider)\n",
    "\n",
    "#asyncio.create_task(test(slider, output))"
   ]
  }
 ],
 "metadata": {
  "kernelspec": {
   "display_name": "Python 3",
   "language": "python",
   "name": "python3"
  },
  "language_info": {
   "codemirror_mode": {
    "name": "ipython",
    "version": 3
   },
   "file_extension": ".py",
   "mimetype": "text/x-python",
   "name": "python",
   "nbconvert_exporter": "python",
   "pygments_lexer": "ipython3",
   "version": "3.10.12"
  }
 },
 "nbformat": 4,
 "nbformat_minor": 5
}
