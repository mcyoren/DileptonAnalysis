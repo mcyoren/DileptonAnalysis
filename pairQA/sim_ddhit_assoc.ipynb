{
 "cells": [
  {
   "cell_type": "code",
   "execution_count": 12,
   "id": "1c10f6ad",
   "metadata": {
    "ExecuteTime": {
     "end_time": "2023-06-08T12:27:26.307475757Z",
     "start_time": "2023-06-08T12:27:24.404822642Z"
    },
    "scrolled": true
   },
   "outputs": [],
   "source": [
    "%run input/Format.ipynb\n",
    "import ROOT as root\n",
    "from array import array\n",
    "root.gErrorIgnoreLevel = root.kFatal\n",
    "%jsroot on"
   ]
  },
  {
   "cell_type": "code",
   "execution_count": 2,
   "id": "7d5bba4d",
   "metadata": {},
   "outputs": [],
   "source": [
    "#from ipywidgets import interact, interactive\n",
    "#import matplotlib.pyplot as plt\n",
    "#import matplotlib.image as mpimg\n",
    "import ipywidgets as widgets\n",
    "import asyncio"
   ]
  },
  {
   "cell_type": "code",
   "execution_count": 3,
   "id": "5ad245a0",
   "metadata": {},
   "outputs": [],
   "source": [
    "iOption0 = 1\n",
    "part = 0\n",
    "N_loc_files = 2"
   ]
  },
  {
   "cell_type": "code",
   "execution_count": 4,
   "id": "5bbbaabb",
   "metadata": {
    "ExecuteTime": {
     "end_time": "2023-06-08T12:27:26.414487148Z",
     "start_time": "2023-06-08T12:27:26.309822658Z"
    },
    "scrolled": true
   },
   "outputs": [],
   "source": [
    "N_centr = 5\n",
    "N_pt = 1\n",
    "#colors=[1,2,4,root.kGreen+2,root.kMagenta,root.kOrange+4,root.kGray,root.kCyan]\n",
    "central_bins = [0,100,0,20,20,40,40,60,60,80,80,100]\n",
    "pt_boarders = [0.5,1.5,1.0,2.0,0.5,5.0,1.0,5.0,0.5,5]\n",
    "colors = [3,1,2,4,root.kMagenta,root.kOrange+4,root.kGray,root.kCyan]\n",
    "file_names=[\"../QA/input/NewHadron/missalign_hadron_new8_rg0-8.root\",\"../sim/output/embed/piminus_10M_embed_hagedorn_v0_ddhit.root\"]\n",
    "part_names = [\"real\",\"sim\",\"#phi\",\"J/#psi\",\"#gamma#to ee\"]\n",
    "hist_dphi_names = [\"dphi_hist_el_dynamic_2\"]\n",
    "hist_dthe_names = [\"dthe_hist_el_dynamic_2\"]\n",
    "hist_sdphi_names=[\"sdphi_hist_el_dynamic_2\"]\n",
    "hist_sdthe_names=[\"sdthe_hist_el_dynamic_2\"]\n",
    "hists_all = [hist_dphi_names,hist_dthe_names,hist_sdphi_names,hist_sdthe_names]\n",
    "N_type = len(hists_all)\n",
    "names = [\"#phi\",\"#theta\"]"
   ]
  },
  {
   "cell_type": "code",
   "execution_count": 5,
   "id": "f520fc72",
   "metadata": {
    "ExecuteTime": {
     "end_time": "2023-06-08T12:27:26.835682739Z",
     "start_time": "2023-06-08T12:27:26.540353578Z"
    },
    "scrolled": true
   },
   "outputs": [],
   "source": [
    "hists_read = []\n",
    "\n",
    "N_files = len(file_names)\n",
    "for iFile in range(N_files):\n",
    "    infile = root.TFile.Open(file_names[iFile], \"read\")\n",
    "    hists_emc_read0 = []\n",
    "    for itype in range(N_type):\n",
    "        hist_select_3D0 = []\n",
    "        for ihist in range(len(hists_all[itype])):\n",
    "            hist_select_3D0.append(infile.Get(hists_all[itype][ihist]))\n",
    "            hist_select_3D0[-1].SetDirectory(root.nullptr)\n",
    "            hist_select_3D0[-1].SetName(hist_select_3D0[-1].GetName()+f\"{iFile}\")\n",
    "        hists_emc_read0.append(hist_select_3D0)\n",
    "    hists_read.append(hists_emc_read0)\n",
    "\n",
    "infile.Close()"
   ]
  },
  {
   "cell_type": "code",
   "execution_count": 6,
   "id": "e260aad1",
   "metadata": {},
   "outputs": [],
   "source": [
    "legends, titles, leftline, rightline = [], [], [], []\n",
    "def pair_DCA_draw(clock, x = 0.5, y = 1.5, phithe = 0, data = 0, iter = 0):\n",
    "    ipt = 2\n",
    "    type_loc =phithe\n",
    "    c0 = root.TCanvas(f\"c2_{clock}\",f\"c2_{clock}\",1400,450*1)\n",
    "    c0.Divide(2,1)\n",
    "    N_dca_files = 1\n",
    "    for itype in range(1):\n",
    "        max = 0\n",
    "\n",
    "        if iter == 1 : \n",
    "            legends.append(root.TLegend(0.75,0.55,0.95,0.95))\n",
    "            Format_Legend(legends[-1],0.075)\n",
    "            titles.append(Draw_Legend_Title(0.2,0.85,0.55,0.95,\"0-93% Au+Au\",0.075))\n",
    "        for iFile in range(0+data,N_dca_files+data):\n",
    "            c0.cd(itype+1)\n",
    "            #ibinZ0 = hists_read[iFile][type_loc][itype].ProjectionZ().FindBin(pt_boarders[2*ipt+0])\n",
    "            #ibinZ1 = hists_read[iFile][type_loc][itype].ProjectionZ().FindBin(pt_boarders[2*ipt+1])\n",
    "            #hists_read[iFile][type_loc][itype].GetZaxis().SetRange(ibinZ0,ibinZ1)\n",
    "            project1= hists_read[iFile][type_loc][itype].Project3D(\"yx\")\n",
    "            project1.SetName(f\"proj__{iFile}_{itype}_{clock}_{iter}\")\n",
    "            clr = colors[iFile]\n",
    "            Format_Hist_total(project1, f\"{names[phithe]} in L1, rad\",  f\"{names[phithe]} in L0, rad\", 0.15, 0.15,  0.01, 0.01,  .07,  0.06, 21,  0, clr,  7,  clr,  1, 1.1, \"\",  1,  1-0.15*iFile)\n",
    "            if iFile == data :\n",
    "                project1.Draw(\"colz\")\n",
    "                max = project1.GetMaximum()\n",
    "            else:\n",
    "                project1.Scale(max/project1.GetMaximum())          \n",
    "                project1.Draw(\"H same\")\n",
    "            if iter == 1 :\n",
    "                leftline.append(root.TF1(f\"lefty_{iFile}_{itype}_{clock}_{iter}\",\"((x<[1])?pow(2,20)*(x-[0]):pow(2,20)*(x-0.6))\",-0.1,0.1))\n",
    "                rightline.append(root.TF1(f\"right_{iFile}_{itype}_{clock}_{iter}\",\"pow(2,20)*(x-[0])\",-0.1,0.1))\n",
    "                Format_Func(leftline[-1], 3,root.kViolet,1,0.5)\n",
    "                leftline[-1].SetFillColor(root.kViolet)\n",
    "                leftline[-1].SetFillStyle(3001)\n",
    "                Format_Func(rightline[-1],3,root.kViolet,1,0.5)\n",
    "            leftline[-1].SetParameter(0,x)\n",
    "            leftline[-1].SetParameter(1,y)\n",
    "            leftline[-1].Draw(\"E3 same\")\n",
    "            rightline[-1].SetParameter(0,y)\n",
    "            #rightline[-1].Draw(\"same\")\n",
    "\n",
    "\n",
    "            c0.cd(itype+2)\n",
    "            ibinY0 = hists_read[iFile][type_loc][itype].ProjectionY().FindBin(x)\n",
    "            ibinY1 = hists_read[iFile][type_loc][itype].ProjectionY().FindBin(y)\n",
    "            ibinZ0 = hists_read[iFile][type_loc][itype].ProjectionZ().FindBin(pt_boarders[2*ipt+0])\n",
    "            ibinZ1 = hists_read[iFile][type_loc][itype].ProjectionZ().FindBin(pt_boarders[2*ipt+1])\n",
    "            project = hists_read[iFile][type_loc][itype].ProjectionX(hists_read[iFile][type_loc][itype].GetName()+f\"_X{iter}\",ibinY0,ibinY1,ibinZ0,ibinZ1)\n",
    "            clr = colors[iFile]\n",
    "            Format_Hist_total(project, f\"{names[phithe]}\"+\"_{L0}, rad\",  f\"dN/d{names[phithe]}, \"+\"rad^{-1}\", 0.15, 0.15,  0.01, 0.01,  .07,  0.06, 21,  0, clr,  7,  clr,  1, 1.1, \"\",  1,  1-0.15*iFile)\n",
    "            #project.GetXaxis().SetRange(project.FindBin(1),project.FindBin(1100))\n",
    "            #root.gPad.SetLogy()\n",
    "            if iFile == data :\n",
    "                project.Draw(\"H\")\n",
    "                max = project.GetMaximum()\n",
    "            else:\n",
    "                project.Scale(max/project.GetMaximum())          \n",
    "                project.Draw(\"H same\")\n",
    "            if iter == 1 : legends[-1].AddEntry(project,part_names[iFile],\"l\")\n",
    "        legends[itype].Draw()\n",
    "        titles[itype].Draw()\n",
    "\n",
    "\n",
    "    c0.Draw()\n",
    "    #c0.SaveAs(f\"output/dca2.png\")\n",
    "\n",
    "    return c0"
   ]
  },
  {
   "cell_type": "code",
   "execution_count": 7,
   "id": "e498efec",
   "metadata": {},
   "outputs": [],
   "source": [
    "if False:\n",
    "    c = pair_DCA_draw(1,-0.005,-0.001,0,0,1)\n",
    "    c.Draw()"
   ]
  },
  {
   "cell_type": "code",
   "execution_count": 8,
   "id": "9094c9f8",
   "metadata": {},
   "outputs": [],
   "source": [
    "clock = 0"
   ]
  },
  {
   "cell_type": "code",
   "execution_count": 9,
   "id": "deb4cb9d",
   "metadata": {},
   "outputs": [
    {
     "data": {
      "text/plain": [
       "'phi in L1: 0.00'"
      ]
     },
     "metadata": {},
     "output_type": "display_data"
    },
    {
     "data": {
      "application/vnd.jupyter.widget-view+json": {
       "model_id": "3723940f7c6146e5b25e1fdc74a0a274",
       "version_major": 2,
       "version_minor": 0
      },
      "text/plain": [
       "FloatRangeSlider(value=(-0.05, 0.05), continuous_update=False, description='Mass [GeV]:', layout=Layout(width=…"
      ]
     },
     "metadata": {},
     "output_type": "display_data"
    }
   ],
   "source": [
    "\n",
    "clock += 1\n",
    "\n",
    "slider2 = widgets.FloatRangeSlider(\n",
    "    value=[-0.05, 0.05],\n",
    "    min=-0.099,\n",
    "    max= 0.099,\n",
    "    step=0.001,\n",
    "    description='Mass [GeV]:',\n",
    "    disabled=False,\n",
    "    continuous_update=False,\n",
    "    orientation='horizontal',\n",
    "    readout=True,\n",
    "    readout_format='.3f',\n",
    "    layout=widgets.Layout(width='75%'),\n",
    ")\n",
    "\n",
    "async def test2(slider2, output, phithe=0, data = 0):\n",
    "    i = 0\n",
    "    while slider2.value[0]< 0.09 and slider2.value[1] < 0.09:\n",
    "        i = i+1\n",
    "        await asyncio.sleep(1)\n",
    "        output.update('phi in L1 ' + str(round(0.5*(slider2.value[0]+slider2.value[1]),3)) )\n",
    "        c1= pair_DCA_draw(clock, slider2.value[0],slider2.value[1],phithe, data, i)\n",
    "        if i == 1: c1.Draw()\n",
    "        else : c1.Update()\n",
    "    return\n",
    "\n",
    "output = display(\"phi in L1: 0.00\", display_id=True)\n",
    "display(slider2)\n",
    "\n",
    "\n",
    "task2 = asyncio.create_task(test2(slider2, output, 0, 0))"
   ]
  },
  {
   "cell_type": "code",
   "execution_count": 10,
   "id": "c7b03ce5",
   "metadata": {},
   "outputs": [],
   "source": [
    "if True: was_cancelled = task2.cancel()"
   ]
  },
  {
   "cell_type": "code",
   "execution_count": 11,
   "id": "3333cfea",
   "metadata": {},
   "outputs": [],
   "source": [
    "#!jupyter nbconvert --to html sim_ddhit_assoc.ipynb --HTMLExporter.theme=dark --no-input"
   ]
  }
 ],
 "metadata": {
  "kernelspec": {
   "display_name": "Python 3",
   "language": "python",
   "name": "python3"
  },
  "language_info": {
   "codemirror_mode": {
    "name": "ipython",
    "version": 3
   },
   "file_extension": ".py",
   "mimetype": "text/x-python",
   "name": "python",
   "nbconvert_exporter": "python",
   "pygments_lexer": "ipython3",
   "version": "3.10.12"
  }
 },
 "nbformat": 4,
 "nbformat_minor": 5
}
